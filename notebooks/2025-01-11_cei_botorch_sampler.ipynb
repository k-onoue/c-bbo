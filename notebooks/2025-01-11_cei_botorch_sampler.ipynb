{
 "cells": [
  {
   "cell_type": "code",
   "execution_count": 1,
   "metadata": {},
   "outputs": [
    {
     "name": "stderr",
     "output_type": "stream",
     "text": [
      "/var/folders/_b/b62kq0490fn2ptq7m4mbp8yr0000gp/T/ipykernel_96161/3361237380.py:23: ExperimentalWarning: BoTorchSampler is experimental (supported from v2.4.0). The interface can change in the future.\n",
      "  sampler = BoTorchSampler(constraints_func=constraints_func, n_startup_trials=10)\n",
      "[I 2025-01-11 00:46:21,929] A new study created in memory with name: no-name-989c4c02-ef6d-4672-9a1c-cbbce6f4d575\n",
      "[I 2025-01-11 00:46:21,931] Trial 0 finished with value: -22.870966898274354 and parameters: {'x': 1.8977556558256181, 'y': -4.389702765456476}. Best is trial 0 with value: -22.870966898274354.\n",
      "[I 2025-01-11 00:46:21,931] Trial 1 finished with value: -13.927177307568064 and parameters: {'x': 1.3526023430051615, 'y': -3.4781667885920897}. Best is trial 1 with value: -13.927177307568064.\n",
      "[I 2025-01-11 00:46:21,932] Trial 2 finished with value: -15.95103702330148 and parameters: {'x': -3.259972747081936, 'y': 2.3072959739887153}. Best is trial 1 with value: -13.927177307568064.\n",
      "[I 2025-01-11 00:46:21,932] Trial 3 finished with value: -4.478264305459329 and parameters: {'x': 0.7887497583562875, 'y': -1.9637052029651059}. Best is trial 3 with value: -4.478264305459329.\n",
      "[I 2025-01-11 00:46:21,933] Trial 4 finished with value: -24.98497765556594 and parameters: {'x': -4.785559549514092, 'y': 1.4433978847221651}. Best is trial 3 with value: -4.478264305459329.\n",
      "[I 2025-01-11 00:46:21,933] Trial 5 finished with value: -29.145281310446006 and parameters: {'x': 4.508595525988839, 'y': -2.9694860992231353}. Best is trial 3 with value: -4.478264305459329.\n",
      "[I 2025-01-11 00:46:21,934] Trial 6 finished with value: -4.060751005821613 and parameters: {'x': -0.8687294395976153, 'y': -1.8182574533321805}. Best is trial 6 with value: -4.060751005821613.\n",
      "[I 2025-01-11 00:46:21,934] Trial 7 finished with value: -36.198963802742156 and parameters: {'x': 4.038884742948027, 'y': 4.4594140686780595}. Best is trial 6 with value: -4.060751005821613.\n",
      "[I 2025-01-11 00:46:21,935] Trial 8 finished with value: -16.916718652884 and parameters: {'x': -0.8600061344270915, 'y': -4.022077585232758}. Best is trial 6 with value: -4.060751005821613.\n",
      "[I 2025-01-11 00:46:21,935] Trial 9 finished with value: -21.032770166830616 and parameters: {'x': -2.8739075781206513, 'y': 3.5739929209850585}. Best is trial 6 with value: -4.060751005821613.\n",
      "/Users/keisukeonoue/ws/constrained_BO_v3/bo-env_v3/lib/python3.12/site-packages/optuna_integration/botorch/botorch.py:1101: ExperimentalWarning: logei_candidates_func is experimental (supported from v3.3.0). The interface can change in the future.\n",
      "  candidates = self._candidates_func(\n",
      "[I 2025-01-11 00:46:22,998] Trial 10 finished with value: -0.32860498407585365 and parameters: {'x': -0.3255321865478784, 'y': -0.47184084138320515}. Best is trial 10 with value: -0.32860498407585365.\n",
      "/Users/keisukeonoue/ws/constrained_BO_v3/bo-env_v3/lib/python3.12/site-packages/optuna_integration/botorch/botorch.py:1101: ExperimentalWarning: logei_candidates_func is experimental (supported from v3.3.0). The interface can change in the future.\n",
      "  candidates = self._candidates_func(\n",
      "[I 2025-01-11 00:46:23,456] Trial 11 finished with value: -50.0 and parameters: {'x': -5.0, 'y': -5.0}. Best is trial 10 with value: -0.32860498407585365.\n",
      "/Users/keisukeonoue/ws/constrained_BO_v3/bo-env_v3/lib/python3.12/site-packages/optuna_integration/botorch/botorch.py:1101: ExperimentalWarning: logei_candidates_func is experimental (supported from v3.3.0). The interface can change in the future.\n",
      "  candidates = self._candidates_func(\n",
      "[I 2025-01-11 00:46:24,119] Trial 12 finished with value: -0.20905008300632086 and parameters: {'x': -0.4154944227236248, 'y': 0.19082575217166742}. Best is trial 12 with value: -0.20905008300632086.\n",
      "/Users/keisukeonoue/ws/constrained_BO_v3/bo-env_v3/lib/python3.12/site-packages/optuna_integration/botorch/botorch.py:1101: ExperimentalWarning: logei_candidates_func is experimental (supported from v3.3.0). The interface can change in the future.\n",
      "  candidates = self._candidates_func(\n",
      "[I 2025-01-11 00:46:24,871] Trial 13 finished with value: -0.011018988186276363 and parameters: {'x': 0.104956360072058, 'y': -0.0017750117466857063}. Best is trial 13 with value: -0.011018988186276363.\n",
      "/Users/keisukeonoue/ws/constrained_BO_v3/bo-env_v3/lib/python3.12/site-packages/optuna_integration/botorch/botorch.py:1101: ExperimentalWarning: logei_candidates_func is experimental (supported from v3.3.0). The interface can change in the future.\n",
      "  candidates = self._candidates_func(\n",
      "[I 2025-01-11 00:46:25,360] Trial 14 finished with value: -0.0028038069020370187 and parameters: {'x': -0.0223027183486062, 'y': -0.04802494826962089}. Best is trial 14 with value: -0.0028038069020370187.\n",
      "/Users/keisukeonoue/ws/constrained_BO_v3/bo-env_v3/lib/python3.12/site-packages/optuna_integration/botorch/botorch.py:1101: ExperimentalWarning: logei_candidates_func is experimental (supported from v3.3.0). The interface can change in the future.\n",
      "  candidates = self._candidates_func(\n",
      "[I 2025-01-11 00:46:25,942] Trial 15 finished with value: -0.0034551286845675615 and parameters: {'x': -0.03236927638012688, 'y': -0.04906484109007714}. Best is trial 14 with value: -0.0028038069020370187.\n",
      "/Users/keisukeonoue/ws/constrained_BO_v3/bo-env_v3/lib/python3.12/site-packages/optuna_integration/botorch/botorch.py:1101: ExperimentalWarning: logei_candidates_func is experimental (supported from v3.3.0). The interface can change in the future.\n",
      "  candidates = self._candidates_func(\n",
      "[I 2025-01-11 00:46:26,419] Trial 16 finished with value: -0.005066607230109337 and parameters: {'x': -0.047206669410374325, 'y': -0.05327417379264521}. Best is trial 14 with value: -0.0028038069020370187.\n",
      "/Users/keisukeonoue/ws/constrained_BO_v3/bo-env_v3/lib/python3.12/site-packages/optuna_integration/botorch/botorch.py:1101: ExperimentalWarning: logei_candidates_func is experimental (supported from v3.3.0). The interface can change in the future.\n",
      "  candidates = self._candidates_func(\n",
      "[I 2025-01-11 00:46:27,024] Trial 17 finished with value: -0.0057012018822412466 and parameters: {'x': -0.053129542598208346, 'y': -0.05365122165940317}. Best is trial 14 with value: -0.0028038069020370187.\n",
      "/Users/keisukeonoue/ws/constrained_BO_v3/bo-env_v3/lib/python3.12/site-packages/optuna_integration/botorch/botorch.py:1101: ExperimentalWarning: logei_candidates_func is experimental (supported from v3.3.0). The interface can change in the future.\n",
      "  candidates = self._candidates_func(\n",
      "[I 2025-01-11 00:46:27,711] Trial 18 finished with value: -0.004314459508953528 and parameters: {'x': -0.04880450010204829, 'y': -0.04396112235535732}. Best is trial 14 with value: -0.0028038069020370187.\n",
      "/Users/keisukeonoue/ws/constrained_BO_v3/bo-env_v3/lib/python3.12/site-packages/optuna_integration/botorch/botorch.py:1101: ExperimentalWarning: logei_candidates_func is experimental (supported from v3.3.0). The interface can change in the future.\n",
      "  candidates = self._candidates_func(\n",
      "[I 2025-01-11 00:46:28,275] Trial 19 finished with value: -0.004880954884609502 and parameters: {'x': -0.052311577516839236, 'y': -0.04630824702263325}. Best is trial 14 with value: -0.0028038069020370187.\n",
      "/Users/keisukeonoue/ws/constrained_BO_v3/bo-env_v3/lib/python3.12/site-packages/optuna_integration/botorch/botorch.py:1101: ExperimentalWarning: logei_candidates_func is experimental (supported from v3.3.0). The interface can change in the future.\n",
      "  candidates = self._candidates_func(\n",
      "[I 2025-01-11 00:46:28,719] Trial 20 finished with value: -0.02998370467218002 and parameters: {'x': -0.0017666945662861977, 'y': 0.1731490209689026}. Best is trial 14 with value: -0.0028038069020370187.\n",
      "/Users/keisukeonoue/ws/constrained_BO_v3/bo-env_v3/lib/python3.12/site-packages/optuna_integration/botorch/botorch.py:1101: ExperimentalWarning: logei_candidates_func is experimental (supported from v3.3.0). The interface can change in the future.\n",
      "  candidates = self._candidates_func(\n",
      "[I 2025-01-11 00:46:29,216] Trial 21 finished with value: -0.005981875353544025 and parameters: {'x': -0.05813278666653243, 'y': -0.05101425749658084}. Best is trial 14 with value: -0.0028038069020370187.\n",
      "/Users/keisukeonoue/ws/constrained_BO_v3/bo-env_v3/lib/python3.12/site-packages/optuna_integration/botorch/botorch.py:1101: ExperimentalWarning: logei_candidates_func is experimental (supported from v3.3.0). The interface can change in the future.\n",
      "  candidates = self._candidates_func(\n",
      "[I 2025-01-11 00:46:29,689] Trial 22 finished with value: -0.0050780029589803915 and parameters: {'x': -0.05473193126216369, 'y': -0.04563352560666534}. Best is trial 14 with value: -0.0028038069020370187.\n",
      "/Users/keisukeonoue/ws/constrained_BO_v3/bo-env_v3/lib/python3.12/site-packages/optuna_integration/botorch/botorch.py:1101: ExperimentalWarning: logei_candidates_func is experimental (supported from v3.3.0). The interface can change in the future.\n",
      "  candidates = self._candidates_func(\n",
      "[I 2025-01-11 00:46:30,121] Trial 23 finished with value: -0.005558349282747118 and parameters: {'x': -0.0643228958398856, 'y': -0.03769501762193972}. Best is trial 14 with value: -0.0028038069020370187.\n",
      "/Users/keisukeonoue/ws/constrained_BO_v3/bo-env_v3/lib/python3.12/site-packages/optuna_integration/botorch/botorch.py:1101: ExperimentalWarning: logei_candidates_func is experimental (supported from v3.3.0). The interface can change in the future.\n",
      "  candidates = self._candidates_func(\n",
      "[I 2025-01-11 00:46:30,526] Trial 24 finished with value: -0.004470292464902428 and parameters: {'x': -0.05762279804707138, 'y': -0.03391025818434379}. Best is trial 14 with value: -0.0028038069020370187.\n",
      "/Users/keisukeonoue/ws/constrained_BO_v3/bo-env_v3/lib/python3.12/site-packages/optuna_integration/botorch/botorch.py:1101: ExperimentalWarning: logei_candidates_func is experimental (supported from v3.3.0). The interface can change in the future.\n",
      "  candidates = self._candidates_func(\n",
      "[I 2025-01-11 00:46:30,944] Trial 25 finished with value: -0.004910218505592643 and parameters: {'x': -0.06563912953874151, 'y': -0.024530046453053345}. Best is trial 14 with value: -0.0028038069020370187.\n",
      "/Users/keisukeonoue/ws/constrained_BO_v3/bo-env_v3/lib/python3.12/site-packages/optuna_integration/botorch/botorch.py:1101: ExperimentalWarning: logei_candidates_func is experimental (supported from v3.3.0). The interface can change in the future.\n",
      "  candidates = self._candidates_func(\n",
      "[I 2025-01-11 00:46:31,322] Trial 26 finished with value: -0.004594835663783725 and parameters: {'x': -0.06409088830475262, 'y': -0.022072464748900344}. Best is trial 14 with value: -0.0028038069020370187.\n",
      "/Users/keisukeonoue/ws/constrained_BO_v3/bo-env_v3/lib/python3.12/site-packages/optuna_integration/botorch/botorch.py:1101: ExperimentalWarning: logei_candidates_func is experimental (supported from v3.3.0). The interface can change in the future.\n",
      "  candidates = self._candidates_func(\n",
      "[I 2025-01-11 00:46:31,774] Trial 27 finished with value: -0.004743794122506711 and parameters: {'x': 0.023752533782568364, 'y': -0.06464991308126145}. Best is trial 14 with value: -0.0028038069020370187.\n",
      "/Users/keisukeonoue/ws/constrained_BO_v3/bo-env_v3/lib/python3.12/site-packages/optuna_integration/botorch/botorch.py:1101: ExperimentalWarning: logei_candidates_func is experimental (supported from v3.3.0). The interface can change in the future.\n",
      "  candidates = self._candidates_func(\n",
      "[I 2025-01-11 00:46:32,138] Trial 28 finished with value: -0.004847330346791328 and parameters: {'x': -0.0687110261398356, 'y': -0.01123054912291277}. Best is trial 14 with value: -0.0028038069020370187.\n",
      "/Users/keisukeonoue/ws/constrained_BO_v3/bo-env_v3/lib/python3.12/site-packages/optuna_integration/botorch/botorch.py:1101: ExperimentalWarning: logei_candidates_func is experimental (supported from v3.3.0). The interface can change in the future.\n",
      "  candidates = self._candidates_func(\n",
      "[I 2025-01-11 00:46:32,624] Trial 29 finished with value: -0.009458616288796419 and parameters: {'x': -0.032744354799857156, 'y': 0.09157741816374543}. Best is trial 14 with value: -0.0028038069020370187.\n",
      "/Users/keisukeonoue/ws/constrained_BO_v3/bo-env_v3/lib/python3.12/site-packages/optuna_integration/botorch/botorch.py:1101: ExperimentalWarning: logei_candidates_func is experimental (supported from v3.3.0). The interface can change in the future.\n",
      "  candidates = self._candidates_func(\n",
      "[I 2025-01-11 00:46:33,214] Trial 30 finished with value: -0.005025397888079852 and parameters: {'x': -0.055750020280892265, 'y': -0.04378736263763727}. Best is trial 14 with value: -0.0028038069020370187.\n",
      "/Users/keisukeonoue/ws/constrained_BO_v3/bo-env_v3/lib/python3.12/site-packages/optuna_integration/botorch/botorch.py:1101: ExperimentalWarning: logei_candidates_func is experimental (supported from v3.3.0). The interface can change in the future.\n",
      "  candidates = self._candidates_func(\n",
      "[I 2025-01-11 00:46:33,710] Trial 31 finished with value: -0.011194684941486958 and parameters: {'x': 0.0915577702848136, 'y': -0.053026970891804304}. Best is trial 14 with value: -0.0028038069020370187.\n",
      "/Users/keisukeonoue/ws/constrained_BO_v3/bo-env_v3/lib/python3.12/site-packages/optuna_integration/botorch/botorch.py:1101: ExperimentalWarning: logei_candidates_func is experimental (supported from v3.3.0). The interface can change in the future.\n",
      "  candidates = self._candidates_func(\n",
      "[I 2025-01-11 00:46:34,240] Trial 32 finished with value: -0.0046313102500521565 and parameters: {'x': -0.06427526710981102, 'y': -0.022360686215199266}. Best is trial 14 with value: -0.0028038069020370187.\n",
      "/Users/keisukeonoue/ws/constrained_BO_v3/bo-env_v3/lib/python3.12/site-packages/optuna_integration/botorch/botorch.py:1101: ExperimentalWarning: logei_candidates_func is experimental (supported from v3.3.0). The interface can change in the future.\n",
      "  candidates = self._candidates_func(\n",
      "[I 2025-01-11 00:46:34,709] Trial 33 finished with value: -0.004180463753071716 and parameters: {'x': -0.057097146063703086, 'y': -0.03033775971379349}. Best is trial 14 with value: -0.0028038069020370187.\n",
      "/Users/keisukeonoue/ws/constrained_BO_v3/bo-env_v3/lib/python3.12/site-packages/optuna_integration/botorch/botorch.py:1101: ExperimentalWarning: logei_candidates_func is experimental (supported from v3.3.0). The interface can change in the future.\n",
      "  candidates = self._candidates_func(\n",
      "[I 2025-01-11 00:46:35,106] Trial 34 finished with value: -0.013465184358871337 and parameters: {'x': -0.017927241954828865, 'y': 0.11464640576470053}. Best is trial 14 with value: -0.0028038069020370187.\n",
      "/Users/keisukeonoue/ws/constrained_BO_v3/bo-env_v3/lib/python3.12/site-packages/optuna_integration/botorch/botorch.py:1101: ExperimentalWarning: logei_candidates_func is experimental (supported from v3.3.0). The interface can change in the future.\n",
      "  candidates = self._candidates_func(\n",
      "[I 2025-01-11 00:46:35,489] Trial 35 finished with value: -0.004595635415964994 and parameters: {'x': -0.05495400780403248, 'y': -0.03969499265951981}. Best is trial 14 with value: -0.0028038069020370187.\n",
      "/Users/keisukeonoue/ws/constrained_BO_v3/bo-env_v3/lib/python3.12/site-packages/optuna_integration/botorch/botorch.py:1101: ExperimentalWarning: logei_candidates_func is experimental (supported from v3.3.0). The interface can change in the future.\n",
      "  candidates = self._candidates_func(\n",
      "[I 2025-01-11 00:46:35,934] Trial 36 finished with value: -0.0038056898218275835 and parameters: {'x': -0.05523709251184883, 'y': -0.02746913600142964}. Best is trial 14 with value: -0.0028038069020370187.\n",
      "/Users/keisukeonoue/ws/constrained_BO_v3/bo-env_v3/lib/python3.12/site-packages/optuna_integration/botorch/botorch.py:1101: ExperimentalWarning: logei_candidates_func is experimental (supported from v3.3.0). The interface can change in the future.\n",
      "  candidates = self._candidates_func(\n",
      "[I 2025-01-11 00:46:36,416] Trial 37 finished with value: -0.003155278650602353 and parameters: {'x': -0.04912137975646935, 'y': -0.0272464438307658}. Best is trial 14 with value: -0.0028038069020370187.\n",
      "/Users/keisukeonoue/ws/constrained_BO_v3/bo-env_v3/lib/python3.12/site-packages/optuna_integration/botorch/botorch.py:1101: ExperimentalWarning: logei_candidates_func is experimental (supported from v3.3.0). The interface can change in the future.\n",
      "  candidates = self._candidates_func(\n",
      "[I 2025-01-11 00:46:36,756] Trial 38 finished with value: -0.007441161930363359 and parameters: {'x': 0.071962307548735, 'y': -0.047566671342702094}. Best is trial 14 with value: -0.0028038069020370187.\n",
      "/Users/keisukeonoue/ws/constrained_BO_v3/bo-env_v3/lib/python3.12/site-packages/optuna_integration/botorch/botorch.py:1101: ExperimentalWarning: logei_candidates_func is experimental (supported from v3.3.0). The interface can change in the future.\n",
      "  candidates = self._candidates_func(\n",
      "[I 2025-01-11 00:46:37,176] Trial 39 finished with value: -0.003415093372080054 and parameters: {'x': -0.05830903732372672, 'y': -0.0038922408019415045}. Best is trial 14 with value: -0.0028038069020370187.\n",
      "/Users/keisukeonoue/ws/constrained_BO_v3/bo-env_v3/lib/python3.12/site-packages/optuna_integration/botorch/botorch.py:1101: ExperimentalWarning: logei_candidates_func is experimental (supported from v3.3.0). The interface can change in the future.\n",
      "  candidates = self._candidates_func(\n",
      "[I 2025-01-11 00:46:37,579] Trial 40 finished with value: -0.002934264586466475 and parameters: {'x': -0.04998426847119131, 'y': -0.020876721291101852}. Best is trial 14 with value: -0.0028038069020370187.\n",
      "/Users/keisukeonoue/ws/constrained_BO_v3/bo-env_v3/lib/python3.12/site-packages/optuna_integration/botorch/botorch.py:1101: ExperimentalWarning: logei_candidates_func is experimental (supported from v3.3.0). The interface can change in the future.\n",
      "  candidates = self._candidates_func(\n",
      "[I 2025-01-11 00:46:38,210] Trial 41 finished with value: -0.002689412537439983 and parameters: {'x': -0.04420480794434134, 'y': -0.027117291384721298}. Best is trial 41 with value: -0.002689412537439983.\n",
      "/Users/keisukeonoue/ws/constrained_BO_v3/bo-env_v3/lib/python3.12/site-packages/optuna_integration/botorch/botorch.py:1101: ExperimentalWarning: logei_candidates_func is experimental (supported from v3.3.0). The interface can change in the future.\n",
      "  candidates = self._candidates_func(\n",
      "[I 2025-01-11 00:46:38,788] Trial 42 finished with value: -0.005443993702778914 and parameters: {'x': -0.015676536952343945, 'y': 0.07209882032294779}. Best is trial 41 with value: -0.002689412537439983.\n",
      "/Users/keisukeonoue/ws/constrained_BO_v3/bo-env_v3/lib/python3.12/site-packages/optuna_integration/botorch/botorch.py:1101: ExperimentalWarning: logei_candidates_func is experimental (supported from v3.3.0). The interface can change in the future.\n",
      "  candidates = self._candidates_func(\n",
      "[I 2025-01-11 00:46:39,132] Trial 43 finished with value: -0.0025266270425732917 and parameters: {'x': -0.04024278672112036, 'y': -0.03011885056723962}. Best is trial 43 with value: -0.0025266270425732917.\n",
      "/Users/keisukeonoue/ws/constrained_BO_v3/bo-env_v3/lib/python3.12/site-packages/optuna_integration/botorch/botorch.py:1101: ExperimentalWarning: logei_candidates_func is experimental (supported from v3.3.0). The interface can change in the future.\n",
      "  candidates = self._candidates_func(\n",
      "[I 2025-01-11 00:46:39,720] Trial 44 finished with value: -0.004317453512910566 and parameters: {'x': 0.04556913848128197, 'y': -0.047338220614893345}. Best is trial 43 with value: -0.0025266270425732917.\n",
      "/Users/keisukeonoue/ws/constrained_BO_v3/bo-env_v3/lib/python3.12/site-packages/optuna_integration/botorch/botorch.py:1101: ExperimentalWarning: logei_candidates_func is experimental (supported from v3.3.0). The interface can change in the future.\n",
      "  candidates = self._candidates_func(\n",
      "[I 2025-01-11 00:46:40,141] Trial 45 finished with value: -0.002975907890907185 and parameters: {'x': -0.04854042503403644, 'y': -0.024894477870047282}. Best is trial 43 with value: -0.0025266270425732917.\n",
      "/Users/keisukeonoue/ws/constrained_BO_v3/bo-env_v3/lib/python3.12/site-packages/optuna_integration/botorch/botorch.py:1101: ExperimentalWarning: logei_candidates_func is experimental (supported from v3.3.0). The interface can change in the future.\n",
      "  candidates = self._candidates_func(\n",
      "[I 2025-01-11 00:46:40,665] Trial 46 finished with value: -0.003772291610164116 and parameters: {'x': -0.028325299664696324, 'y': 0.05449742204058161}. Best is trial 43 with value: -0.0025266270425732917.\n",
      "/Users/keisukeonoue/ws/constrained_BO_v3/bo-env_v3/lib/python3.12/site-packages/optuna_integration/botorch/botorch.py:1101: ExperimentalWarning: logei_candidates_func is experimental (supported from v3.3.0). The interface can change in the future.\n",
      "  candidates = self._candidates_func(\n",
      "[I 2025-01-11 00:46:41,134] Trial 47 finished with value: -0.0027915540583104727 and parameters: {'x': -0.042917923551716974, 'y': -0.030815676145745208}. Best is trial 43 with value: -0.0025266270425732917.\n",
      "/Users/keisukeonoue/ws/constrained_BO_v3/bo-env_v3/lib/python3.12/site-packages/optuna_integration/botorch/botorch.py:1101: ExperimentalWarning: logei_candidates_func is experimental (supported from v3.3.0). The interface can change in the future.\n",
      "  candidates = self._candidates_func(\n",
      "[I 2025-01-11 00:46:41,514] Trial 48 finished with value: -0.0025291156612403153 and parameters: {'x': -0.04317901698798288, 'y': -0.025781546757163376}. Best is trial 43 with value: -0.0025266270425732917.\n",
      "/Users/keisukeonoue/ws/constrained_BO_v3/bo-env_v3/lib/python3.12/site-packages/optuna_integration/botorch/botorch.py:1101: ExperimentalWarning: logei_candidates_func is experimental (supported from v3.3.0). The interface can change in the future.\n",
      "  candidates = self._candidates_func(\n",
      "[I 2025-01-11 00:46:41,971] Trial 49 finished with value: -0.00411678776844205 and parameters: {'x': 0.05786738841626082, 'y': -0.02771557551853565}. Best is trial 43 with value: -0.0025266270425732917.\n"
     ]
    },
    {
     "name": "stdout",
     "output_type": "stream",
     "text": [
      "Best trial:\n",
      "  Value: -0.0025266270425732917\n",
      "  Params: {'x': -0.04024278672112036, 'y': -0.03011885056723962}\n"
     ]
    }
   ],
   "source": [
    "import optuna\n",
    "from optuna.integration import BoTorchSampler\n",
    "\n",
    "# Define the objective function\n",
    "def objective(trial):\n",
    "    # Suggest parameters within specified ranges\n",
    "    x = trial.suggest_float(\"x\", -5.0, 5.0)\n",
    "    y = trial.suggest_float(\"y\", -5.0, 5.0)\n",
    "    \n",
    "    # Objective to maximize: -(x^2 + y^2) (find the maximum of this quadratic function)\n",
    "    objective_value = -(x**2 + y**2)\n",
    "    \n",
    "    return objective_value\n",
    "\n",
    "# Define the constraint function\n",
    "def constraints_func(trial):\n",
    "    x = trial.params[\"x\"]\n",
    "    y = trial.params[\"y\"]\n",
    "    # Constraint: x + y <= 1 (return positive value for violation)\n",
    "    return [x + y - 1.0]\n",
    "\n",
    "# Create the study\n",
    "sampler = BoTorchSampler(constraints_func=constraints_func, n_startup_trials=10)\n",
    "study = optuna.create_study(\n",
    "    sampler=sampler,\n",
    "    direction=\"maximize\",  # Maximize the objective function\n",
    ")\n",
    "\n",
    "# Optimize the study\n",
    "study.optimize(objective, n_trials=50)\n",
    "\n",
    "# Print the best trial\n",
    "print(\"Best trial:\")\n",
    "print(f\"  Value: {study.best_trial.value}\")\n",
    "print(f\"  Params: {study.best_trial.params}\")\n"
   ]
  },
  {
   "cell_type": "code",
   "execution_count": 2,
   "metadata": {},
   "outputs": [
    {
     "data": {
      "application/vnd.plotly.v1+json": {
       "config": {
        "plotlyServerURL": "https://plot.ly"
       },
       "data": [
        {
         "mode": "markers",
         "name": "Objective Value",
         "type": "scatter",
         "x": [
          0,
          1,
          2,
          3,
          4,
          6,
          8,
          9,
          10,
          11,
          12,
          13,
          14,
          15,
          16,
          17,
          18,
          19,
          20,
          21,
          22,
          23,
          24,
          25,
          26,
          27,
          28,
          29,
          30,
          31,
          32,
          33,
          34,
          35,
          36,
          37,
          38,
          39,
          40,
          41,
          42,
          43,
          44,
          45,
          46,
          47,
          48,
          49
         ],
         "y": [
          -22.870966898274354,
          -13.927177307568064,
          -15.95103702330148,
          -4.478264305459329,
          -24.98497765556594,
          -4.060751005821613,
          -16.916718652884,
          -21.032770166830616,
          -0.32860498407585365,
          -50,
          -0.20905008300632086,
          -0.011018988186276363,
          -0.0028038069020370187,
          -0.0034551286845675615,
          -0.005066607230109337,
          -0.0057012018822412466,
          -0.004314459508953528,
          -0.004880954884609502,
          -0.02998370467218002,
          -0.005981875353544025,
          -0.0050780029589803915,
          -0.005558349282747118,
          -0.004470292464902428,
          -0.004910218505592643,
          -0.004594835663783725,
          -0.004743794122506711,
          -0.004847330346791328,
          -0.009458616288796419,
          -0.005025397888079852,
          -0.011194684941486958,
          -0.0046313102500521565,
          -0.004180463753071716,
          -0.013465184358871337,
          -0.004595635415964994,
          -0.0038056898218275835,
          -0.003155278650602353,
          -0.007441161930363359,
          -0.003415093372080054,
          -0.002934264586466475,
          -0.002689412537439983,
          -0.005443993702778914,
          -0.0025266270425732917,
          -0.004317453512910566,
          -0.002975907890907185,
          -0.003772291610164116,
          -0.0027915540583104727,
          -0.0025291156612403153,
          -0.00411678776844205
         ]
        },
        {
         "mode": "lines",
         "name": "Best Value",
         "type": "scatter",
         "x": [
          0,
          1,
          2,
          3,
          4,
          5,
          6,
          7,
          8,
          9,
          10,
          11,
          12,
          13,
          14,
          15,
          16,
          17,
          18,
          19,
          20,
          21,
          22,
          23,
          24,
          25,
          26,
          27,
          28,
          29,
          30,
          31,
          32,
          33,
          34,
          35,
          36,
          37,
          38,
          39,
          40,
          41,
          42,
          43,
          44,
          45,
          46,
          47,
          48,
          49
         ],
         "y": [
          -22.870966898274354,
          -13.927177307568064,
          -13.927177307568064,
          -4.478264305459329,
          -4.478264305459329,
          -4.478264305459329,
          -4.060751005821613,
          -4.060751005821613,
          -4.060751005821613,
          -4.060751005821613,
          -0.32860498407585365,
          -0.32860498407585365,
          -0.20905008300632086,
          -0.011018988186276363,
          -0.0028038069020370187,
          -0.0028038069020370187,
          -0.0028038069020370187,
          -0.0028038069020370187,
          -0.0028038069020370187,
          -0.0028038069020370187,
          -0.0028038069020370187,
          -0.0028038069020370187,
          -0.0028038069020370187,
          -0.0028038069020370187,
          -0.0028038069020370187,
          -0.0028038069020370187,
          -0.0028038069020370187,
          -0.0028038069020370187,
          -0.0028038069020370187,
          -0.0028038069020370187,
          -0.0028038069020370187,
          -0.0028038069020370187,
          -0.0028038069020370187,
          -0.0028038069020370187,
          -0.0028038069020370187,
          -0.0028038069020370187,
          -0.0028038069020370187,
          -0.0028038069020370187,
          -0.0028038069020370187,
          -0.0028038069020370187,
          -0.0028038069020370187,
          -0.002689412537439983,
          -0.002689412537439983,
          -0.0025266270425732917,
          -0.0025266270425732917,
          -0.0025266270425732917,
          -0.0025266270425732917,
          -0.0025266270425732917,
          -0.0025266270425732917,
          -0.0025266270425732917
         ]
        },
        {
         "marker": {
          "color": "#cccccc"
         },
         "mode": "markers",
         "name": "Infeasible Trial",
         "showlegend": false,
         "type": "scatter",
         "x": [
          5,
          7
         ],
         "y": [
          -29.145281310446006,
          -36.198963802742156
         ]
        }
       ],
       "layout": {
        "template": {
         "data": {
          "bar": [
           {
            "error_x": {
             "color": "#2a3f5f"
            },
            "error_y": {
             "color": "#2a3f5f"
            },
            "marker": {
             "line": {
              "color": "#E5ECF6",
              "width": 0.5
             },
             "pattern": {
              "fillmode": "overlay",
              "size": 10,
              "solidity": 0.2
             }
            },
            "type": "bar"
           }
          ],
          "barpolar": [
           {
            "marker": {
             "line": {
              "color": "#E5ECF6",
              "width": 0.5
             },
             "pattern": {
              "fillmode": "overlay",
              "size": 10,
              "solidity": 0.2
             }
            },
            "type": "barpolar"
           }
          ],
          "carpet": [
           {
            "aaxis": {
             "endlinecolor": "#2a3f5f",
             "gridcolor": "white",
             "linecolor": "white",
             "minorgridcolor": "white",
             "startlinecolor": "#2a3f5f"
            },
            "baxis": {
             "endlinecolor": "#2a3f5f",
             "gridcolor": "white",
             "linecolor": "white",
             "minorgridcolor": "white",
             "startlinecolor": "#2a3f5f"
            },
            "type": "carpet"
           }
          ],
          "choropleth": [
           {
            "colorbar": {
             "outlinewidth": 0,
             "ticks": ""
            },
            "type": "choropleth"
           }
          ],
          "contour": [
           {
            "colorbar": {
             "outlinewidth": 0,
             "ticks": ""
            },
            "colorscale": [
             [
              0,
              "#0d0887"
             ],
             [
              0.1111111111111111,
              "#46039f"
             ],
             [
              0.2222222222222222,
              "#7201a8"
             ],
             [
              0.3333333333333333,
              "#9c179e"
             ],
             [
              0.4444444444444444,
              "#bd3786"
             ],
             [
              0.5555555555555556,
              "#d8576b"
             ],
             [
              0.6666666666666666,
              "#ed7953"
             ],
             [
              0.7777777777777778,
              "#fb9f3a"
             ],
             [
              0.8888888888888888,
              "#fdca26"
             ],
             [
              1,
              "#f0f921"
             ]
            ],
            "type": "contour"
           }
          ],
          "contourcarpet": [
           {
            "colorbar": {
             "outlinewidth": 0,
             "ticks": ""
            },
            "type": "contourcarpet"
           }
          ],
          "heatmap": [
           {
            "colorbar": {
             "outlinewidth": 0,
             "ticks": ""
            },
            "colorscale": [
             [
              0,
              "#0d0887"
             ],
             [
              0.1111111111111111,
              "#46039f"
             ],
             [
              0.2222222222222222,
              "#7201a8"
             ],
             [
              0.3333333333333333,
              "#9c179e"
             ],
             [
              0.4444444444444444,
              "#bd3786"
             ],
             [
              0.5555555555555556,
              "#d8576b"
             ],
             [
              0.6666666666666666,
              "#ed7953"
             ],
             [
              0.7777777777777778,
              "#fb9f3a"
             ],
             [
              0.8888888888888888,
              "#fdca26"
             ],
             [
              1,
              "#f0f921"
             ]
            ],
            "type": "heatmap"
           }
          ],
          "heatmapgl": [
           {
            "colorbar": {
             "outlinewidth": 0,
             "ticks": ""
            },
            "colorscale": [
             [
              0,
              "#0d0887"
             ],
             [
              0.1111111111111111,
              "#46039f"
             ],
             [
              0.2222222222222222,
              "#7201a8"
             ],
             [
              0.3333333333333333,
              "#9c179e"
             ],
             [
              0.4444444444444444,
              "#bd3786"
             ],
             [
              0.5555555555555556,
              "#d8576b"
             ],
             [
              0.6666666666666666,
              "#ed7953"
             ],
             [
              0.7777777777777778,
              "#fb9f3a"
             ],
             [
              0.8888888888888888,
              "#fdca26"
             ],
             [
              1,
              "#f0f921"
             ]
            ],
            "type": "heatmapgl"
           }
          ],
          "histogram": [
           {
            "marker": {
             "pattern": {
              "fillmode": "overlay",
              "size": 10,
              "solidity": 0.2
             }
            },
            "type": "histogram"
           }
          ],
          "histogram2d": [
           {
            "colorbar": {
             "outlinewidth": 0,
             "ticks": ""
            },
            "colorscale": [
             [
              0,
              "#0d0887"
             ],
             [
              0.1111111111111111,
              "#46039f"
             ],
             [
              0.2222222222222222,
              "#7201a8"
             ],
             [
              0.3333333333333333,
              "#9c179e"
             ],
             [
              0.4444444444444444,
              "#bd3786"
             ],
             [
              0.5555555555555556,
              "#d8576b"
             ],
             [
              0.6666666666666666,
              "#ed7953"
             ],
             [
              0.7777777777777778,
              "#fb9f3a"
             ],
             [
              0.8888888888888888,
              "#fdca26"
             ],
             [
              1,
              "#f0f921"
             ]
            ],
            "type": "histogram2d"
           }
          ],
          "histogram2dcontour": [
           {
            "colorbar": {
             "outlinewidth": 0,
             "ticks": ""
            },
            "colorscale": [
             [
              0,
              "#0d0887"
             ],
             [
              0.1111111111111111,
              "#46039f"
             ],
             [
              0.2222222222222222,
              "#7201a8"
             ],
             [
              0.3333333333333333,
              "#9c179e"
             ],
             [
              0.4444444444444444,
              "#bd3786"
             ],
             [
              0.5555555555555556,
              "#d8576b"
             ],
             [
              0.6666666666666666,
              "#ed7953"
             ],
             [
              0.7777777777777778,
              "#fb9f3a"
             ],
             [
              0.8888888888888888,
              "#fdca26"
             ],
             [
              1,
              "#f0f921"
             ]
            ],
            "type": "histogram2dcontour"
           }
          ],
          "mesh3d": [
           {
            "colorbar": {
             "outlinewidth": 0,
             "ticks": ""
            },
            "type": "mesh3d"
           }
          ],
          "parcoords": [
           {
            "line": {
             "colorbar": {
              "outlinewidth": 0,
              "ticks": ""
             }
            },
            "type": "parcoords"
           }
          ],
          "pie": [
           {
            "automargin": true,
            "type": "pie"
           }
          ],
          "scatter": [
           {
            "fillpattern": {
             "fillmode": "overlay",
             "size": 10,
             "solidity": 0.2
            },
            "type": "scatter"
           }
          ],
          "scatter3d": [
           {
            "line": {
             "colorbar": {
              "outlinewidth": 0,
              "ticks": ""
             }
            },
            "marker": {
             "colorbar": {
              "outlinewidth": 0,
              "ticks": ""
             }
            },
            "type": "scatter3d"
           }
          ],
          "scattercarpet": [
           {
            "marker": {
             "colorbar": {
              "outlinewidth": 0,
              "ticks": ""
             }
            },
            "type": "scattercarpet"
           }
          ],
          "scattergeo": [
           {
            "marker": {
             "colorbar": {
              "outlinewidth": 0,
              "ticks": ""
             }
            },
            "type": "scattergeo"
           }
          ],
          "scattergl": [
           {
            "marker": {
             "colorbar": {
              "outlinewidth": 0,
              "ticks": ""
             }
            },
            "type": "scattergl"
           }
          ],
          "scattermapbox": [
           {
            "marker": {
             "colorbar": {
              "outlinewidth": 0,
              "ticks": ""
             }
            },
            "type": "scattermapbox"
           }
          ],
          "scatterpolar": [
           {
            "marker": {
             "colorbar": {
              "outlinewidth": 0,
              "ticks": ""
             }
            },
            "type": "scatterpolar"
           }
          ],
          "scatterpolargl": [
           {
            "marker": {
             "colorbar": {
              "outlinewidth": 0,
              "ticks": ""
             }
            },
            "type": "scatterpolargl"
           }
          ],
          "scatterternary": [
           {
            "marker": {
             "colorbar": {
              "outlinewidth": 0,
              "ticks": ""
             }
            },
            "type": "scatterternary"
           }
          ],
          "surface": [
           {
            "colorbar": {
             "outlinewidth": 0,
             "ticks": ""
            },
            "colorscale": [
             [
              0,
              "#0d0887"
             ],
             [
              0.1111111111111111,
              "#46039f"
             ],
             [
              0.2222222222222222,
              "#7201a8"
             ],
             [
              0.3333333333333333,
              "#9c179e"
             ],
             [
              0.4444444444444444,
              "#bd3786"
             ],
             [
              0.5555555555555556,
              "#d8576b"
             ],
             [
              0.6666666666666666,
              "#ed7953"
             ],
             [
              0.7777777777777778,
              "#fb9f3a"
             ],
             [
              0.8888888888888888,
              "#fdca26"
             ],
             [
              1,
              "#f0f921"
             ]
            ],
            "type": "surface"
           }
          ],
          "table": [
           {
            "cells": {
             "fill": {
              "color": "#EBF0F8"
             },
             "line": {
              "color": "white"
             }
            },
            "header": {
             "fill": {
              "color": "#C8D4E3"
             },
             "line": {
              "color": "white"
             }
            },
            "type": "table"
           }
          ]
         },
         "layout": {
          "annotationdefaults": {
           "arrowcolor": "#2a3f5f",
           "arrowhead": 0,
           "arrowwidth": 1
          },
          "autotypenumbers": "strict",
          "coloraxis": {
           "colorbar": {
            "outlinewidth": 0,
            "ticks": ""
           }
          },
          "colorscale": {
           "diverging": [
            [
             0,
             "#8e0152"
            ],
            [
             0.1,
             "#c51b7d"
            ],
            [
             0.2,
             "#de77ae"
            ],
            [
             0.3,
             "#f1b6da"
            ],
            [
             0.4,
             "#fde0ef"
            ],
            [
             0.5,
             "#f7f7f7"
            ],
            [
             0.6,
             "#e6f5d0"
            ],
            [
             0.7,
             "#b8e186"
            ],
            [
             0.8,
             "#7fbc41"
            ],
            [
             0.9,
             "#4d9221"
            ],
            [
             1,
             "#276419"
            ]
           ],
           "sequential": [
            [
             0,
             "#0d0887"
            ],
            [
             0.1111111111111111,
             "#46039f"
            ],
            [
             0.2222222222222222,
             "#7201a8"
            ],
            [
             0.3333333333333333,
             "#9c179e"
            ],
            [
             0.4444444444444444,
             "#bd3786"
            ],
            [
             0.5555555555555556,
             "#d8576b"
            ],
            [
             0.6666666666666666,
             "#ed7953"
            ],
            [
             0.7777777777777778,
             "#fb9f3a"
            ],
            [
             0.8888888888888888,
             "#fdca26"
            ],
            [
             1,
             "#f0f921"
            ]
           ],
           "sequentialminus": [
            [
             0,
             "#0d0887"
            ],
            [
             0.1111111111111111,
             "#46039f"
            ],
            [
             0.2222222222222222,
             "#7201a8"
            ],
            [
             0.3333333333333333,
             "#9c179e"
            ],
            [
             0.4444444444444444,
             "#bd3786"
            ],
            [
             0.5555555555555556,
             "#d8576b"
            ],
            [
             0.6666666666666666,
             "#ed7953"
            ],
            [
             0.7777777777777778,
             "#fb9f3a"
            ],
            [
             0.8888888888888888,
             "#fdca26"
            ],
            [
             1,
             "#f0f921"
            ]
           ]
          },
          "colorway": [
           "#636efa",
           "#EF553B",
           "#00cc96",
           "#ab63fa",
           "#FFA15A",
           "#19d3f3",
           "#FF6692",
           "#B6E880",
           "#FF97FF",
           "#FECB52"
          ],
          "font": {
           "color": "#2a3f5f"
          },
          "geo": {
           "bgcolor": "white",
           "lakecolor": "white",
           "landcolor": "#E5ECF6",
           "showlakes": true,
           "showland": true,
           "subunitcolor": "white"
          },
          "hoverlabel": {
           "align": "left"
          },
          "hovermode": "closest",
          "mapbox": {
           "style": "light"
          },
          "paper_bgcolor": "white",
          "plot_bgcolor": "#E5ECF6",
          "polar": {
           "angularaxis": {
            "gridcolor": "white",
            "linecolor": "white",
            "ticks": ""
           },
           "bgcolor": "#E5ECF6",
           "radialaxis": {
            "gridcolor": "white",
            "linecolor": "white",
            "ticks": ""
           }
          },
          "scene": {
           "xaxis": {
            "backgroundcolor": "#E5ECF6",
            "gridcolor": "white",
            "gridwidth": 2,
            "linecolor": "white",
            "showbackground": true,
            "ticks": "",
            "zerolinecolor": "white"
           },
           "yaxis": {
            "backgroundcolor": "#E5ECF6",
            "gridcolor": "white",
            "gridwidth": 2,
            "linecolor": "white",
            "showbackground": true,
            "ticks": "",
            "zerolinecolor": "white"
           },
           "zaxis": {
            "backgroundcolor": "#E5ECF6",
            "gridcolor": "white",
            "gridwidth": 2,
            "linecolor": "white",
            "showbackground": true,
            "ticks": "",
            "zerolinecolor": "white"
           }
          },
          "shapedefaults": {
           "line": {
            "color": "#2a3f5f"
           }
          },
          "ternary": {
           "aaxis": {
            "gridcolor": "white",
            "linecolor": "white",
            "ticks": ""
           },
           "baxis": {
            "gridcolor": "white",
            "linecolor": "white",
            "ticks": ""
           },
           "bgcolor": "#E5ECF6",
           "caxis": {
            "gridcolor": "white",
            "linecolor": "white",
            "ticks": ""
           }
          },
          "title": {
           "x": 0.05
          },
          "xaxis": {
           "automargin": true,
           "gridcolor": "white",
           "linecolor": "white",
           "ticks": "",
           "title": {
            "standoff": 15
           },
           "zerolinecolor": "white",
           "zerolinewidth": 2
          },
          "yaxis": {
           "automargin": true,
           "gridcolor": "white",
           "linecolor": "white",
           "ticks": "",
           "title": {
            "standoff": 15
           },
           "zerolinecolor": "white",
           "zerolinewidth": 2
          }
         }
        },
        "title": {
         "text": "Optimization History Plot"
        },
        "xaxis": {
         "title": {
          "text": "Trial"
         }
        },
        "yaxis": {
         "title": {
          "text": "Objective Value"
         }
        }
       }
      }
     },
     "metadata": {},
     "output_type": "display_data"
    }
   ],
   "source": [
    "optuna.visualization.plot_optimization_history(study)"
   ]
  },
  {
   "cell_type": "code",
   "execution_count": 1,
   "metadata": {},
   "outputs": [
    {
     "name": "stderr",
     "output_type": "stream",
     "text": [
      "/Users/keisukeonoue/ws/constrained_BO_v3/bo-env_v3/lib/python3.12/site-packages/optuna/_experimental.py:31: ExperimentalWarning: Argument ``constraints_func`` is an experimental feature. The interface can change in the future.\n",
      "  warnings.warn(\n",
      "[I 2025-01-11 00:51:49,832] A new study created in memory with name: no-name-b470cc3d-2272-4ef7-94e9-d6239a9468ba\n",
      "[I 2025-01-11 00:51:49,856] Trial 0 finished with value: -43.672326201280256 and parameters: {'x': 4.622165909143144, 'y': 4.723124867038261}.\n",
      "[I 2025-01-11 00:51:49,857] Trial 1 finished with value: -9.011971842874363 and parameters: {'x': -0.44957063851826073, 'y': 2.9681405094531232}.\n",
      "[I 2025-01-11 00:51:49,857] Trial 2 finished with value: -17.286162268188495 and parameters: {'x': 2.9206142649701183, 'y': 2.959083402582893}.\n",
      "[I 2025-01-11 00:51:49,858] Trial 3 finished with value: -13.783442701395277 and parameters: {'x': -3.6380245695032665, 'y': -0.7404187552229147}. Best is trial 3 with value: -13.783442701395277.\n",
      "[I 2025-01-11 00:51:49,858] Trial 4 finished with value: -20.92434140776748 and parameters: {'x': 4.359045872908353, 'y': -1.3867445639511755}. Best is trial 3 with value: -13.783442701395277.\n",
      "[I 2025-01-11 00:51:49,859] Trial 5 finished with value: -4.92743038781407 and parameters: {'x': 1.5163517979787744, 'y': -1.6211439209954825}. Best is trial 5 with value: -4.92743038781407.\n",
      "[I 2025-01-11 00:51:49,860] Trial 6 finished with value: -4.1293569590226795 and parameters: {'x': 0.7725965996082951, 'y': 1.8794816980477302}. Best is trial 5 with value: -4.92743038781407.\n",
      "[I 2025-01-11 00:51:49,861] Trial 7 finished with value: -19.984328427866224 and parameters: {'x': 3.462795811057362, 'y': -2.827255488771719}. Best is trial 5 with value: -4.92743038781407.\n",
      "[I 2025-01-11 00:51:49,862] Trial 8 finished with value: -12.474397290525708 and parameters: {'x': -3.284379142833825, 'y': 1.2989422376086845}. Best is trial 5 with value: -4.92743038781407.\n",
      "[I 2025-01-11 00:51:49,863] Trial 9 finished with value: -17.712045555072763 and parameters: {'x': -3.7167945530676274, 'y': 1.974204600683419}. Best is trial 5 with value: -4.92743038781407.\n",
      "[I 2025-01-11 00:51:49,915] Trial 10 finished with value: -22.518584513414496 and parameters: {'x': 0.8540448307114066, 'y': -4.667889452477385}. Best is trial 5 with value: -4.92743038781407.\n",
      "[I 2025-01-11 00:51:49,921] Trial 11 finished with value: -2.2104981325344335 and parameters: {'x': -1.312647165499146, 'y': 0.6981801711889923}. Best is trial 11 with value: -2.2104981325344335.\n",
      "[I 2025-01-11 00:51:49,929] Trial 12 finished with value: -7.159640485652163 and parameters: {'x': -1.1774215409186013, 'y': -2.4027731895942717}. Best is trial 11 with value: -2.2104981325344335.\n",
      "[I 2025-01-11 00:51:49,934] Trial 13 finished with value: -3.559769682426985 and parameters: {'x': -1.87658762683629, 'y': 0.19541893775150393}. Best is trial 11 with value: -2.2104981325344335.\n",
      "[I 2025-01-11 00:51:49,939] Trial 14 finished with value: -3.113888387886185 and parameters: {'x': -1.6857582050067368, 'y': 0.5216393985682539}. Best is trial 11 with value: -2.2104981325344335.\n",
      "[I 2025-01-11 00:51:49,945] Trial 15 finished with value: -6.338072585748526 and parameters: {'x': -2.517288666906226, 'y': 0.0364740073751354}. Best is trial 11 with value: -2.2104981325344335.\n",
      "[I 2025-01-11 00:51:49,951] Trial 16 finished with value: -1.3536487924754286 and parameters: {'x': -0.5044483379664343, 'y': 1.0484181736303175}. Best is trial 16 with value: -1.3536487924754286.\n",
      "[I 2025-01-11 00:51:49,959] Trial 17 finished with value: -38.94033402916102 and parameters: {'x': -4.691498831851781, 'y': 4.114629113285229}. Best is trial 16 with value: -1.3536487924754286.\n",
      "[I 2025-01-11 00:51:49,962] Trial 18 finished with value: -1.5124445282270869 and parameters: {'x': -0.40579684353772605, 'y': 1.1609364539034448}. Best is trial 16 with value: -1.3536487924754286.\n",
      "[I 2025-01-11 00:51:49,967] Trial 19 finished with value: -15.555874130359692 and parameters: {'x': 2.1780418235055024, 'y': 3.288161788206371}. Best is trial 16 with value: -1.3536487924754286.\n",
      "[I 2025-01-11 00:51:49,971] Trial 20 finished with value: -4.945745854927858 and parameters: {'x': -0.14821674233615717, 'y': 2.218958686460637}. Best is trial 16 with value: -1.3536487924754286.\n",
      "[I 2025-01-11 00:51:49,976] Trial 21 finished with value: -2.3099335962068337 and parameters: {'x': -0.9521907422817122, 'y': 1.184595452684095}. Best is trial 16 with value: -1.3536487924754286.\n",
      "[I 2025-01-11 00:51:49,979] Trial 22 finished with value: -1.004356756567478 and parameters: {'x': 0.6989625015132337, 'y': -0.7181978683105659}. Best is trial 22 with value: -1.004356756567478.\n",
      "[I 2025-01-11 00:51:49,983] Trial 23 finished with value: -1.3379046516628423 and parameters: {'x': 0.7921090295426457, 'y': -0.842892601094499}. Best is trial 22 with value: -1.004356756567478.\n",
      "[I 2025-01-11 00:51:49,987] Trial 24 finished with value: -0.8854843330473128 and parameters: {'x': 0.6805797407299319, 'y': -0.6498427113966052}. Best is trial 24 with value: -0.8854843330473128.\n",
      "[I 2025-01-11 00:51:49,993] Trial 25 finished with value: -1.8263552282070465 and parameters: {'x': 1.1337597761896165, 'y': -0.7354889517195464}. Best is trial 24 with value: -0.8854843330473128.\n",
      "[I 2025-01-11 00:51:49,997] Trial 26 finished with value: -16.905673470826454 and parameters: {'x': 2.3957313873582473, 'y': -3.3415781586629065}. Best is trial 24 with value: -0.8854843330473128.\n",
      "[I 2025-01-11 00:51:50,001] Trial 27 finished with value: -0.7372458900465573 and parameters: {'x': 0.28088934232384066, 'y': -0.8113858930345274}. Best is trial 27 with value: -0.7372458900465573.\n",
      "[I 2025-01-11 00:51:50,005] Trial 28 finished with value: -4.008451189401814 and parameters: {'x': 0.31308867031381615, 'y': -1.9774798795241737}. Best is trial 27 with value: -0.7372458900465573.\n",
      "[I 2025-01-11 00:51:50,010] Trial 29 finished with value: -15.129140942292157 and parameters: {'x': 1.7338642562616702, 'y': -3.481789149726089}. Best is trial 27 with value: -0.7372458900465573.\n",
      "[I 2025-01-11 00:51:50,014] Trial 30 finished with value: -0.24041527317788805 and parameters: {'x': 0.3207879513514805, 'y': -0.3708238981586923}. Best is trial 30 with value: -0.24041527317788805.\n",
      "[I 2025-01-11 00:51:50,018] Trial 31 finished with value: -0.28921644436591215 and parameters: {'x': 0.2852788563579406, 'y': -0.455886409625268}. Best is trial 30 with value: -0.24041527317788805.\n",
      "[I 2025-01-11 00:51:50,022] Trial 32 finished with value: -1.4878971351950978 and parameters: {'x': 0.1089169636339272, 'y': -1.2149214913844695}. Best is trial 30 with value: -0.24041527317788805.\n",
      "[I 2025-01-11 00:51:50,028] Trial 33 finished with value: -2.836449692737185 and parameters: {'x': 1.6755155635932346, 'y': -0.170579274514902}. Best is trial 30 with value: -0.24041527317788805.\n",
      "[I 2025-01-11 00:51:50,031] Trial 34 finished with value: -7.177178467657581 and parameters: {'x': 2.668060694122527, 'y': -0.24213756448762683}. Best is trial 30 with value: -0.24041527317788805.\n",
      "[I 2025-01-11 00:51:50,036] Trial 35 finished with value: -4.31554363851873 and parameters: {'x': 0.27821349805783774, 'y': -2.0586745464053204}. Best is trial 30 with value: -0.24041527317788805.\n",
      "[I 2025-01-11 00:51:50,042] Trial 36 finished with value: -2.785268438644702 and parameters: {'x': -0.6841091823322908, 'y': -1.5222559132068914}. Best is trial 30 with value: -0.24041527317788805.\n",
      "[I 2025-01-11 00:51:50,045] Trial 37 finished with value: -16.897518635590078 and parameters: {'x': 4.0713544314034475, 'y': -0.5670905831360532}. Best is trial 30 with value: -0.24041527317788805.\n",
      "[I 2025-01-11 00:51:50,049] Trial 38 finished with value: -24.78393422973213 and parameters: {'x': 4.957072092869093, 'y': 0.4597504712673589}. Best is trial 30 with value: -0.24041527317788805.\n",
      "[I 2025-01-11 00:51:50,053] Trial 39 finished with value: -12.847385720897362 and parameters: {'x': 3.341138716602611, 'y': -1.297758759290963}. Best is trial 30 with value: -0.24041527317788805.\n",
      "[I 2025-01-11 00:51:50,057] Trial 40 finished with value: -11.990178678956683 and parameters: {'x': 1.570682623107672, 'y': -3.0859576757344365}. Best is trial 30 with value: -0.24041527317788805.\n",
      "[I 2025-01-11 00:51:50,061] Trial 41 finished with value: -0.546694031837372 and parameters: {'x': 0.5534409311013645, 'y': -0.49030313849599894}. Best is trial 30 with value: -0.24041527317788805.\n",
      "[I 2025-01-11 00:51:50,064] Trial 42 finished with value: -1.6656762318832694 and parameters: {'x': 1.2502226863297907, 'y': -0.3203427328184476}. Best is trial 30 with value: -0.24041527317788805.\n",
      "[I 2025-01-11 00:51:50,069] Trial 43 finished with value: -1.4013854367898608 and parameters: {'x': 0.14650262692334548, 'y': -1.1747009905054222}. Best is trial 30 with value: -0.24041527317788805.\n",
      "[I 2025-01-11 00:51:50,073] Trial 44 finished with value: -3.800403277477148 and parameters: {'x': 0.6342537816964406, 'y': -1.8434005039277037}. Best is trial 30 with value: -0.24041527317788805.\n",
      "[I 2025-01-11 00:51:50,077] Trial 45 finished with value: -2.9463626447956814 and parameters: {'x': -0.17301365276488978, 'y': 1.7077555213649966}. Best is trial 30 with value: -0.24041527317788805.\n",
      "[I 2025-01-11 00:51:50,080] Trial 46 finished with value: -10.242762740662952 and parameters: {'x': 1.905633657858973, 'y': -2.5712493272139096}. Best is trial 30 with value: -0.24041527317788805.\n",
      "[I 2025-01-11 00:51:50,084] Trial 47 finished with value: -1.5471874352694206 and parameters: {'x': 1.2330002720801447, 'y': 0.1640053789352951}. Best is trial 30 with value: -0.24041527317788805.\n",
      "[I 2025-01-11 00:51:50,088] Trial 48 finished with value: -2.9202220240831434 and parameters: {'x': -1.516323680912778, 'y': 0.7880257094703619}. Best is trial 30 with value: -0.24041527317788805.\n",
      "[I 2025-01-11 00:51:50,092] Trial 49 finished with value: -5.674344228724957 and parameters: {'x': -2.1723125087927455, 'y': -0.9774469770107866}. Best is trial 30 with value: -0.24041527317788805.\n"
     ]
    },
    {
     "name": "stdout",
     "output_type": "stream",
     "text": [
      "Best trial:\n",
      "  Value: -0.24041527317788805\n",
      "  Params: {'x': 0.3207879513514805, 'y': -0.3708238981586923}\n"
     ]
    }
   ],
   "source": [
    "import optuna\n",
    "from optuna.samplers import TPESampler\n",
    "\n",
    "# Define the objective function\n",
    "def objective(trial):\n",
    "    # Suggest parameters within specified ranges\n",
    "    x = trial.suggest_float(\"x\", -5.0, 5.0)\n",
    "    y = trial.suggest_float(\"y\", -5.0, 5.0)\n",
    "    \n",
    "    # Objective to maximize: -(x^2 + y^2) (find the maximum of this quadratic function)\n",
    "    objective_value = -(x**2 + y**2)\n",
    "    \n",
    "    return objective_value\n",
    "\n",
    "# Define the constraint function\n",
    "def constraints_func(trial):\n",
    "    x = trial.params[\"x\"]\n",
    "    y = trial.params[\"y\"]\n",
    "    # Constraint: x + y <= 1 (return positive value for violation)\n",
    "    return [x + y - 1.0]\n",
    "\n",
    "# Create the study\n",
    "sampler = TPESampler(constraints_func=constraints_func, n_startup_trials=10)\n",
    "study = optuna.create_study(\n",
    "    sampler=sampler,\n",
    "    direction=\"maximize\",  # Maximize the objective function\n",
    ")\n",
    "\n",
    "# Optimize the study\n",
    "study.optimize(objective, n_trials=50)\n",
    "\n",
    "# Print the best trial\n",
    "print(\"Best trial:\")\n",
    "print(f\"  Value: {study.best_trial.value}\")\n",
    "print(f\"  Params: {study.best_trial.params}\")\n"
   ]
  },
  {
   "cell_type": "code",
   "execution_count": 2,
   "metadata": {},
   "outputs": [
    {
     "data": {
      "application/vnd.plotly.v1+json": {
       "config": {
        "plotlyServerURL": "https://plot.ly"
       },
       "data": [
        {
         "mode": "markers",
         "name": "Objective Value",
         "type": "scatter",
         "x": [
          3,
          5,
          7,
          8,
          9,
          10,
          11,
          12,
          13,
          14,
          15,
          16,
          17,
          18,
          21,
          22,
          23,
          24,
          25,
          26,
          27,
          28,
          29,
          30,
          31,
          32,
          35,
          36,
          40,
          41,
          42,
          43,
          44,
          46,
          48,
          49
         ],
         "y": [
          -13.783442701395277,
          -4.92743038781407,
          -19.984328427866224,
          -12.474397290525708,
          -17.712045555072763,
          -22.518584513414496,
          -2.2104981325344335,
          -7.159640485652163,
          -3.559769682426985,
          -3.113888387886185,
          -6.338072585748526,
          -1.3536487924754286,
          -38.94033402916102,
          -1.5124445282270869,
          -2.3099335962068337,
          -1.004356756567478,
          -1.3379046516628423,
          -0.8854843330473128,
          -1.8263552282070465,
          -16.905673470826454,
          -0.7372458900465573,
          -4.008451189401814,
          -15.129140942292157,
          -0.24041527317788805,
          -0.28921644436591215,
          -1.4878971351950978,
          -4.31554363851873,
          -2.785268438644702,
          -11.990178678956683,
          -0.546694031837372,
          -1.6656762318832694,
          -1.4013854367898608,
          -3.800403277477148,
          -10.242762740662952,
          -2.9202220240831434,
          -5.674344228724957
         ]
        },
        {
         "mode": "lines",
         "name": "Best Value",
         "type": "scatter",
         "x": [
          0,
          1,
          2,
          3,
          4,
          5,
          6,
          7,
          8,
          9,
          10,
          11,
          12,
          13,
          14,
          15,
          16,
          17,
          18,
          19,
          20,
          21,
          22,
          23,
          24,
          25,
          26,
          27,
          28,
          29,
          30,
          31,
          32,
          33,
          34,
          35,
          36,
          37,
          38,
          39,
          40,
          41,
          42,
          43,
          44,
          45,
          46,
          47,
          48,
          49
         ],
         "y": [
          null,
          null,
          null,
          -13.783442701395277,
          -13.783442701395277,
          -4.92743038781407,
          -4.92743038781407,
          -4.92743038781407,
          -4.92743038781407,
          -4.92743038781407,
          -4.92743038781407,
          -2.2104981325344335,
          -2.2104981325344335,
          -2.2104981325344335,
          -2.2104981325344335,
          -2.2104981325344335,
          -1.3536487924754286,
          -1.3536487924754286,
          -1.3536487924754286,
          -1.3536487924754286,
          -1.3536487924754286,
          -1.3536487924754286,
          -1.004356756567478,
          -1.004356756567478,
          -0.8854843330473128,
          -0.8854843330473128,
          -0.8854843330473128,
          -0.7372458900465573,
          -0.7372458900465573,
          -0.7372458900465573,
          -0.24041527317788805,
          -0.24041527317788805,
          -0.24041527317788805,
          -0.24041527317788805,
          -0.24041527317788805,
          -0.24041527317788805,
          -0.24041527317788805,
          -0.24041527317788805,
          -0.24041527317788805,
          -0.24041527317788805,
          -0.24041527317788805,
          -0.24041527317788805,
          -0.24041527317788805,
          -0.24041527317788805,
          -0.24041527317788805,
          -0.24041527317788805,
          -0.24041527317788805,
          -0.24041527317788805,
          -0.24041527317788805,
          -0.24041527317788805
         ]
        },
        {
         "marker": {
          "color": "#cccccc"
         },
         "mode": "markers",
         "name": "Infeasible Trial",
         "showlegend": false,
         "type": "scatter",
         "x": [
          0,
          1,
          2,
          4,
          6,
          19,
          20,
          33,
          34,
          37,
          38,
          39,
          45,
          47
         ],
         "y": [
          -43.672326201280256,
          -9.011971842874363,
          -17.286162268188495,
          -20.92434140776748,
          -4.1293569590226795,
          -15.555874130359692,
          -4.945745854927858,
          -2.836449692737185,
          -7.177178467657581,
          -16.897518635590078,
          -24.78393422973213,
          -12.847385720897362,
          -2.9463626447956814,
          -1.5471874352694206
         ]
        }
       ],
       "layout": {
        "template": {
         "data": {
          "bar": [
           {
            "error_x": {
             "color": "#2a3f5f"
            },
            "error_y": {
             "color": "#2a3f5f"
            },
            "marker": {
             "line": {
              "color": "#E5ECF6",
              "width": 0.5
             },
             "pattern": {
              "fillmode": "overlay",
              "size": 10,
              "solidity": 0.2
             }
            },
            "type": "bar"
           }
          ],
          "barpolar": [
           {
            "marker": {
             "line": {
              "color": "#E5ECF6",
              "width": 0.5
             },
             "pattern": {
              "fillmode": "overlay",
              "size": 10,
              "solidity": 0.2
             }
            },
            "type": "barpolar"
           }
          ],
          "carpet": [
           {
            "aaxis": {
             "endlinecolor": "#2a3f5f",
             "gridcolor": "white",
             "linecolor": "white",
             "minorgridcolor": "white",
             "startlinecolor": "#2a3f5f"
            },
            "baxis": {
             "endlinecolor": "#2a3f5f",
             "gridcolor": "white",
             "linecolor": "white",
             "minorgridcolor": "white",
             "startlinecolor": "#2a3f5f"
            },
            "type": "carpet"
           }
          ],
          "choropleth": [
           {
            "colorbar": {
             "outlinewidth": 0,
             "ticks": ""
            },
            "type": "choropleth"
           }
          ],
          "contour": [
           {
            "colorbar": {
             "outlinewidth": 0,
             "ticks": ""
            },
            "colorscale": [
             [
              0,
              "#0d0887"
             ],
             [
              0.1111111111111111,
              "#46039f"
             ],
             [
              0.2222222222222222,
              "#7201a8"
             ],
             [
              0.3333333333333333,
              "#9c179e"
             ],
             [
              0.4444444444444444,
              "#bd3786"
             ],
             [
              0.5555555555555556,
              "#d8576b"
             ],
             [
              0.6666666666666666,
              "#ed7953"
             ],
             [
              0.7777777777777778,
              "#fb9f3a"
             ],
             [
              0.8888888888888888,
              "#fdca26"
             ],
             [
              1,
              "#f0f921"
             ]
            ],
            "type": "contour"
           }
          ],
          "contourcarpet": [
           {
            "colorbar": {
             "outlinewidth": 0,
             "ticks": ""
            },
            "type": "contourcarpet"
           }
          ],
          "heatmap": [
           {
            "colorbar": {
             "outlinewidth": 0,
             "ticks": ""
            },
            "colorscale": [
             [
              0,
              "#0d0887"
             ],
             [
              0.1111111111111111,
              "#46039f"
             ],
             [
              0.2222222222222222,
              "#7201a8"
             ],
             [
              0.3333333333333333,
              "#9c179e"
             ],
             [
              0.4444444444444444,
              "#bd3786"
             ],
             [
              0.5555555555555556,
              "#d8576b"
             ],
             [
              0.6666666666666666,
              "#ed7953"
             ],
             [
              0.7777777777777778,
              "#fb9f3a"
             ],
             [
              0.8888888888888888,
              "#fdca26"
             ],
             [
              1,
              "#f0f921"
             ]
            ],
            "type": "heatmap"
           }
          ],
          "heatmapgl": [
           {
            "colorbar": {
             "outlinewidth": 0,
             "ticks": ""
            },
            "colorscale": [
             [
              0,
              "#0d0887"
             ],
             [
              0.1111111111111111,
              "#46039f"
             ],
             [
              0.2222222222222222,
              "#7201a8"
             ],
             [
              0.3333333333333333,
              "#9c179e"
             ],
             [
              0.4444444444444444,
              "#bd3786"
             ],
             [
              0.5555555555555556,
              "#d8576b"
             ],
             [
              0.6666666666666666,
              "#ed7953"
             ],
             [
              0.7777777777777778,
              "#fb9f3a"
             ],
             [
              0.8888888888888888,
              "#fdca26"
             ],
             [
              1,
              "#f0f921"
             ]
            ],
            "type": "heatmapgl"
           }
          ],
          "histogram": [
           {
            "marker": {
             "pattern": {
              "fillmode": "overlay",
              "size": 10,
              "solidity": 0.2
             }
            },
            "type": "histogram"
           }
          ],
          "histogram2d": [
           {
            "colorbar": {
             "outlinewidth": 0,
             "ticks": ""
            },
            "colorscale": [
             [
              0,
              "#0d0887"
             ],
             [
              0.1111111111111111,
              "#46039f"
             ],
             [
              0.2222222222222222,
              "#7201a8"
             ],
             [
              0.3333333333333333,
              "#9c179e"
             ],
             [
              0.4444444444444444,
              "#bd3786"
             ],
             [
              0.5555555555555556,
              "#d8576b"
             ],
             [
              0.6666666666666666,
              "#ed7953"
             ],
             [
              0.7777777777777778,
              "#fb9f3a"
             ],
             [
              0.8888888888888888,
              "#fdca26"
             ],
             [
              1,
              "#f0f921"
             ]
            ],
            "type": "histogram2d"
           }
          ],
          "histogram2dcontour": [
           {
            "colorbar": {
             "outlinewidth": 0,
             "ticks": ""
            },
            "colorscale": [
             [
              0,
              "#0d0887"
             ],
             [
              0.1111111111111111,
              "#46039f"
             ],
             [
              0.2222222222222222,
              "#7201a8"
             ],
             [
              0.3333333333333333,
              "#9c179e"
             ],
             [
              0.4444444444444444,
              "#bd3786"
             ],
             [
              0.5555555555555556,
              "#d8576b"
             ],
             [
              0.6666666666666666,
              "#ed7953"
             ],
             [
              0.7777777777777778,
              "#fb9f3a"
             ],
             [
              0.8888888888888888,
              "#fdca26"
             ],
             [
              1,
              "#f0f921"
             ]
            ],
            "type": "histogram2dcontour"
           }
          ],
          "mesh3d": [
           {
            "colorbar": {
             "outlinewidth": 0,
             "ticks": ""
            },
            "type": "mesh3d"
           }
          ],
          "parcoords": [
           {
            "line": {
             "colorbar": {
              "outlinewidth": 0,
              "ticks": ""
             }
            },
            "type": "parcoords"
           }
          ],
          "pie": [
           {
            "automargin": true,
            "type": "pie"
           }
          ],
          "scatter": [
           {
            "fillpattern": {
             "fillmode": "overlay",
             "size": 10,
             "solidity": 0.2
            },
            "type": "scatter"
           }
          ],
          "scatter3d": [
           {
            "line": {
             "colorbar": {
              "outlinewidth": 0,
              "ticks": ""
             }
            },
            "marker": {
             "colorbar": {
              "outlinewidth": 0,
              "ticks": ""
             }
            },
            "type": "scatter3d"
           }
          ],
          "scattercarpet": [
           {
            "marker": {
             "colorbar": {
              "outlinewidth": 0,
              "ticks": ""
             }
            },
            "type": "scattercarpet"
           }
          ],
          "scattergeo": [
           {
            "marker": {
             "colorbar": {
              "outlinewidth": 0,
              "ticks": ""
             }
            },
            "type": "scattergeo"
           }
          ],
          "scattergl": [
           {
            "marker": {
             "colorbar": {
              "outlinewidth": 0,
              "ticks": ""
             }
            },
            "type": "scattergl"
           }
          ],
          "scattermapbox": [
           {
            "marker": {
             "colorbar": {
              "outlinewidth": 0,
              "ticks": ""
             }
            },
            "type": "scattermapbox"
           }
          ],
          "scatterpolar": [
           {
            "marker": {
             "colorbar": {
              "outlinewidth": 0,
              "ticks": ""
             }
            },
            "type": "scatterpolar"
           }
          ],
          "scatterpolargl": [
           {
            "marker": {
             "colorbar": {
              "outlinewidth": 0,
              "ticks": ""
             }
            },
            "type": "scatterpolargl"
           }
          ],
          "scatterternary": [
           {
            "marker": {
             "colorbar": {
              "outlinewidth": 0,
              "ticks": ""
             }
            },
            "type": "scatterternary"
           }
          ],
          "surface": [
           {
            "colorbar": {
             "outlinewidth": 0,
             "ticks": ""
            },
            "colorscale": [
             [
              0,
              "#0d0887"
             ],
             [
              0.1111111111111111,
              "#46039f"
             ],
             [
              0.2222222222222222,
              "#7201a8"
             ],
             [
              0.3333333333333333,
              "#9c179e"
             ],
             [
              0.4444444444444444,
              "#bd3786"
             ],
             [
              0.5555555555555556,
              "#d8576b"
             ],
             [
              0.6666666666666666,
              "#ed7953"
             ],
             [
              0.7777777777777778,
              "#fb9f3a"
             ],
             [
              0.8888888888888888,
              "#fdca26"
             ],
             [
              1,
              "#f0f921"
             ]
            ],
            "type": "surface"
           }
          ],
          "table": [
           {
            "cells": {
             "fill": {
              "color": "#EBF0F8"
             },
             "line": {
              "color": "white"
             }
            },
            "header": {
             "fill": {
              "color": "#C8D4E3"
             },
             "line": {
              "color": "white"
             }
            },
            "type": "table"
           }
          ]
         },
         "layout": {
          "annotationdefaults": {
           "arrowcolor": "#2a3f5f",
           "arrowhead": 0,
           "arrowwidth": 1
          },
          "autotypenumbers": "strict",
          "coloraxis": {
           "colorbar": {
            "outlinewidth": 0,
            "ticks": ""
           }
          },
          "colorscale": {
           "diverging": [
            [
             0,
             "#8e0152"
            ],
            [
             0.1,
             "#c51b7d"
            ],
            [
             0.2,
             "#de77ae"
            ],
            [
             0.3,
             "#f1b6da"
            ],
            [
             0.4,
             "#fde0ef"
            ],
            [
             0.5,
             "#f7f7f7"
            ],
            [
             0.6,
             "#e6f5d0"
            ],
            [
             0.7,
             "#b8e186"
            ],
            [
             0.8,
             "#7fbc41"
            ],
            [
             0.9,
             "#4d9221"
            ],
            [
             1,
             "#276419"
            ]
           ],
           "sequential": [
            [
             0,
             "#0d0887"
            ],
            [
             0.1111111111111111,
             "#46039f"
            ],
            [
             0.2222222222222222,
             "#7201a8"
            ],
            [
             0.3333333333333333,
             "#9c179e"
            ],
            [
             0.4444444444444444,
             "#bd3786"
            ],
            [
             0.5555555555555556,
             "#d8576b"
            ],
            [
             0.6666666666666666,
             "#ed7953"
            ],
            [
             0.7777777777777778,
             "#fb9f3a"
            ],
            [
             0.8888888888888888,
             "#fdca26"
            ],
            [
             1,
             "#f0f921"
            ]
           ],
           "sequentialminus": [
            [
             0,
             "#0d0887"
            ],
            [
             0.1111111111111111,
             "#46039f"
            ],
            [
             0.2222222222222222,
             "#7201a8"
            ],
            [
             0.3333333333333333,
             "#9c179e"
            ],
            [
             0.4444444444444444,
             "#bd3786"
            ],
            [
             0.5555555555555556,
             "#d8576b"
            ],
            [
             0.6666666666666666,
             "#ed7953"
            ],
            [
             0.7777777777777778,
             "#fb9f3a"
            ],
            [
             0.8888888888888888,
             "#fdca26"
            ],
            [
             1,
             "#f0f921"
            ]
           ]
          },
          "colorway": [
           "#636efa",
           "#EF553B",
           "#00cc96",
           "#ab63fa",
           "#FFA15A",
           "#19d3f3",
           "#FF6692",
           "#B6E880",
           "#FF97FF",
           "#FECB52"
          ],
          "font": {
           "color": "#2a3f5f"
          },
          "geo": {
           "bgcolor": "white",
           "lakecolor": "white",
           "landcolor": "#E5ECF6",
           "showlakes": true,
           "showland": true,
           "subunitcolor": "white"
          },
          "hoverlabel": {
           "align": "left"
          },
          "hovermode": "closest",
          "mapbox": {
           "style": "light"
          },
          "paper_bgcolor": "white",
          "plot_bgcolor": "#E5ECF6",
          "polar": {
           "angularaxis": {
            "gridcolor": "white",
            "linecolor": "white",
            "ticks": ""
           },
           "bgcolor": "#E5ECF6",
           "radialaxis": {
            "gridcolor": "white",
            "linecolor": "white",
            "ticks": ""
           }
          },
          "scene": {
           "xaxis": {
            "backgroundcolor": "#E5ECF6",
            "gridcolor": "white",
            "gridwidth": 2,
            "linecolor": "white",
            "showbackground": true,
            "ticks": "",
            "zerolinecolor": "white"
           },
           "yaxis": {
            "backgroundcolor": "#E5ECF6",
            "gridcolor": "white",
            "gridwidth": 2,
            "linecolor": "white",
            "showbackground": true,
            "ticks": "",
            "zerolinecolor": "white"
           },
           "zaxis": {
            "backgroundcolor": "#E5ECF6",
            "gridcolor": "white",
            "gridwidth": 2,
            "linecolor": "white",
            "showbackground": true,
            "ticks": "",
            "zerolinecolor": "white"
           }
          },
          "shapedefaults": {
           "line": {
            "color": "#2a3f5f"
           }
          },
          "ternary": {
           "aaxis": {
            "gridcolor": "white",
            "linecolor": "white",
            "ticks": ""
           },
           "baxis": {
            "gridcolor": "white",
            "linecolor": "white",
            "ticks": ""
           },
           "bgcolor": "#E5ECF6",
           "caxis": {
            "gridcolor": "white",
            "linecolor": "white",
            "ticks": ""
           }
          },
          "title": {
           "x": 0.05
          },
          "xaxis": {
           "automargin": true,
           "gridcolor": "white",
           "linecolor": "white",
           "ticks": "",
           "title": {
            "standoff": 15
           },
           "zerolinecolor": "white",
           "zerolinewidth": 2
          },
          "yaxis": {
           "automargin": true,
           "gridcolor": "white",
           "linecolor": "white",
           "ticks": "",
           "title": {
            "standoff": 15
           },
           "zerolinecolor": "white",
           "zerolinewidth": 2
          }
         }
        },
        "title": {
         "text": "Optimization History Plot"
        },
        "xaxis": {
         "title": {
          "text": "Trial"
         }
        },
        "yaxis": {
         "title": {
          "text": "Objective Value"
         }
        }
       }
      }
     },
     "metadata": {},
     "output_type": "display_data"
    }
   ],
   "source": [
    "optuna.visualization.plot_optimization_history(study)"
   ]
  },
  {
   "cell_type": "code",
   "execution_count": null,
   "metadata": {},
   "outputs": [],
   "source": []
  },
  {
   "cell_type": "code",
   "execution_count": null,
   "metadata": {},
   "outputs": [],
   "source": []
  },
  {
   "cell_type": "code",
   "execution_count": null,
   "metadata": {},
   "outputs": [],
   "source": []
  },
  {
   "cell_type": "code",
   "execution_count": null,
   "metadata": {},
   "outputs": [],
   "source": []
  },
  {
   "cell_type": "code",
   "execution_count": null,
   "metadata": {},
   "outputs": [],
   "source": []
  },
  {
   "cell_type": "code",
   "execution_count": null,
   "metadata": {},
   "outputs": [],
   "source": []
  }
 ],
 "metadata": {
  "kernelspec": {
   "display_name": "bo-env_v3",
   "language": "python",
   "name": "python3"
  },
  "language_info": {
   "codemirror_mode": {
    "name": "ipython",
    "version": 3
   },
   "file_extension": ".py",
   "mimetype": "text/x-python",
   "name": "python",
   "nbconvert_exporter": "python",
   "pygments_lexer": "ipython3",
   "version": "3.12.6"
  }
 },
 "nbformat": 4,
 "nbformat_minor": 2
}
