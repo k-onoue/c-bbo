{
 "cells": [
  {
   "cell_type": "code",
   "execution_count": 3,
   "metadata": {},
   "outputs": [
    {
     "name": "stdout",
     "output_type": "stream",
     "text": [
      "Sequential time: 0.03s\n",
      "Parallel time: 0.01s\n",
      "Mean sequential: 0.0104\n",
      "Mean parallel: 0.0103\n"
     ]
    }
   ],
   "source": [
    "import numpy as np\n",
    "import time\n",
    "from concurrent.futures import ThreadPoolExecutor\n",
    "\n",
    "def simple_decomposition(data: np.ndarray, rank: int = 2) -> np.ndarray:\n",
    "    \"\"\"Simple matrix factorization for demonstration\"\"\"\n",
    "    noisy_data = data + np.random.normal(0, 0.1, data.shape)\n",
    "    U, S, Vt = np.linalg.svd(noisy_data)\n",
    "    reconstruction = U[:, :rank] @ np.diag(S[:rank]) @ Vt[:rank, :]\n",
    "    return reconstruction\n",
    "\n",
    "if __name__ == \"__main__\":\n",
    "    # Create test data\n",
    "    N = 100\n",
    "    true_rank = 2\n",
    "    X = np.random.randn(N, true_rank) @ np.random.randn(true_rank, N)\n",
    "    \n",
    "    n_decompositions = 10\n",
    "    \n",
    "    # Sequential execution\n",
    "    t0 = time.time()\n",
    "    results_seq = [simple_decomposition(X) for _ in range(n_decompositions)]\n",
    "    print(f\"Sequential time: {time.time() - t0:.2f}s\")\n",
    "    \n",
    "    # Parallel execution using ThreadPoolExecutor\n",
    "    t0 = time.time()\n",
    "    with ThreadPoolExecutor() as executor:\n",
    "        futures = [executor.submit(simple_decomposition, X) for _ in range(n_decompositions)]\n",
    "        results_par = [f.result() for f in futures]\n",
    "    print(f\"Parallel time: {time.time() - t0:.2f}s\")\n",
    "    \n",
    "    # Verify results\n",
    "    mean_seq = np.mean([r.mean() for r in results_seq])\n",
    "    mean_par = np.mean([r.mean() for r in results_par])\n",
    "    print(f\"Mean sequential: {mean_seq:.4f}\")\n",
    "    print(f\"Mean parallel: {mean_par:.4f}\")"
   ]
  },
  {
   "cell_type": "code",
   "execution_count": null,
   "metadata": {},
   "outputs": [],
   "source": []
  },
  {
   "cell_type": "code",
   "execution_count": null,
   "metadata": {},
   "outputs": [],
   "source": []
  },
  {
   "cell_type": "code",
   "execution_count": null,
   "metadata": {},
   "outputs": [],
   "source": []
  },
  {
   "cell_type": "code",
   "execution_count": null,
   "metadata": {},
   "outputs": [],
   "source": []
  },
  {
   "cell_type": "code",
   "execution_count": null,
   "metadata": {},
   "outputs": [],
   "source": []
  },
  {
   "cell_type": "code",
   "execution_count": null,
   "metadata": {},
   "outputs": [],
   "source": []
  }
 ],
 "metadata": {
  "kernelspec": {
   "display_name": "bo-env_v3",
   "language": "python",
   "name": "python3"
  },
  "language_info": {
   "codemirror_mode": {
    "name": "ipython",
    "version": 3
   },
   "file_extension": ".py",
   "mimetype": "text/x-python",
   "name": "python",
   "nbconvert_exporter": "python",
   "pygments_lexer": "ipython3",
   "version": "3.12.6"
  }
 },
 "nbformat": 4,
 "nbformat_minor": 2
}
