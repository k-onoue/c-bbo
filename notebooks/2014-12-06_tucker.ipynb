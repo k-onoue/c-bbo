{
 "cells": [
  {
   "cell_type": "markdown",
   "metadata": {},
   "source": [
    "# Tucker decomposition"
   ]
  },
  {
   "cell_type": "code",
   "execution_count": 3,
   "metadata": {},
   "outputs": [
    {
     "name": "stdout",
     "output_type": "stream",
     "text": [
      "Original Tensor:\n",
      "[[[0.5488135  0.71518937 0.60276338 0.54488318 0.4236548  0.64589411]\n",
      "  [0.43758721 0.891773   0.96366276 0.38344152 0.79172504 0.52889492]\n",
      "  [0.56804456 0.92559664 0.07103606 0.0871293  0.0202184  0.83261985]\n",
      "  [0.77815675 0.87001215 0.97861834 0.79915856 0.46147936 0.78052918]\n",
      "  [0.11827443 0.63992102 0.14335329 0.94466892 0.52184832 0.41466194]]\n",
      "\n",
      " [[0.26455561 0.77423369 0.45615033 0.56843395 0.0187898  0.6176355 ]\n",
      "  [0.61209572 0.616934   0.94374808 0.6818203  0.3595079  0.43703195]\n",
      "  [0.6976312  0.06022547 0.66676672 0.67063787 0.21038256 0.1289263 ]\n",
      "  [0.31542835 0.36371077 0.57019677 0.43860151 0.98837384 0.10204481]\n",
      "  [0.20887676 0.16130952 0.65310833 0.2532916  0.46631077 0.24442559]]\n",
      "\n",
      " [[0.15896958 0.11037514 0.65632959 0.13818295 0.19658236 0.36872517]\n",
      "  [0.82099323 0.09710128 0.83794491 0.09609841 0.97645947 0.4686512 ]\n",
      "  [0.97676109 0.60484552 0.73926358 0.03918779 0.28280696 0.12019656]\n",
      "  [0.2961402  0.11872772 0.31798318 0.41426299 0.0641475  0.69247212]\n",
      "  [0.56660145 0.26538949 0.52324805 0.09394051 0.5759465  0.9292962 ]]\n",
      "\n",
      " [[0.31856895 0.66741038 0.13179786 0.7163272  0.28940609 0.18319136]\n",
      "  [0.58651293 0.02010755 0.82894003 0.00469548 0.67781654 0.27000797]\n",
      "  [0.73519402 0.96218855 0.24875314 0.57615733 0.59204193 0.57225191]\n",
      "  [0.22308163 0.95274901 0.44712538 0.84640867 0.69947928 0.29743695]\n",
      "  [0.81379782 0.39650574 0.8811032  0.58127287 0.88173536 0.69253159]]]\n",
      "\n",
      "Core Tensor:\n",
      "[[[ 5.53115168  0.06191798  0.01472973]\n",
      "  [-0.01130568 -0.88160389  0.36625229]\n",
      "  [-0.03310784  0.20208403 -0.57675016]]\n",
      "\n",
      " [[ 0.06438976  0.69251826 -0.12283952]\n",
      "  [-0.35115479  0.74693812  0.36834621]\n",
      "  [-0.84597813  0.29188272 -0.05832547]]\n",
      "\n",
      " [[ 0.0897464  -0.67491019 -0.32553741]\n",
      "  [ 0.329287    0.48481064  0.11076176]\n",
      "  [-0.19859826 -0.09970291  0.07940201]]]\n",
      "\n",
      "Factors:\n",
      "Factor 0:\n",
      "[[ 0.57242394  0.75894084  0.00860256]\n",
      " [ 0.44174484  0.02631842  0.15297155]\n",
      " [ 0.42149905 -0.4571543   0.71445207]\n",
      " [ 0.54729414 -0.46295366 -0.6827034 ]]\n",
      "Factor 1:\n",
      "[[ 0.37852818 -0.43938137 -0.12428032]\n",
      " [ 0.49754108  0.61289903 -0.3996766 ]\n",
      " [ 0.423944   -0.25795232  0.67749569]\n",
      " [ 0.47984385 -0.44290169 -0.45584561]\n",
      " [ 0.4463078   0.41060625  0.39751401]]\n",
      "Factor 2:\n",
      "[[ 0.41126403 -0.282492   -0.5297434 ]\n",
      " [ 0.42164906  0.63569258 -0.05208843]\n",
      " [ 0.47511558 -0.47793205  0.26574952]\n",
      " [ 0.35663341  0.49399947  0.2032931 ]\n",
      " [ 0.39800739 -0.20147975  0.58634585]\n",
      " [ 0.37648623 -0.05517788 -0.51078996]]\n",
      "\n",
      "Reconstructed Tensor:\n",
      "[[[0.6510372  0.6970452  0.55364594 0.53350266 0.4179752  0.62952047]\n",
      "  [0.43211501 0.81136838 0.82807979 0.77876409 0.87773426 0.42220414]\n",
      "  [0.49944986 0.72021873 0.14355139 0.48659324 0.05739108 0.55873846]\n",
      "  [0.8314409  0.88628971 0.86993228 0.72401916 0.71310746 0.78044994]\n",
      "  [0.31362242 0.70645812 0.31229471 0.5830397  0.34785729 0.3699029 ]]\n",
      "\n",
      " [[0.38913292 0.45515685 0.37321497 0.36336975 0.30663599 0.37795459]\n",
      "  [0.49118409 0.37242886 0.77091299 0.3725731  0.66664371 0.3954026 ]\n",
      "  [0.49967391 0.49667141 0.35583658 0.35758969 0.23437881 0.48526021]\n",
      "  [0.46967574 0.54533679 0.5374359  0.45973191 0.46535265 0.44324589]\n",
      "  [0.50023073 0.38691617 0.55976517 0.32225681 0.43140369 0.43565354]]\n",
      "\n",
      " [[0.35756443 0.22283874 0.36649453 0.17546234 0.25721867 0.30551699]\n",
      "  [0.6932598  0.20062442 0.90271777 0.19892131 0.65148227 0.51993488]\n",
      "  [0.62851142 0.25707664 0.60062435 0.1823803  0.36899624 0.51659442]\n",
      "  [0.4158641  0.26544792 0.47065188 0.22190935 0.34994301 0.35036675]\n",
      "  [0.75115097 0.21240105 0.85113249 0.17548066 0.56402227 0.5801011 ]]\n",
      "\n",
      " [[0.1916499  0.8079274  0.28546698 0.70085752 0.41481041 0.2869331 ]\n",
      "  [0.54757629 0.09166785 0.95091239 0.16785106 0.76065912 0.36429936]\n",
      "  [0.59968807 0.93861666 0.54513202 0.75189118 0.50075897 0.63337112]\n",
      "  [0.16688966 0.85946327 0.38121984 0.77948421 0.54846039 0.2620534 ]\n",
      "  [0.73247409 0.38520365 0.88035282 0.33579796 0.65191834 0.59371923]]]\n",
      "\n",
      "Reconstruction Error: 2.096013274222995\n"
     ]
    }
   ],
   "source": [
    "import numpy as np\n",
    "from tensorly.decomposition import tucker\n",
    "from tensorly import tucker_to_tensor\n",
    "\n",
    "# Generate a random tensor\n",
    "np.random.seed(0)\n",
    "tensor = np.random.rand(4, 5, 6)\n",
    "\n",
    "# Define the rank for the Tucker decomposition\n",
    "rank = (3, 3, 3)\n",
    "\n",
    "# Perform Tucker decomposition\n",
    "core, factors = tucker(tensor, rank=rank)\n",
    "\n",
    "# Reconstruct the tensor from the decomposed components\n",
    "reconstructed_tensor = tucker_to_tensor((core, factors))\n",
    "\n",
    "# Print the original tensor, core tensor, factors, and reconstructed tensor\n",
    "print(\"Original Tensor:\")\n",
    "print(tensor)\n",
    "print(\"\\nCore Tensor:\")\n",
    "print(core)\n",
    "print(\"\\nFactors:\")\n",
    "for i, factor in enumerate(factors):\n",
    "    print(f\"Factor {i}:\")\n",
    "    print(factor)\n",
    "print(\"\\nReconstructed Tensor:\")\n",
    "print(reconstructed_tensor)\n",
    "\n",
    "# Calculate and print the reconstruction error\n",
    "reconstruction_error = np.linalg.norm(tensor - reconstructed_tensor)\n",
    "print(f\"\\nReconstruction Error: {reconstruction_error}\")"
   ]
  },
  {
   "cell_type": "code",
   "execution_count": 5,
   "metadata": {},
   "outputs": [
    {
     "name": "stdout",
     "output_type": "stream",
     "text": [
      "Original Tensor:\n",
      "[[[0.5488135  0.71518937 0.60276338 0.54488318 0.4236548  0.64589411]\n",
      "  [0.43758721 0.891773   0.96366276 0.38344152 0.79172504 0.52889492]\n",
      "  [0.56804456 0.92559664 0.07103606 0.0871293  0.0202184  0.83261985]\n",
      "  [0.77815675 0.87001215 0.97861834 0.79915856 0.46147936 0.78052918]\n",
      "  [0.11827443 0.63992102 0.14335329 0.94466892 0.52184832 0.41466194]]\n",
      "\n",
      " [[0.26455561 0.77423369 0.45615033 0.56843395 0.0187898  0.6176355 ]\n",
      "  [0.61209572 0.616934   0.94374808 0.6818203  0.3595079  0.43703195]\n",
      "  [0.6976312  0.06022547 0.66676672 0.67063787 0.21038256 0.1289263 ]\n",
      "  [0.31542835 0.36371077 0.57019677 0.43860151 0.98837384 0.10204481]\n",
      "  [0.20887676 0.16130952 0.65310833 0.2532916  0.46631077 0.24442559]]\n",
      "\n",
      " [[0.15896958 0.11037514 0.65632959 0.13818295 0.19658236 0.36872517]\n",
      "  [0.82099323 0.09710128 0.83794491 0.09609841 0.97645947 0.4686512 ]\n",
      "  [0.97676109 0.60484552 0.73926358 0.03918779 0.28280696 0.12019656]\n",
      "  [0.2961402  0.11872772 0.31798318 0.41426299 0.0641475  0.69247212]\n",
      "  [0.56660145 0.26538949 0.52324805 0.09394051 0.5759465  0.9292962 ]]\n",
      "\n",
      " [[0.31856895 0.66741038 0.13179786 0.7163272  0.28940609 0.18319136]\n",
      "  [0.58651293 0.02010755 0.82894003 0.00469548 0.67781654 0.27000797]\n",
      "  [0.73519402 0.96218855 0.24875314 0.57615733 0.59204193 0.57225191]\n",
      "  [0.22308163 0.95274901 0.44712538 0.84640867 0.69947928 0.29743695]\n",
      "  [0.81379782 0.39650574 0.8811032  0.58127287 0.88173536 0.69253159]]]\n",
      "\n",
      "Core Tensor:\n",
      "[[[ 5.53077695  0.03015635 -0.01982972  0.01570857]\n",
      "  [-0.01369057 -0.9103813  -0.08259167  0.15495296]\n",
      "  [-0.07924583  0.19525309  0.35096506  0.16767073]\n",
      "  [-0.04291549  0.17331756  0.55666269 -0.10848203]]\n",
      "\n",
      " [[ 0.04331226  0.76196852 -0.02718452 -0.07745234]\n",
      "  [-0.34429299  0.65600667 -0.40387929 -0.06215778]\n",
      "  [-0.84864609  0.26587381 -0.10149552  0.03567265]\n",
      "  [-0.08650633  0.05538457  0.40872072  0.2233192 ]]\n",
      "\n",
      " [[ 0.07278022 -0.19056624 -0.41445915 -0.42319419]\n",
      "  [ 0.0976294   0.30897721  0.31739225 -0.37714557]\n",
      "  [-0.27179536 -0.58264942 -0.24186666 -0.25620775]\n",
      "  [ 0.24818567  0.33259166  0.16004344 -0.52081363]]\n",
      "\n",
      " [[-0.08117529  0.50637146 -0.50335824  0.13265961]\n",
      "  [-0.37971765 -0.41711089  0.30649293 -0.32834858]\n",
      "  [ 0.34297506 -0.04643196 -0.02648336  0.06067613]\n",
      "  [-0.27492781  0.33324044  0.18217393  0.18935824]]]\n",
      "\n",
      "Factors:\n",
      "Factor 0:\n",
      "[[ 0.5752135   0.73589647 -0.3442467  -0.0952892 ]\n",
      " [ 0.43997024  0.06083851  0.89106801 -0.09339522]\n",
      " [ 0.42139437 -0.53317687 -0.24416804 -0.69175948]\n",
      " [ 0.54587765 -0.4128892  -0.16695504  0.70969438]]\n",
      "Factor 1:\n",
      "[[ 0.37247552 -0.28837255 -0.40561996  0.39166358]\n",
      " [ 0.49558272  0.66835134 -0.42545222  0.14397971]\n",
      " [ 0.4347506  -0.2121056   0.59505275  0.56710936]\n",
      " [ 0.47824142 -0.56990076 -0.24172986 -0.51322474]\n",
      " [ 0.44490091  0.31681556  0.49187574 -0.49077166]]\n",
      "Factor 2:\n",
      "[[ 0.4100119  -0.23113257  0.4577519  -0.07432022]\n",
      " [ 0.42641454  0.62697512  0.03687917  0.2086992 ]\n",
      " [ 0.47491098 -0.49261514 -0.1059679  -0.50772427]\n",
      " [ 0.35930402  0.43854474 -0.44079483 -0.44863229]\n",
      " [ 0.39338665 -0.33182886 -0.5200447   0.66684292]\n",
      " [ 0.37505734  0.09153343  0.55957784  0.21722522]]\n",
      "\n",
      "Reconstructed Tensor:\n",
      "[[[ 0.73674987  0.65726997  0.63885063  0.40029266  0.38297636\n",
      "    0.73076112]\n",
      "  [ 0.54846477  0.72330773  0.74240264  0.64888395  0.8665824\n",
      "    0.50387779]\n",
      "  [ 0.53364993  0.86928344 -0.0125964   0.22703882  0.05865425\n",
      "    0.82637898]\n",
      "  [ 0.75438298  0.89708874  0.92124688  0.88965416  0.4889615\n",
      "    0.68654763]\n",
      "  [ 0.22544161  0.78560319  0.27740066  0.68829922  0.45433097\n",
      "    0.33992749]]\n",
      "\n",
      " [[ 0.42459067  0.60317549  0.52269609  0.61729803  0.22061637\n",
      "    0.40585694]\n",
      "  [ 0.6341746   0.63595739  0.82917485  0.72725215  0.28307064\n",
      "    0.51951006]\n",
      "  [ 0.46518314  0.24542225  0.77568548  0.53119259  0.08632689\n",
      "    0.24889933]\n",
      "  [ 0.25967041  0.43412655  0.51198719  0.43322051  0.88922494\n",
      "    0.20778711]\n",
      "  [ 0.32036315  0.05317431  0.70364234  0.27908255  0.60359302\n",
      "    0.08967309]]\n",
      "\n",
      " [[ 0.38140786  0.10158875  0.5633391   0.21598491  0.22335778\n",
      "    0.21866431]\n",
      "  [ 0.72429192  0.14297977  0.8995392   0.02619471  0.95591184\n",
      "    0.50010521]\n",
      "  [ 0.69043413  0.31203022  0.7176539   0.21670871  0.31684698\n",
      "    0.55759637]\n",
      "  [ 0.43058236  0.34411498  0.35797164  0.23496777  0.02453258\n",
      "    0.41654343]\n",
      "  [ 0.71933549  0.41229314  0.54016589  0.02157703  0.5632638\n",
      "    0.70340406]]\n",
      "\n",
      " [[ 0.13526997  0.61770081  0.16387116  0.54179743  0.31499959\n",
      "    0.24171504]\n",
      "  [ 0.58441409  0.02217149  0.84701475  0.09092169  0.6630501\n",
      "    0.32300845]\n",
      "  [ 0.55180264  0.99392177  0.37177282  0.60005507  0.55841384\n",
      "    0.72532321]\n",
      "  [ 0.24850028  0.95211232  0.45138558  0.94705568  0.68617382\n",
      "    0.33768151]\n",
      "  [ 0.75244078  0.47672623  0.93115983  0.37782044  0.88110399\n",
      "    0.59497903]]]\n",
      "\n",
      "Reconstruction Error: 1.3646026808242517\n"
     ]
    }
   ],
   "source": [
    "import numpy as np\n",
    "from tensorly.decomposition import tucker\n",
    "from tensorly import tucker_to_tensor\n",
    "\n",
    "# Generate a random tensor\n",
    "np.random.seed(0)\n",
    "tensor = np.random.rand(4, 5, 6)\n",
    "\n",
    "# Define the rank for the Tucker decomposition\n",
    "rank = (3, 3, 3)\n",
    "\n",
    "# Perform Tucker decomposition\n",
    "core, factors = tucker(tensor, rank=4)\n",
    "\n",
    "# Reconstruct the tensor from the decomposed components\n",
    "reconstructed_tensor = tucker_to_tensor((core, factors))\n",
    "\n",
    "# Print the original tensor, core tensor, factors, and reconstructed tensor\n",
    "print(\"Original Tensor:\")\n",
    "print(tensor)\n",
    "print(\"\\nCore Tensor:\")\n",
    "print(core)\n",
    "print(\"\\nFactors:\")\n",
    "for i, factor in enumerate(factors):\n",
    "    print(f\"Factor {i}:\")\n",
    "    print(factor)\n",
    "print(\"\\nReconstructed Tensor:\")\n",
    "print(reconstructed_tensor)\n",
    "\n",
    "# Calculate and print the reconstruction error\n",
    "reconstruction_error = np.linalg.norm(tensor - reconstructed_tensor)\n",
    "print(f\"\\nReconstruction Error: {reconstruction_error}\")"
   ]
  },
  {
   "cell_type": "markdown",
   "metadata": {},
   "source": [
    "# Constrained Tucker"
   ]
  },
  {
   "cell_type": "code",
   "execution_count": null,
   "metadata": {},
   "outputs": [],
   "source": [
    "import numpy as np\n",
    "\n",
    "\n",
    "def build_constraint_warcraft() -> np.ndarray:\n",
    "    # Directions dictionary\n",
    "    directions_dict = {\n",
    "        \"oo\": np.array([0, 0]),\n",
    "        \"ab\": np.array([1, 1]),\n",
    "        \"ac\": np.array([0, 2]),\n",
    "        \"ad\": np.array([1, 1]),\n",
    "        \"bc\": np.array([1, 1]),\n",
    "        \"bd\": np.array([2, 0]),\n",
    "        \"cd\": np.array([1, 1]),\n",
    "    }\n",
    "\n",
    "    directions_list = list(directions_dict.keys())\n",
    "\n",
    "    # Map parameters\n",
    "    map_shape = (2, 3)\n",
    "    map_length = map_shape[0] * map_shape[1]\n",
    "    ideal_gain = (map_shape[0] + map_shape[1] - 1) * 2\n",
    "\n",
    "    # Initialize constraints as NumPy arrays\n",
    "    tensor_constraint_1 = np.zeros((len(directions_list),) * map_length)\n",
    "    tensor_constraint_2 = np.zeros((len(directions_list),) * map_length)\n",
    "    tensor_constraint_3 = np.zeros((len(directions_list),) * map_length)\n",
    "\n",
    "    # Constraint 1: (0, 0) != \"oo\", \"ab\"\n",
    "    for direction in directions_list:\n",
    "        if direction not in [\"oo\", \"ab\"]:\n",
    "            tensor_constraint_1[..., directions_list.index(direction)] = 1\n",
    "\n",
    "    # Constraint 2: (map_shape[0] - 1, map_shape[1] - 1) != \"oo\", \"cd\"\n",
    "    for direction in directions_list:\n",
    "        if direction not in [\"oo\", \"cd\"]:\n",
    "            tensor_constraint_2[directions_list.index(direction), ...] = 1\n",
    "\n",
    "    # Constraint 3: len[path] == map_shape[0] * map_shape[1]\n",
    "    for index, _ in np.ndenumerate(tensor_constraint_3):\n",
    "        gain = np.sum([directions_dict[directions_list[idx]].sum() for idx in index])\n",
    "        if gain == ideal_gain:\n",
    "            tensor_constraint_3[index] = 1\n",
    "\n",
    "    # Combine constraints with logical AND\n",
    "    tensor_constraint = np.logical_and(\n",
    "        tensor_constraint_1,\n",
    "        np.logical_and(tensor_constraint_2, tensor_constraint_3)\n",
    "    )\n",
    "\n",
    "    return tensor_constraint"
   ]
  },
  {
   "cell_type": "code",
   "execution_count": null,
   "metadata": {},
   "outputs": [],
   "source": []
  },
  {
   "cell_type": "code",
   "execution_count": 39,
   "metadata": {},
   "outputs": [
    {
     "name": "stderr",
     "output_type": "stream",
     "text": [
      "[I 2024-12-07 15:54:46,435] A new study created in memory with name: test_study\n",
      "[I 2024-12-07 15:54:46,436] Trial 0 finished with value: 10.0 and parameters: {'x_0_0': 'ab', 'x_0_1': 'cd', 'x_0_2': 'cd', 'x_1_0': 'oo', 'x_1_1': 'bc', 'x_1_2': 'bd'}. Best is trial 0 with value: 10.0.\n",
      "[I 2024-12-07 15:54:46,437] Trial 1 finished with value: 10.0 and parameters: {'x_0_0': 'bc', 'x_0_1': 'ac', 'x_0_2': 'ad', 'x_1_0': 'bd', 'x_1_1': 'cd', 'x_1_2': 'ad'}. Best is trial 0 with value: 10.0.\n",
      "[I 2024-12-07 15:54:46,438] Trial 2 finished with value: 0.9444444444444444 and parameters: {'x_0_0': 'ad', 'x_0_1': 'oo', 'x_0_2': 'cd', 'x_1_0': 'bc', 'x_1_1': 'oo', 'x_1_2': 'bd'}. Best is trial 2 with value: 0.9444444444444444.\n",
      "[I 2024-12-07 15:54:46,439] Trial 3 finished with value: 10.0 and parameters: {'x_0_0': 'bd', 'x_0_1': 'bd', 'x_0_2': 'oo', 'x_1_0': 'bc', 'x_1_1': 'bc', 'x_1_2': 'ac'}. Best is trial 2 with value: 0.9444444444444444.\n",
      "[I 2024-12-07 15:54:46,440] Trial 4 finished with value: 10.0 and parameters: {'x_0_0': 'ad', 'x_0_1': 'oo', 'x_0_2': 'ad', 'x_1_0': 'cd', 'x_1_1': 'bc', 'x_1_2': 'bd'}. Best is trial 2 with value: 0.9444444444444444.\n",
      "[I 2024-12-07 15:54:46,440] Trial 5 finished with value: 10.0 and parameters: {'x_0_0': 'ab', 'x_0_1': 'oo', 'x_0_2': 'ab', 'x_1_0': 'ab', 'x_1_1': 'ad', 'x_1_2': 'cd'}. Best is trial 2 with value: 0.9444444444444444.\n",
      "[I 2024-12-07 15:54:46,441] Trial 6 finished with value: 10.0 and parameters: {'x_0_0': 'ab', 'x_0_1': 'bd', 'x_0_2': 'oo', 'x_1_0': 'ab', 'x_1_1': 'ab', 'x_1_2': 'oo'}. Best is trial 2 with value: 0.9444444444444444.\n",
      "[I 2024-12-07 15:54:46,442] Trial 7 finished with value: 10.0 and parameters: {'x_0_0': 'bc', 'x_0_1': 'oo', 'x_0_2': 'ac', 'x_1_0': 'bc', 'x_1_1': 'bd', 'x_1_2': 'bd'}. Best is trial 2 with value: 0.9444444444444444.\n",
      "[I 2024-12-07 15:54:46,442] Trial 8 finished with value: 10.0 and parameters: {'x_0_0': 'bd', 'x_0_1': 'oo', 'x_0_2': 'cd', 'x_1_0': 'ac', 'x_1_1': 'ac', 'x_1_2': 'bd'}. Best is trial 2 with value: 0.9444444444444444.\n",
      "[I 2024-12-07 15:54:46,443] Trial 9 finished with value: 10.0 and parameters: {'x_0_0': 'bc', 'x_0_1': 'cd', 'x_0_2': 'ad', 'x_1_0': 'ab', 'x_1_1': 'cd', 'x_1_2': 'ad'}. Best is trial 2 with value: 0.9444444444444444.\n",
      "[I 2024-12-07 15:54:46,444] Trial 10 finished with value: 10.0 and parameters: {'x_0_0': 'bc', 'x_0_1': 'oo', 'x_0_2': 'ac', 'x_1_0': 'ad', 'x_1_1': 'bd', 'x_1_2': 'ab'}. Best is trial 2 with value: 0.9444444444444444.\n",
      "[I 2024-12-07 15:54:46,445] Trial 11 finished with value: 10.0 and parameters: {'x_0_0': 'bc', 'x_0_1': 'bd', 'x_0_2': 'ab', 'x_1_0': 'oo', 'x_1_1': 'cd', 'x_1_2': 'ab'}. Best is trial 2 with value: 0.9444444444444444.\n",
      "[I 2024-12-07 15:54:46,445] Trial 12 finished with value: 10.0 and parameters: {'x_0_0': 'ac', 'x_0_1': 'ad', 'x_0_2': 'ab', 'x_1_0': 'bd', 'x_1_1': 'oo', 'x_1_2': 'ac'}. Best is trial 2 with value: 0.9444444444444444.\n",
      "[I 2024-12-07 15:54:46,446] Trial 13 finished with value: 10.0 and parameters: {'x_0_0': 'ac', 'x_0_1': 'bd', 'x_0_2': 'ac', 'x_1_0': 'oo', 'x_1_1': 'cd', 'x_1_2': 'bd'}. Best is trial 2 with value: 0.9444444444444444.\n",
      "[I 2024-12-07 15:54:46,447] Trial 14 finished with value: 10.0 and parameters: {'x_0_0': 'ab', 'x_0_1': 'cd', 'x_0_2': 'ad', 'x_1_0': 'cd', 'x_1_1': 'bd', 'x_1_2': 'ab'}. Best is trial 2 with value: 0.9444444444444444.\n",
      "[I 2024-12-07 15:54:46,448] Trial 15 finished with value: 10.0 and parameters: {'x_0_0': 'ac', 'x_0_1': 'bc', 'x_0_2': 'bc', 'x_1_0': 'ad', 'x_1_1': 'oo', 'x_1_2': 'ad'}. Best is trial 2 with value: 0.9444444444444444.\n",
      "[I 2024-12-07 15:54:46,449] Trial 16 finished with value: 10.0 and parameters: {'x_0_0': 'ad', 'x_0_1': 'oo', 'x_0_2': 'cd', 'x_1_0': 'bc', 'x_1_1': 'cd', 'x_1_2': 'ac'}. Best is trial 2 with value: 0.9444444444444444.\n",
      "[I 2024-12-07 15:54:46,450] Trial 17 finished with value: 10.0 and parameters: {'x_0_0': 'oo', 'x_0_1': 'oo', 'x_0_2': 'ab', 'x_1_0': 'bd', 'x_1_1': 'ab', 'x_1_2': 'ad'}. Best is trial 2 with value: 0.9444444444444444.\n",
      "[I 2024-12-07 15:54:46,451] Trial 18 finished with value: 10.0 and parameters: {'x_0_0': 'bd', 'x_0_1': 'bd', 'x_0_2': 'oo', 'x_1_0': 'cd', 'x_1_1': 'ac', 'x_1_2': 'bc'}. Best is trial 2 with value: 0.9444444444444444.\n",
      "[I 2024-12-07 15:54:46,451] Trial 19 finished with value: 10.0 and parameters: {'x_0_0': 'bd', 'x_0_1': 'oo', 'x_0_2': 'oo', 'x_1_0': 'oo', 'x_1_1': 'ad', 'x_1_2': 'ac'}. Best is trial 2 with value: 0.9444444444444444.\n",
      "[I 2024-12-07 15:54:49,860] Trial 20 finished with value: 1.4 and parameters: {'x_0_0': 'cd', 'x_0_1': 'oo', 'x_0_2': 'bc', 'x_1_0': 'oo', 'x_1_1': 'ad', 'x_1_2': 'bc'}. Best is trial 2 with value: 0.9444444444444444.\n",
      "[I 2024-12-07 15:54:53,291] Trial 21 finished with value: 1.3666666666666667 and parameters: {'x_0_0': 'bd', 'x_0_1': 'bc', 'x_0_2': 'ab', 'x_1_0': 'oo', 'x_1_1': 'oo', 'x_1_2': 'ad'}. Best is trial 2 with value: 0.9444444444444444.\n",
      "[I 2024-12-07 15:54:56,839] Trial 22 finished with value: 1.0666666666666667 and parameters: {'x_0_0': 'bc', 'x_0_1': 'oo', 'x_0_2': 'cd', 'x_1_0': 'oo', 'x_1_1': 'ac', 'x_1_2': 'ac'}. Best is trial 2 with value: 0.9444444444444444.\n",
      "[W 2024-12-07 15:54:57,679] Trial 23 failed with parameters: {} because of the following error: KeyboardInterrupt().\n",
      "Traceback (most recent call last):\n",
      "  File \"/Users/keisukeonoue/ws/constrained_BO_v3/bo-env_v3/lib/python3.12/site-packages/optuna/study/_optimize.py\", line 197, in _run_trial\n",
      "    value_or_values = func(trial)\n",
      "                      ^^^^^^^^^^^\n",
      "  File \"/var/folders/_b/b62kq0490fn2ptq7m4mbp8yr0000gp/T/ipykernel_13188/1338313694.py\", line 63, in objective\n",
      "    x[i, j] = trial.suggest_categorical(f\"x_{i}_{j}\", directions)\n",
      "              ^^^^^^^^^^^^^^^^^^^^^^^^^^^^^^^^^^^^^^^^^^^^^^^^^^^\n",
      "  File \"/Users/keisukeonoue/ws/constrained_BO_v3/bo-env_v3/lib/python3.12/site-packages/optuna/trial/_trial.py\", line 402, in suggest_categorical\n",
      "    return self._suggest(name, CategoricalDistribution(choices=choices))\n",
      "           ^^^^^^^^^^^^^^^^^^^^^^^^^^^^^^^^^^^^^^^^^^^^^^^^^^^^^^^^^^^^^\n",
      "  File \"/Users/keisukeonoue/ws/constrained_BO_v3/bo-env_v3/lib/python3.12/site-packages/optuna/trial/_trial.py\", line 627, in _suggest\n",
      "    elif self._is_relative_param(name, distribution):\n",
      "         ^^^^^^^^^^^^^^^^^^^^^^^^^^^^^^^^^^^^^^^^^^^\n",
      "  File \"/Users/keisukeonoue/ws/constrained_BO_v3/bo-env_v3/lib/python3.12/site-packages/optuna/trial/_trial.py\", line 659, in _is_relative_param\n",
      "    if name not in self.relative_params:\n",
      "                   ^^^^^^^^^^^^^^^^^^^^\n",
      "  File \"/Users/keisukeonoue/ws/constrained_BO_v3/bo-env_v3/lib/python3.12/site-packages/optuna/trial/_trial.py\", line 71, in relative_params\n",
      "    self._relative_params = self.study.sampler.sample_relative(\n",
      "                            ^^^^^^^^^^^^^^^^^^^^^^^^^^^^^^^^^^^\n",
      "  File \"/var/folders/_b/b62kq0490fn2ptq7m4mbp8yr0000gp/T/ipykernel_13188/1201016267.py\", line 94, in sample_relative\n",
      "    mean_tensor, std_tensor = self._fit(\n",
      "                              ^^^^^^^^^^\n",
      "  File \"/var/folders/_b/b62kq0490fn2ptq7m4mbp8yr0000gp/T/ipykernel_13188/1201016267.py\", line 204, in _fit\n",
      "    self._decompose_with_optional_mask(\n",
      "  File \"/var/folders/_b/b62kq0490fn2ptq7m4mbp8yr0000gp/T/ipykernel_13188/1201016267.py\", line 317, in _decompose_with_optional_mask\n",
      "    cp_tensor = parafac(\n",
      "                ^^^^^^^^\n",
      "  File \"/Users/keisukeonoue/ws/constrained_BO_v3/bo-env_v3/lib/python3.12/site-packages/tensorly/decomposition/_cp.py\", line 423, in parafac\n",
      "    mttkrp = unfolding_dot_khatri_rao(tensor, (weights, factors), mode)\n",
      "             ^^^^^^^^^^^^^^^^^^^^^^^^^^^^^^^^^^^^^^^^^^^^^^^^^^^^^^^^^^\n",
      "  File \"/Users/keisukeonoue/ws/constrained_BO_v3/bo-env_v3/lib/python3.12/site-packages/tensorly/backend/__init__.py\", line 202, in wrapped_backend_method\n",
      "    return getattr(\n",
      "           ^^^^^^^^\n",
      "  File \"/Users/keisukeonoue/ws/constrained_BO_v3/bo-env_v3/lib/python3.12/site-packages/tensorly/tenalg/core_tenalg/mttkrp.py\", line 48, in unfolding_dot_khatri_rao\n",
      "    kr_factors = khatri_rao(factors, weights=weights, skip_matrix=mode)\n",
      "                 ^^^^^^^^^^^^^^^^^^^^^^^^^^^^^^^^^^^^^^^^^^^^^^^^^^^^^^\n",
      "  File \"/Users/keisukeonoue/ws/constrained_BO_v3/bo-env_v3/lib/python3.12/site-packages/tensorly/tenalg/core_tenalg/_khatri_rao.py\", line 105, in khatri_rao\n",
      "    res = T.reshape(a * b, (-1, n_columns))\n",
      "          ^^^^^^^^^^^^^^^^^^^^^^^^^^^^^^^^^\n",
      "  File \"/Users/keisukeonoue/ws/constrained_BO_v3/bo-env_v3/lib/python3.12/site-packages/tensorly/backend/__init__.py\", line 202, in wrapped_backend_method\n",
      "    return getattr(\n",
      "           ^^^^^^^^\n",
      "  File \"/Users/keisukeonoue/ws/constrained_BO_v3/bo-env_v3/lib/python3.12/site-packages/numpy/_core/fromnumeric.py\", line 328, in reshape\n",
      "    return _wrapfunc(a, 'reshape', shape, order=order)\n",
      "           ^^^^^^^^^^^^^^^^^^^^^^^^^^^^^^^^^^^^^^^^^^^\n",
      "  File \"/Users/keisukeonoue/ws/constrained_BO_v3/bo-env_v3/lib/python3.12/site-packages/numpy/_core/fromnumeric.py\", line 51, in _wrapfunc\n",
      "    def _wrapfunc(obj, method, *args, **kwds):\n",
      "    \n",
      "KeyboardInterrupt\n",
      "[W 2024-12-07 15:54:57,680] Trial 23 failed with value None.\n"
     ]
    },
    {
     "ename": "KeyboardInterrupt",
     "evalue": "",
     "output_type": "error",
     "traceback": [
      "\u001b[0;31m---------------------------------------------------------------------------\u001b[0m",
      "\u001b[0;31mKeyboardInterrupt\u001b[0m                         Traceback (most recent call last)",
      "Cell \u001b[0;32mIn[39], line 146\u001b[0m\n\u001b[1;32m    141\u001b[0m     optuna\u001b[38;5;241m.\u001b[39mvisualization\u001b[38;5;241m.\u001b[39mplot_optimization_history(study)\n\u001b[1;32m    145\u001b[0m \u001b[38;5;28;01mif\u001b[39;00m \u001b[38;5;18m__name__\u001b[39m \u001b[38;5;241m==\u001b[39m \u001b[38;5;124m\"\u001b[39m\u001b[38;5;124m__main__\u001b[39m\u001b[38;5;124m\"\u001b[39m:\n\u001b[0;32m--> 146\u001b[0m     \u001b[43mrun_bo\u001b[49m\u001b[43m(\u001b[49m\u001b[43m)\u001b[49m\n",
      "Cell \u001b[0;32mIn[39], line 134\u001b[0m, in \u001b[0;36mrun_bo\u001b[0;34m()\u001b[0m\n\u001b[1;32m    126\u001b[0m direction \u001b[38;5;241m=\u001b[39m \u001b[38;5;124m\"\u001b[39m\u001b[38;5;124mmaximize\u001b[39m\u001b[38;5;124m\"\u001b[39m \u001b[38;5;28;01mif\u001b[39;00m settings[\u001b[38;5;124m\"\u001b[39m\u001b[38;5;124macqf_settings\u001b[39m\u001b[38;5;124m\"\u001b[39m][\u001b[38;5;124m\"\u001b[39m\u001b[38;5;124mmaximize\u001b[39m\u001b[38;5;124m\"\u001b[39m] \u001b[38;5;28;01melse\u001b[39;00m \u001b[38;5;124m\"\u001b[39m\u001b[38;5;124mminimize\u001b[39m\u001b[38;5;124m\"\u001b[39m\n\u001b[1;32m    128\u001b[0m study \u001b[38;5;241m=\u001b[39m optuna\u001b[38;5;241m.\u001b[39mcreate_study(\n\u001b[1;32m    129\u001b[0m     study_name\u001b[38;5;241m=\u001b[39msettings[\u001b[38;5;124m\"\u001b[39m\u001b[38;5;124mname\u001b[39m\u001b[38;5;124m\"\u001b[39m],\n\u001b[1;32m    130\u001b[0m     sampler\u001b[38;5;241m=\u001b[39msampler,\n\u001b[1;32m    131\u001b[0m     direction\u001b[38;5;241m=\u001b[39mdirection,\n\u001b[1;32m    132\u001b[0m )\n\u001b[0;32m--> 134\u001b[0m \u001b[43mstudy\u001b[49m\u001b[38;5;241;43m.\u001b[39;49m\u001b[43moptimize\u001b[49m\u001b[43m(\u001b[49m\u001b[43mobjective_with_args\u001b[49m\u001b[43m,\u001b[49m\u001b[43m \u001b[49m\u001b[43mn_trials\u001b[49m\u001b[38;5;241;43m=\u001b[39;49m\u001b[43msettings\u001b[49m\u001b[43m[\u001b[49m\u001b[38;5;124;43m\"\u001b[39;49m\u001b[38;5;124;43miter_bo\u001b[39;49m\u001b[38;5;124;43m\"\u001b[39;49m\u001b[43m]\u001b[49m\u001b[43m)\u001b[49m\n\u001b[1;32m    136\u001b[0m best_x \u001b[38;5;241m=\u001b[39m np\u001b[38;5;241m.\u001b[39mempty(map_shape, dtype\u001b[38;5;241m=\u001b[39m\u001b[38;5;28mobject\u001b[39m)\n\u001b[1;32m    137\u001b[0m \u001b[38;5;28;01mfor\u001b[39;00m i \u001b[38;5;129;01min\u001b[39;00m \u001b[38;5;28mrange\u001b[39m(map_shape[\u001b[38;5;241m0\u001b[39m]):\n",
      "File \u001b[0;32m~/ws/constrained_BO_v3/bo-env_v3/lib/python3.12/site-packages/optuna/study/study.py:475\u001b[0m, in \u001b[0;36mStudy.optimize\u001b[0;34m(self, func, n_trials, timeout, n_jobs, catch, callbacks, gc_after_trial, show_progress_bar)\u001b[0m\n\u001b[1;32m    373\u001b[0m \u001b[38;5;28;01mdef\u001b[39;00m \u001b[38;5;21moptimize\u001b[39m(\n\u001b[1;32m    374\u001b[0m     \u001b[38;5;28mself\u001b[39m,\n\u001b[1;32m    375\u001b[0m     func: ObjectiveFuncType,\n\u001b[0;32m   (...)\u001b[0m\n\u001b[1;32m    382\u001b[0m     show_progress_bar: \u001b[38;5;28mbool\u001b[39m \u001b[38;5;241m=\u001b[39m \u001b[38;5;28;01mFalse\u001b[39;00m,\n\u001b[1;32m    383\u001b[0m ) \u001b[38;5;241m-\u001b[39m\u001b[38;5;241m>\u001b[39m \u001b[38;5;28;01mNone\u001b[39;00m:\n\u001b[1;32m    384\u001b[0m \u001b[38;5;250m    \u001b[39m\u001b[38;5;124;03m\"\"\"Optimize an objective function.\u001b[39;00m\n\u001b[1;32m    385\u001b[0m \n\u001b[1;32m    386\u001b[0m \u001b[38;5;124;03m    Optimization is done by choosing a suitable set of hyperparameter values from a given\u001b[39;00m\n\u001b[0;32m   (...)\u001b[0m\n\u001b[1;32m    473\u001b[0m \u001b[38;5;124;03m            If nested invocation of this method occurs.\u001b[39;00m\n\u001b[1;32m    474\u001b[0m \u001b[38;5;124;03m    \"\"\"\u001b[39;00m\n\u001b[0;32m--> 475\u001b[0m     \u001b[43m_optimize\u001b[49m\u001b[43m(\u001b[49m\n\u001b[1;32m    476\u001b[0m \u001b[43m        \u001b[49m\u001b[43mstudy\u001b[49m\u001b[38;5;241;43m=\u001b[39;49m\u001b[38;5;28;43mself\u001b[39;49m\u001b[43m,\u001b[49m\n\u001b[1;32m    477\u001b[0m \u001b[43m        \u001b[49m\u001b[43mfunc\u001b[49m\u001b[38;5;241;43m=\u001b[39;49m\u001b[43mfunc\u001b[49m\u001b[43m,\u001b[49m\n\u001b[1;32m    478\u001b[0m \u001b[43m        \u001b[49m\u001b[43mn_trials\u001b[49m\u001b[38;5;241;43m=\u001b[39;49m\u001b[43mn_trials\u001b[49m\u001b[43m,\u001b[49m\n\u001b[1;32m    479\u001b[0m \u001b[43m        \u001b[49m\u001b[43mtimeout\u001b[49m\u001b[38;5;241;43m=\u001b[39;49m\u001b[43mtimeout\u001b[49m\u001b[43m,\u001b[49m\n\u001b[1;32m    480\u001b[0m \u001b[43m        \u001b[49m\u001b[43mn_jobs\u001b[49m\u001b[38;5;241;43m=\u001b[39;49m\u001b[43mn_jobs\u001b[49m\u001b[43m,\u001b[49m\n\u001b[1;32m    481\u001b[0m \u001b[43m        \u001b[49m\u001b[43mcatch\u001b[49m\u001b[38;5;241;43m=\u001b[39;49m\u001b[38;5;28;43mtuple\u001b[39;49m\u001b[43m(\u001b[49m\u001b[43mcatch\u001b[49m\u001b[43m)\u001b[49m\u001b[43m \u001b[49m\u001b[38;5;28;43;01mif\u001b[39;49;00m\u001b[43m \u001b[49m\u001b[38;5;28;43misinstance\u001b[39;49m\u001b[43m(\u001b[49m\u001b[43mcatch\u001b[49m\u001b[43m,\u001b[49m\u001b[43m \u001b[49m\u001b[43mIterable\u001b[49m\u001b[43m)\u001b[49m\u001b[43m \u001b[49m\u001b[38;5;28;43;01melse\u001b[39;49;00m\u001b[43m \u001b[49m\u001b[43m(\u001b[49m\u001b[43mcatch\u001b[49m\u001b[43m,\u001b[49m\u001b[43m)\u001b[49m\u001b[43m,\u001b[49m\n\u001b[1;32m    482\u001b[0m \u001b[43m        \u001b[49m\u001b[43mcallbacks\u001b[49m\u001b[38;5;241;43m=\u001b[39;49m\u001b[43mcallbacks\u001b[49m\u001b[43m,\u001b[49m\n\u001b[1;32m    483\u001b[0m \u001b[43m        \u001b[49m\u001b[43mgc_after_trial\u001b[49m\u001b[38;5;241;43m=\u001b[39;49m\u001b[43mgc_after_trial\u001b[49m\u001b[43m,\u001b[49m\n\u001b[1;32m    484\u001b[0m \u001b[43m        \u001b[49m\u001b[43mshow_progress_bar\u001b[49m\u001b[38;5;241;43m=\u001b[39;49m\u001b[43mshow_progress_bar\u001b[49m\u001b[43m,\u001b[49m\n\u001b[1;32m    485\u001b[0m \u001b[43m    \u001b[49m\u001b[43m)\u001b[49m\n",
      "File \u001b[0;32m~/ws/constrained_BO_v3/bo-env_v3/lib/python3.12/site-packages/optuna/study/_optimize.py:63\u001b[0m, in \u001b[0;36m_optimize\u001b[0;34m(study, func, n_trials, timeout, n_jobs, catch, callbacks, gc_after_trial, show_progress_bar)\u001b[0m\n\u001b[1;32m     61\u001b[0m \u001b[38;5;28;01mtry\u001b[39;00m:\n\u001b[1;32m     62\u001b[0m     \u001b[38;5;28;01mif\u001b[39;00m n_jobs \u001b[38;5;241m==\u001b[39m \u001b[38;5;241m1\u001b[39m:\n\u001b[0;32m---> 63\u001b[0m         \u001b[43m_optimize_sequential\u001b[49m\u001b[43m(\u001b[49m\n\u001b[1;32m     64\u001b[0m \u001b[43m            \u001b[49m\u001b[43mstudy\u001b[49m\u001b[43m,\u001b[49m\n\u001b[1;32m     65\u001b[0m \u001b[43m            \u001b[49m\u001b[43mfunc\u001b[49m\u001b[43m,\u001b[49m\n\u001b[1;32m     66\u001b[0m \u001b[43m            \u001b[49m\u001b[43mn_trials\u001b[49m\u001b[43m,\u001b[49m\n\u001b[1;32m     67\u001b[0m \u001b[43m            \u001b[49m\u001b[43mtimeout\u001b[49m\u001b[43m,\u001b[49m\n\u001b[1;32m     68\u001b[0m \u001b[43m            \u001b[49m\u001b[43mcatch\u001b[49m\u001b[43m,\u001b[49m\n\u001b[1;32m     69\u001b[0m \u001b[43m            \u001b[49m\u001b[43mcallbacks\u001b[49m\u001b[43m,\u001b[49m\n\u001b[1;32m     70\u001b[0m \u001b[43m            \u001b[49m\u001b[43mgc_after_trial\u001b[49m\u001b[43m,\u001b[49m\n\u001b[1;32m     71\u001b[0m \u001b[43m            \u001b[49m\u001b[43mreseed_sampler_rng\u001b[49m\u001b[38;5;241;43m=\u001b[39;49m\u001b[38;5;28;43;01mFalse\u001b[39;49;00m\u001b[43m,\u001b[49m\n\u001b[1;32m     72\u001b[0m \u001b[43m            \u001b[49m\u001b[43mtime_start\u001b[49m\u001b[38;5;241;43m=\u001b[39;49m\u001b[38;5;28;43;01mNone\u001b[39;49;00m\u001b[43m,\u001b[49m\n\u001b[1;32m     73\u001b[0m \u001b[43m            \u001b[49m\u001b[43mprogress_bar\u001b[49m\u001b[38;5;241;43m=\u001b[39;49m\u001b[43mprogress_bar\u001b[49m\u001b[43m,\u001b[49m\n\u001b[1;32m     74\u001b[0m \u001b[43m        \u001b[49m\u001b[43m)\u001b[49m\n\u001b[1;32m     75\u001b[0m     \u001b[38;5;28;01melse\u001b[39;00m:\n\u001b[1;32m     76\u001b[0m         \u001b[38;5;28;01mif\u001b[39;00m n_jobs \u001b[38;5;241m==\u001b[39m \u001b[38;5;241m-\u001b[39m\u001b[38;5;241m1\u001b[39m:\n",
      "File \u001b[0;32m~/ws/constrained_BO_v3/bo-env_v3/lib/python3.12/site-packages/optuna/study/_optimize.py:160\u001b[0m, in \u001b[0;36m_optimize_sequential\u001b[0;34m(study, func, n_trials, timeout, catch, callbacks, gc_after_trial, reseed_sampler_rng, time_start, progress_bar)\u001b[0m\n\u001b[1;32m    157\u001b[0m         \u001b[38;5;28;01mbreak\u001b[39;00m\n\u001b[1;32m    159\u001b[0m \u001b[38;5;28;01mtry\u001b[39;00m:\n\u001b[0;32m--> 160\u001b[0m     frozen_trial \u001b[38;5;241m=\u001b[39m \u001b[43m_run_trial\u001b[49m\u001b[43m(\u001b[49m\u001b[43mstudy\u001b[49m\u001b[43m,\u001b[49m\u001b[43m \u001b[49m\u001b[43mfunc\u001b[49m\u001b[43m,\u001b[49m\u001b[43m \u001b[49m\u001b[43mcatch\u001b[49m\u001b[43m)\u001b[49m\n\u001b[1;32m    161\u001b[0m \u001b[38;5;28;01mfinally\u001b[39;00m:\n\u001b[1;32m    162\u001b[0m     \u001b[38;5;66;03m# The following line mitigates memory problems that can be occurred in some\u001b[39;00m\n\u001b[1;32m    163\u001b[0m     \u001b[38;5;66;03m# environments (e.g., services that use computing containers such as GitHub Actions).\u001b[39;00m\n\u001b[1;32m    164\u001b[0m     \u001b[38;5;66;03m# Please refer to the following PR for further details:\u001b[39;00m\n\u001b[1;32m    165\u001b[0m     \u001b[38;5;66;03m# https://github.com/optuna/optuna/pull/325.\u001b[39;00m\n\u001b[1;32m    166\u001b[0m     \u001b[38;5;28;01mif\u001b[39;00m gc_after_trial:\n",
      "File \u001b[0;32m~/ws/constrained_BO_v3/bo-env_v3/lib/python3.12/site-packages/optuna/study/_optimize.py:248\u001b[0m, in \u001b[0;36m_run_trial\u001b[0;34m(study, func, catch)\u001b[0m\n\u001b[1;32m    241\u001b[0m         \u001b[38;5;28;01massert\u001b[39;00m \u001b[38;5;28;01mFalse\u001b[39;00m, \u001b[38;5;124m\"\u001b[39m\u001b[38;5;124mShould not reach.\u001b[39m\u001b[38;5;124m\"\u001b[39m\n\u001b[1;32m    243\u001b[0m \u001b[38;5;28;01mif\u001b[39;00m (\n\u001b[1;32m    244\u001b[0m     frozen_trial\u001b[38;5;241m.\u001b[39mstate \u001b[38;5;241m==\u001b[39m TrialState\u001b[38;5;241m.\u001b[39mFAIL\n\u001b[1;32m    245\u001b[0m     \u001b[38;5;129;01mand\u001b[39;00m func_err \u001b[38;5;129;01mis\u001b[39;00m \u001b[38;5;129;01mnot\u001b[39;00m \u001b[38;5;28;01mNone\u001b[39;00m\n\u001b[1;32m    246\u001b[0m     \u001b[38;5;129;01mand\u001b[39;00m \u001b[38;5;129;01mnot\u001b[39;00m \u001b[38;5;28misinstance\u001b[39m(func_err, catch)\n\u001b[1;32m    247\u001b[0m ):\n\u001b[0;32m--> 248\u001b[0m     \u001b[38;5;28;01mraise\u001b[39;00m func_err\n\u001b[1;32m    249\u001b[0m \u001b[38;5;28;01mreturn\u001b[39;00m frozen_trial\n",
      "File \u001b[0;32m~/ws/constrained_BO_v3/bo-env_v3/lib/python3.12/site-packages/optuna/study/_optimize.py:197\u001b[0m, in \u001b[0;36m_run_trial\u001b[0;34m(study, func, catch)\u001b[0m\n\u001b[1;32m    195\u001b[0m \u001b[38;5;28;01mwith\u001b[39;00m get_heartbeat_thread(trial\u001b[38;5;241m.\u001b[39m_trial_id, study\u001b[38;5;241m.\u001b[39m_storage):\n\u001b[1;32m    196\u001b[0m     \u001b[38;5;28;01mtry\u001b[39;00m:\n\u001b[0;32m--> 197\u001b[0m         value_or_values \u001b[38;5;241m=\u001b[39m \u001b[43mfunc\u001b[49m\u001b[43m(\u001b[49m\u001b[43mtrial\u001b[49m\u001b[43m)\u001b[49m\n\u001b[1;32m    198\u001b[0m     \u001b[38;5;28;01mexcept\u001b[39;00m exceptions\u001b[38;5;241m.\u001b[39mTrialPruned \u001b[38;5;28;01mas\u001b[39;00m e:\n\u001b[1;32m    199\u001b[0m         \u001b[38;5;66;03m# TODO(mamu): Handle multi-objective cases.\u001b[39;00m\n\u001b[1;32m    200\u001b[0m         state \u001b[38;5;241m=\u001b[39m TrialState\u001b[38;5;241m.\u001b[39mPRUNED\n",
      "Cell \u001b[0;32mIn[39], line 63\u001b[0m, in \u001b[0;36mobjective\u001b[0;34m(trial, map_shape, objective_function)\u001b[0m\n\u001b[1;32m     61\u001b[0m \u001b[38;5;28;01mfor\u001b[39;00m i \u001b[38;5;129;01min\u001b[39;00m \u001b[38;5;28mrange\u001b[39m(map_shape[\u001b[38;5;241m0\u001b[39m]):\n\u001b[1;32m     62\u001b[0m     \u001b[38;5;28;01mfor\u001b[39;00m j \u001b[38;5;129;01min\u001b[39;00m \u001b[38;5;28mrange\u001b[39m(map_shape[\u001b[38;5;241m1\u001b[39m]):\n\u001b[0;32m---> 63\u001b[0m         x[i, j] \u001b[38;5;241m=\u001b[39m \u001b[43mtrial\u001b[49m\u001b[38;5;241;43m.\u001b[39;49m\u001b[43msuggest_categorical\u001b[49m\u001b[43m(\u001b[49m\u001b[38;5;124;43mf\u001b[39;49m\u001b[38;5;124;43m\"\u001b[39;49m\u001b[38;5;124;43mx_\u001b[39;49m\u001b[38;5;132;43;01m{\u001b[39;49;00m\u001b[43mi\u001b[49m\u001b[38;5;132;43;01m}\u001b[39;49;00m\u001b[38;5;124;43m_\u001b[39;49m\u001b[38;5;132;43;01m{\u001b[39;49;00m\u001b[43mj\u001b[49m\u001b[38;5;132;43;01m}\u001b[39;49;00m\u001b[38;5;124;43m\"\u001b[39;49m\u001b[43m,\u001b[49m\u001b[43m \u001b[49m\u001b[43mdirections\u001b[49m\u001b[43m)\u001b[49m\n\u001b[1;32m     64\u001b[0m \u001b[38;5;28;01mreturn\u001b[39;00m objective_function(x)\n",
      "File \u001b[0;32m~/ws/constrained_BO_v3/bo-env_v3/lib/python3.12/site-packages/optuna/trial/_trial.py:402\u001b[0m, in \u001b[0;36mTrial.suggest_categorical\u001b[0;34m(self, name, choices)\u001b[0m\n\u001b[1;32m    351\u001b[0m \u001b[38;5;250m\u001b[39m\u001b[38;5;124;03m\"\"\"Suggest a value for the categorical parameter.\u001b[39;00m\n\u001b[1;32m    352\u001b[0m \n\u001b[1;32m    353\u001b[0m \u001b[38;5;124;03mThe value is sampled from ``choices``.\u001b[39;00m\n\u001b[0;32m   (...)\u001b[0m\n\u001b[1;32m    397\u001b[0m \u001b[38;5;124;03m    :ref:`configurations` tutorial describes more details and flexible usages.\u001b[39;00m\n\u001b[1;32m    398\u001b[0m \u001b[38;5;124;03m\"\"\"\u001b[39;00m\n\u001b[1;32m    399\u001b[0m \u001b[38;5;66;03m# There is no need to call self._check_distribution because\u001b[39;00m\n\u001b[1;32m    400\u001b[0m \u001b[38;5;66;03m# CategoricalDistribution does not support dynamic value space.\u001b[39;00m\n\u001b[0;32m--> 402\u001b[0m \u001b[38;5;28;01mreturn\u001b[39;00m \u001b[38;5;28;43mself\u001b[39;49m\u001b[38;5;241;43m.\u001b[39;49m\u001b[43m_suggest\u001b[49m\u001b[43m(\u001b[49m\u001b[43mname\u001b[49m\u001b[43m,\u001b[49m\u001b[43m \u001b[49m\u001b[43mCategoricalDistribution\u001b[49m\u001b[43m(\u001b[49m\u001b[43mchoices\u001b[49m\u001b[38;5;241;43m=\u001b[39;49m\u001b[43mchoices\u001b[49m\u001b[43m)\u001b[49m\u001b[43m)\u001b[49m\n",
      "File \u001b[0;32m~/ws/constrained_BO_v3/bo-env_v3/lib/python3.12/site-packages/optuna/trial/_trial.py:627\u001b[0m, in \u001b[0;36mTrial._suggest\u001b[0;34m(self, name, distribution)\u001b[0m\n\u001b[1;32m    625\u001b[0m \u001b[38;5;28;01melif\u001b[39;00m distribution\u001b[38;5;241m.\u001b[39msingle():\n\u001b[1;32m    626\u001b[0m     param_value \u001b[38;5;241m=\u001b[39m distributions\u001b[38;5;241m.\u001b[39m_get_single_value(distribution)\n\u001b[0;32m--> 627\u001b[0m \u001b[38;5;28;01melif\u001b[39;00m \u001b[38;5;28;43mself\u001b[39;49m\u001b[38;5;241;43m.\u001b[39;49m\u001b[43m_is_relative_param\u001b[49m\u001b[43m(\u001b[49m\u001b[43mname\u001b[49m\u001b[43m,\u001b[49m\u001b[43m \u001b[49m\u001b[43mdistribution\u001b[49m\u001b[43m)\u001b[49m:\n\u001b[1;32m    628\u001b[0m     param_value \u001b[38;5;241m=\u001b[39m \u001b[38;5;28mself\u001b[39m\u001b[38;5;241m.\u001b[39mrelative_params[name]\n\u001b[1;32m    629\u001b[0m \u001b[38;5;28;01melse\u001b[39;00m:\n",
      "File \u001b[0;32m~/ws/constrained_BO_v3/bo-env_v3/lib/python3.12/site-packages/optuna/trial/_trial.py:659\u001b[0m, in \u001b[0;36mTrial._is_relative_param\u001b[0;34m(self, name, distribution)\u001b[0m\n\u001b[1;32m    658\u001b[0m \u001b[38;5;28;01mdef\u001b[39;00m \u001b[38;5;21m_is_relative_param\u001b[39m(\u001b[38;5;28mself\u001b[39m, name: \u001b[38;5;28mstr\u001b[39m, distribution: BaseDistribution) \u001b[38;5;241m-\u001b[39m\u001b[38;5;241m>\u001b[39m \u001b[38;5;28mbool\u001b[39m:\n\u001b[0;32m--> 659\u001b[0m     \u001b[38;5;28;01mif\u001b[39;00m name \u001b[38;5;129;01mnot\u001b[39;00m \u001b[38;5;129;01min\u001b[39;00m \u001b[38;5;28;43mself\u001b[39;49m\u001b[38;5;241;43m.\u001b[39;49m\u001b[43mrelative_params\u001b[49m:\n\u001b[1;32m    660\u001b[0m         \u001b[38;5;28;01mreturn\u001b[39;00m \u001b[38;5;28;01mFalse\u001b[39;00m\n\u001b[1;32m    662\u001b[0m     \u001b[38;5;28;01mif\u001b[39;00m name \u001b[38;5;129;01mnot\u001b[39;00m \u001b[38;5;129;01min\u001b[39;00m \u001b[38;5;28mself\u001b[39m\u001b[38;5;241m.\u001b[39mrelative_search_space:\n",
      "File \u001b[0;32m~/ws/constrained_BO_v3/bo-env_v3/lib/python3.12/site-packages/optuna/trial/_trial.py:71\u001b[0m, in \u001b[0;36mTrial.relative_params\u001b[0;34m(self)\u001b[0m\n\u001b[1;32m     69\u001b[0m \u001b[38;5;28;01mif\u001b[39;00m \u001b[38;5;28mself\u001b[39m\u001b[38;5;241m.\u001b[39m_relative_params \u001b[38;5;129;01mis\u001b[39;00m \u001b[38;5;28;01mNone\u001b[39;00m:\n\u001b[1;32m     70\u001b[0m     study \u001b[38;5;241m=\u001b[39m pruners\u001b[38;5;241m.\u001b[39m_filter_study(\u001b[38;5;28mself\u001b[39m\u001b[38;5;241m.\u001b[39mstudy, \u001b[38;5;28mself\u001b[39m\u001b[38;5;241m.\u001b[39m_cached_frozen_trial)\n\u001b[0;32m---> 71\u001b[0m     \u001b[38;5;28mself\u001b[39m\u001b[38;5;241m.\u001b[39m_relative_params \u001b[38;5;241m=\u001b[39m \u001b[38;5;28;43mself\u001b[39;49m\u001b[38;5;241;43m.\u001b[39;49m\u001b[43mstudy\u001b[49m\u001b[38;5;241;43m.\u001b[39;49m\u001b[43msampler\u001b[49m\u001b[38;5;241;43m.\u001b[39;49m\u001b[43msample_relative\u001b[49m\u001b[43m(\u001b[49m\n\u001b[1;32m     72\u001b[0m \u001b[43m        \u001b[49m\u001b[43mstudy\u001b[49m\u001b[43m,\u001b[49m\u001b[43m \u001b[49m\u001b[38;5;28;43mself\u001b[39;49m\u001b[38;5;241;43m.\u001b[39;49m\u001b[43m_cached_frozen_trial\u001b[49m\u001b[43m,\u001b[49m\u001b[43m \u001b[49m\u001b[38;5;28;43mself\u001b[39;49m\u001b[38;5;241;43m.\u001b[39;49m\u001b[43mrelative_search_space\u001b[49m\n\u001b[1;32m     73\u001b[0m \u001b[43m    \u001b[49m\u001b[43m)\u001b[49m\n\u001b[1;32m     74\u001b[0m \u001b[38;5;28;01mreturn\u001b[39;00m \u001b[38;5;28mself\u001b[39m\u001b[38;5;241m.\u001b[39m_relative_params\n",
      "Cell \u001b[0;32mIn[37], line 94\u001b[0m, in \u001b[0;36mParafacSampler.sample_relative\u001b[0;34m(self, study, trial, search_space)\u001b[0m\n\u001b[1;32m     91\u001b[0m \u001b[38;5;28mself\u001b[39m\u001b[38;5;241m.\u001b[39m_update_tensor(study)\n\u001b[1;32m     93\u001b[0m \u001b[38;5;66;03m# Perform CP decomposition and suggest next parameter set\u001b[39;00m\n\u001b[0;32m---> 94\u001b[0m mean_tensor, std_tensor \u001b[38;5;241m=\u001b[39m \u001b[38;5;28;43mself\u001b[39;49m\u001b[38;5;241;43m.\u001b[39;49m\u001b[43m_fit\u001b[49m\u001b[43m(\u001b[49m\n\u001b[1;32m     95\u001b[0m \u001b[43m    \u001b[49m\u001b[38;5;28;43mself\u001b[39;49m\u001b[38;5;241;43m.\u001b[39;49m\u001b[43m_tensor_eval\u001b[49m\u001b[43m,\u001b[49m\n\u001b[1;32m     96\u001b[0m \u001b[43m    \u001b[49m\u001b[38;5;28;43mself\u001b[39;49m\u001b[38;5;241;43m.\u001b[39;49m\u001b[43m_tensor_eval_bool\u001b[49m\u001b[43m,\u001b[49m\n\u001b[1;32m     97\u001b[0m \u001b[43m\u001b[49m\u001b[43m)\u001b[49m\n\u001b[1;32m     99\u001b[0m \u001b[38;5;66;03m# Suggest next indices based on the selected acquisition function\u001b[39;00m\n\u001b[1;32m    100\u001b[0m \u001b[38;5;28;01mif\u001b[39;00m \u001b[38;5;28mself\u001b[39m\u001b[38;5;241m.\u001b[39macquisition_function \u001b[38;5;241m==\u001b[39m \u001b[38;5;124m\"\u001b[39m\u001b[38;5;124mucb\u001b[39m\u001b[38;5;124m\"\u001b[39m:\n",
      "Cell \u001b[0;32mIn[37], line 204\u001b[0m, in \u001b[0;36mParafacSampler._fit\u001b[0;34m(self, tensor_eval, tensor_eval_bool)\u001b[0m\n\u001b[1;32m    194\u001b[0m \u001b[38;5;28;01mdef\u001b[39;00m \u001b[38;5;21m_fit\u001b[39m(\n\u001b[1;32m    195\u001b[0m     \u001b[38;5;28mself\u001b[39m,\n\u001b[1;32m    196\u001b[0m     tensor_eval: np\u001b[38;5;241m.\u001b[39mndarray,\n\u001b[1;32m    197\u001b[0m     tensor_eval_bool: np\u001b[38;5;241m.\u001b[39mndarray,\n\u001b[1;32m    198\u001b[0m ) \u001b[38;5;241m-\u001b[39m\u001b[38;5;241m>\u001b[39m \u001b[38;5;28mtuple\u001b[39m[np\u001b[38;5;241m.\u001b[39mndarray, np\u001b[38;5;241m.\u001b[39mndarray]:\n\u001b[1;32m    199\u001b[0m     eval_mean, eval_std \u001b[38;5;241m=\u001b[39m \u001b[38;5;28mself\u001b[39m\u001b[38;5;241m.\u001b[39m_calculate_eval_stats(\n\u001b[1;32m    200\u001b[0m         tensor_eval\n\u001b[1;32m    201\u001b[0m     )\n\u001b[1;32m    203\u001b[0m     tensors_list \u001b[38;5;241m=\u001b[39m [\n\u001b[0;32m--> 204\u001b[0m         \u001b[38;5;28;43mself\u001b[39;49m\u001b[38;5;241;43m.\u001b[39;49m\u001b[43m_decompose_with_optional_mask\u001b[49m\u001b[43m(\u001b[49m\n\u001b[1;32m    205\u001b[0m \u001b[43m            \u001b[49m\u001b[43mtensor_eval\u001b[49m\u001b[43m,\u001b[49m\n\u001b[1;32m    206\u001b[0m \u001b[43m            \u001b[49m\u001b[43mtensor_eval_bool\u001b[49m\u001b[43m,\u001b[49m\n\u001b[1;32m    207\u001b[0m \u001b[43m            \u001b[49m\u001b[43meval_mean\u001b[49m\u001b[43m,\u001b[49m\n\u001b[1;32m    208\u001b[0m \u001b[43m            \u001b[49m\u001b[43meval_std\u001b[49m\u001b[43m,\u001b[49m\n\u001b[1;32m    209\u001b[0m \u001b[43m            \u001b[49m\u001b[38;5;28;43mself\u001b[39;49m\u001b[38;5;241;43m.\u001b[39;49m\u001b[43m_maximize\u001b[49m\n\u001b[1;32m    210\u001b[0m \u001b[43m        \u001b[49m\u001b[43m)\u001b[49m\n\u001b[1;32m    211\u001b[0m         \u001b[38;5;28;01mfor\u001b[39;00m _ \u001b[38;5;129;01min\u001b[39;00m \u001b[38;5;28mrange\u001b[39m(\u001b[38;5;28mself\u001b[39m\u001b[38;5;241m.\u001b[39mdecomp_iter_num)\n\u001b[1;32m    212\u001b[0m     ]\n\u001b[1;32m    214\u001b[0m     \u001b[38;5;28;01mreturn\u001b[39;00m \u001b[38;5;28mself\u001b[39m\u001b[38;5;241m.\u001b[39m_calculate_mean_std_tensors(\n\u001b[1;32m    215\u001b[0m         tensors_list, tensor_eval, tensor_eval_bool, \u001b[38;5;28mself\u001b[39m\u001b[38;5;241m.\u001b[39m_maximize\n\u001b[1;32m    216\u001b[0m     )\n",
      "Cell \u001b[0;32mIn[37], line 317\u001b[0m, in \u001b[0;36mParafacSampler._decompose_with_optional_mask\u001b[0;34m(self, tensor_eval, tensor_eval_bool, eval_mean, eval_std, maximize)\u001b[0m\n\u001b[1;32m    314\u001b[0m         init_tensor_eval[\u001b[38;5;28mself\u001b[39m\u001b[38;5;241m.\u001b[39m_tensor_constraint \u001b[38;5;241m==\u001b[39m \u001b[38;5;241m0\u001b[39m] \u001b[38;5;241m=\u001b[39m np\u001b[38;5;241m.\u001b[39mnanmax(init_tensor_eval) \u001b[38;5;241m+\u001b[39m \u001b[38;5;241m1.0\u001b[39m \u001b[38;5;241m*\u001b[39m \u001b[38;5;241m1\u001b[39m\n\u001b[1;32m    316\u001b[0m \u001b[38;5;66;03m# Perform CP decomposition\u001b[39;00m\n\u001b[0;32m--> 317\u001b[0m cp_tensor \u001b[38;5;241m=\u001b[39m \u001b[43mparafac\u001b[49m\u001b[43m(\u001b[49m\n\u001b[1;32m    318\u001b[0m \u001b[43m    \u001b[49m\u001b[43minit_tensor_eval\u001b[49m\u001b[43m,\u001b[49m\n\u001b[1;32m    319\u001b[0m \u001b[43m    \u001b[49m\u001b[43mrank\u001b[49m\u001b[38;5;241;43m=\u001b[39;49m\u001b[38;5;28;43mself\u001b[39;49m\u001b[38;5;241;43m.\u001b[39;49m\u001b[43mcp_rank\u001b[49m\u001b[43m,\u001b[49m\n\u001b[1;32m    320\u001b[0m \u001b[43m    \u001b[49m\u001b[43mmask\u001b[49m\u001b[38;5;241;43m=\u001b[39;49m\u001b[43mmask_tensor\u001b[49m\u001b[43m,\u001b[49m\n\u001b[1;32m    321\u001b[0m \u001b[43m    \u001b[49m\u001b[43mn_iter_max\u001b[49m\u001b[38;5;241;43m=\u001b[39;49m\u001b[38;5;28;43mself\u001b[39;49m\u001b[38;5;241;43m.\u001b[39;49m\u001b[43mals_iter_num\u001b[49m\u001b[43m,\u001b[49m\n\u001b[1;32m    322\u001b[0m \u001b[43m    \u001b[49m\u001b[43minit\u001b[49m\u001b[38;5;241;43m=\u001b[39;49m\u001b[38;5;124;43m\"\u001b[39;49m\u001b[38;5;124;43mrandom\u001b[39;49m\u001b[38;5;124;43m\"\u001b[39;49m\u001b[43m,\u001b[49m\n\u001b[1;32m    323\u001b[0m \u001b[43m    \u001b[49m\u001b[43mrandom_state\u001b[49m\u001b[38;5;241;43m=\u001b[39;49m\u001b[38;5;28;43mself\u001b[39;49m\u001b[38;5;241;43m.\u001b[39;49m\u001b[43mrng\u001b[49m\u001b[43m,\u001b[49m\u001b[43m  \u001b[49m\u001b[38;5;66;43;03m# Ensure the random state is passed\u001b[39;49;00m\n\u001b[1;32m    324\u001b[0m \u001b[43m\u001b[49m\u001b[43m)\u001b[49m\n\u001b[1;32m    325\u001b[0m \u001b[38;5;28;01mreturn\u001b[39;00m cp_to_tensor(cp_tensor)\n",
      "File \u001b[0;32m~/ws/constrained_BO_v3/bo-env_v3/lib/python3.12/site-packages/tensorly/decomposition/_cp.py:423\u001b[0m, in \u001b[0;36mparafac\u001b[0;34m(tensor, rank, n_iter_max, init, svd, normalize_factors, orthogonalise, tol, random_state, verbose, return_errors, sparsity, l2_reg, mask, cvg_criterion, fixed_modes, svd_mask_repeats, linesearch, callback)\u001b[0m\n\u001b[1;32m    417\u001b[0m pseudo_inverse \u001b[38;5;241m+\u001b[39m\u001b[38;5;241m=\u001b[39m Id\n\u001b[1;32m    418\u001b[0m pseudo_inverse \u001b[38;5;241m=\u001b[39m (\n\u001b[1;32m    419\u001b[0m     tl\u001b[38;5;241m.\u001b[39mreshape(weights, (\u001b[38;5;241m-\u001b[39m\u001b[38;5;241m1\u001b[39m, \u001b[38;5;241m1\u001b[39m))\n\u001b[1;32m    420\u001b[0m     \u001b[38;5;241m*\u001b[39m pseudo_inverse\n\u001b[1;32m    421\u001b[0m     \u001b[38;5;241m*\u001b[39m tl\u001b[38;5;241m.\u001b[39mreshape(weights, (\u001b[38;5;241m1\u001b[39m, \u001b[38;5;241m-\u001b[39m\u001b[38;5;241m1\u001b[39m))\n\u001b[1;32m    422\u001b[0m )\n\u001b[0;32m--> 423\u001b[0m mttkrp \u001b[38;5;241m=\u001b[39m \u001b[43munfolding_dot_khatri_rao\u001b[49m\u001b[43m(\u001b[49m\u001b[43mtensor\u001b[49m\u001b[43m,\u001b[49m\u001b[43m \u001b[49m\u001b[43m(\u001b[49m\u001b[43mweights\u001b[49m\u001b[43m,\u001b[49m\u001b[43m \u001b[49m\u001b[43mfactors\u001b[49m\u001b[43m)\u001b[49m\u001b[43m,\u001b[49m\u001b[43m \u001b[49m\u001b[43mmode\u001b[49m\u001b[43m)\u001b[49m\n\u001b[1;32m    425\u001b[0m factor \u001b[38;5;241m=\u001b[39m tl\u001b[38;5;241m.\u001b[39mtranspose(\n\u001b[1;32m    426\u001b[0m     tl\u001b[38;5;241m.\u001b[39msolve(tl\u001b[38;5;241m.\u001b[39mconj(tl\u001b[38;5;241m.\u001b[39mtranspose(pseudo_inverse)), tl\u001b[38;5;241m.\u001b[39mtranspose(mttkrp))\n\u001b[1;32m    427\u001b[0m )\n\u001b[1;32m    428\u001b[0m factors[mode] \u001b[38;5;241m=\u001b[39m factor\n",
      "File \u001b[0;32m~/ws/constrained_BO_v3/bo-env_v3/lib/python3.12/site-packages/tensorly/backend/__init__.py:202\u001b[0m, in \u001b[0;36mBackendManager.dispatch_backend_method.<locals>.wrapped_backend_method\u001b[0;34m(*args, **kwargs)\u001b[0m\n\u001b[1;32m    198\u001b[0m \u001b[38;5;28;01mdef\u001b[39;00m \u001b[38;5;21mwrapped_backend_method\u001b[39m(\u001b[38;5;241m*\u001b[39margs, \u001b[38;5;241m*\u001b[39m\u001b[38;5;241m*\u001b[39mkwargs):\n\u001b[1;32m    199\u001b[0m \u001b[38;5;250m    \u001b[39m\u001b[38;5;124;03m\"\"\"A dynamically dispatched method\u001b[39;00m\n\u001b[1;32m    200\u001b[0m \n\u001b[1;32m    201\u001b[0m \u001b[38;5;124;03m    Returns the queried method from the currently set backend\"\"\"\u001b[39;00m\n\u001b[0;32m--> 202\u001b[0m     \u001b[38;5;28;01mreturn\u001b[39;00m \u001b[38;5;28;43mgetattr\u001b[39;49m\u001b[43m(\u001b[49m\n\u001b[1;32m    203\u001b[0m \u001b[43m        \u001b[49m\u001b[38;5;28;43mcls\u001b[39;49m\u001b[38;5;241;43m.\u001b[39;49m\u001b[43m_THREAD_LOCAL_DATA\u001b[49m\u001b[38;5;241;43m.\u001b[39;49m\u001b[38;5;18;43m__dict__\u001b[39;49m\u001b[38;5;241;43m.\u001b[39;49m\u001b[43mget\u001b[49m\u001b[43m(\u001b[49m\u001b[38;5;124;43m\"\u001b[39;49m\u001b[38;5;124;43mbackend\u001b[39;49m\u001b[38;5;124;43m\"\u001b[39;49m\u001b[43m,\u001b[49m\u001b[43m \u001b[49m\u001b[38;5;28;43mcls\u001b[39;49m\u001b[38;5;241;43m.\u001b[39;49m\u001b[43m_backend\u001b[49m\u001b[43m)\u001b[49m\u001b[43m,\u001b[49m\u001b[43m \u001b[49m\u001b[43mname\u001b[49m\n\u001b[1;32m    204\u001b[0m \u001b[43m    \u001b[49m\u001b[43m)\u001b[49m\u001b[43m(\u001b[49m\u001b[38;5;241;43m*\u001b[39;49m\u001b[43margs\u001b[49m\u001b[43m,\u001b[49m\u001b[43m \u001b[49m\u001b[38;5;241;43m*\u001b[39;49m\u001b[38;5;241;43m*\u001b[39;49m\u001b[43mkwargs\u001b[49m\u001b[43m)\u001b[49m\n",
      "File \u001b[0;32m~/ws/constrained_BO_v3/bo-env_v3/lib/python3.12/site-packages/tensorly/tenalg/core_tenalg/mttkrp.py:48\u001b[0m, in \u001b[0;36munfolding_dot_khatri_rao\u001b[0;34m(tensor, cp_tensor, mode)\u001b[0m\n\u001b[1;32m     10\u001b[0m \u001b[38;5;250m\u001b[39m\u001b[38;5;124;03m\"\"\"mode-n unfolding times khatri-rao product of factors\u001b[39;00m\n\u001b[1;32m     11\u001b[0m \n\u001b[1;32m     12\u001b[0m \u001b[38;5;124;03mParameters\u001b[39;00m\n\u001b[0;32m   (...)\u001b[0m\n\u001b[1;32m     45\u001b[0m \n\u001b[1;32m     46\u001b[0m \u001b[38;5;124;03m\"\"\"\u001b[39;00m\n\u001b[1;32m     47\u001b[0m weights, factors \u001b[38;5;241m=\u001b[39m cp_tensor\n\u001b[0;32m---> 48\u001b[0m kr_factors \u001b[38;5;241m=\u001b[39m \u001b[43mkhatri_rao\u001b[49m\u001b[43m(\u001b[49m\u001b[43mfactors\u001b[49m\u001b[43m,\u001b[49m\u001b[43m \u001b[49m\u001b[43mweights\u001b[49m\u001b[38;5;241;43m=\u001b[39;49m\u001b[43mweights\u001b[49m\u001b[43m,\u001b[49m\u001b[43m \u001b[49m\u001b[43mskip_matrix\u001b[49m\u001b[38;5;241;43m=\u001b[39;49m\u001b[43mmode\u001b[49m\u001b[43m)\u001b[49m\n\u001b[1;32m     49\u001b[0m mttkrp \u001b[38;5;241m=\u001b[39m T\u001b[38;5;241m.\u001b[39mdot(unfold(tensor, mode), T\u001b[38;5;241m.\u001b[39mconj(kr_factors))\n\u001b[1;32m     50\u001b[0m \u001b[38;5;28;01mreturn\u001b[39;00m mttkrp\n",
      "File \u001b[0;32m~/ws/constrained_BO_v3/bo-env_v3/lib/python3.12/site-packages/tensorly/tenalg/core_tenalg/_khatri_rao.py:105\u001b[0m, in \u001b[0;36mkhatri_rao\u001b[0;34m(matrices, weights, skip_matrix, mask)\u001b[0m\n\u001b[1;32m    103\u001b[0m     a \u001b[38;5;241m=\u001b[39m T\u001b[38;5;241m.\u001b[39mreshape(res, (s1, \u001b[38;5;241m1\u001b[39m, s2))\n\u001b[1;32m    104\u001b[0m     b \u001b[38;5;241m=\u001b[39m T\u001b[38;5;241m.\u001b[39mreshape(e, (\u001b[38;5;241m1\u001b[39m, s3, s4))\n\u001b[0;32m--> 105\u001b[0m     res \u001b[38;5;241m=\u001b[39m \u001b[43mT\u001b[49m\u001b[38;5;241;43m.\u001b[39;49m\u001b[43mreshape\u001b[49m\u001b[43m(\u001b[49m\u001b[43ma\u001b[49m\u001b[43m \u001b[49m\u001b[38;5;241;43m*\u001b[39;49m\u001b[43m \u001b[49m\u001b[43mb\u001b[49m\u001b[43m,\u001b[49m\u001b[43m \u001b[49m\u001b[43m(\u001b[49m\u001b[38;5;241;43m-\u001b[39;49m\u001b[38;5;241;43m1\u001b[39;49m\u001b[43m,\u001b[49m\u001b[43m \u001b[49m\u001b[43mn_columns\u001b[49m\u001b[43m)\u001b[49m\u001b[43m)\u001b[49m\n\u001b[1;32m    107\u001b[0m m \u001b[38;5;241m=\u001b[39m T\u001b[38;5;241m.\u001b[39mreshape(mask, (\u001b[38;5;241m-\u001b[39m\u001b[38;5;241m1\u001b[39m, \u001b[38;5;241m1\u001b[39m)) \u001b[38;5;28;01mif\u001b[39;00m mask \u001b[38;5;129;01mis\u001b[39;00m \u001b[38;5;129;01mnot\u001b[39;00m \u001b[38;5;28;01mNone\u001b[39;00m \u001b[38;5;28;01melse\u001b[39;00m \u001b[38;5;241m1\u001b[39m\n\u001b[1;32m    109\u001b[0m \u001b[38;5;28;01mreturn\u001b[39;00m res \u001b[38;5;241m*\u001b[39m m\n",
      "File \u001b[0;32m~/ws/constrained_BO_v3/bo-env_v3/lib/python3.12/site-packages/tensorly/backend/__init__.py:202\u001b[0m, in \u001b[0;36mBackendManager.dispatch_backend_method.<locals>.wrapped_backend_method\u001b[0;34m(*args, **kwargs)\u001b[0m\n\u001b[1;32m    198\u001b[0m \u001b[38;5;28;01mdef\u001b[39;00m \u001b[38;5;21mwrapped_backend_method\u001b[39m(\u001b[38;5;241m*\u001b[39margs, \u001b[38;5;241m*\u001b[39m\u001b[38;5;241m*\u001b[39mkwargs):\n\u001b[1;32m    199\u001b[0m \u001b[38;5;250m    \u001b[39m\u001b[38;5;124;03m\"\"\"A dynamically dispatched method\u001b[39;00m\n\u001b[1;32m    200\u001b[0m \n\u001b[1;32m    201\u001b[0m \u001b[38;5;124;03m    Returns the queried method from the currently set backend\"\"\"\u001b[39;00m\n\u001b[0;32m--> 202\u001b[0m     \u001b[38;5;28;01mreturn\u001b[39;00m \u001b[38;5;28;43mgetattr\u001b[39;49m\u001b[43m(\u001b[49m\n\u001b[1;32m    203\u001b[0m \u001b[43m        \u001b[49m\u001b[38;5;28;43mcls\u001b[39;49m\u001b[38;5;241;43m.\u001b[39;49m\u001b[43m_THREAD_LOCAL_DATA\u001b[49m\u001b[38;5;241;43m.\u001b[39;49m\u001b[38;5;18;43m__dict__\u001b[39;49m\u001b[38;5;241;43m.\u001b[39;49m\u001b[43mget\u001b[49m\u001b[43m(\u001b[49m\u001b[38;5;124;43m\"\u001b[39;49m\u001b[38;5;124;43mbackend\u001b[39;49m\u001b[38;5;124;43m\"\u001b[39;49m\u001b[43m,\u001b[49m\u001b[43m \u001b[49m\u001b[38;5;28;43mcls\u001b[39;49m\u001b[38;5;241;43m.\u001b[39;49m\u001b[43m_backend\u001b[49m\u001b[43m)\u001b[49m\u001b[43m,\u001b[49m\u001b[43m \u001b[49m\u001b[43mname\u001b[49m\n\u001b[1;32m    204\u001b[0m \u001b[43m    \u001b[49m\u001b[43m)\u001b[49m\u001b[43m(\u001b[49m\u001b[38;5;241;43m*\u001b[39;49m\u001b[43margs\u001b[49m\u001b[43m,\u001b[49m\u001b[43m \u001b[49m\u001b[38;5;241;43m*\u001b[39;49m\u001b[38;5;241;43m*\u001b[39;49m\u001b[43mkwargs\u001b[49m\u001b[43m)\u001b[49m\n",
      "File \u001b[0;32m~/ws/constrained_BO_v3/bo-env_v3/lib/python3.12/site-packages/numpy/_core/fromnumeric.py:328\u001b[0m, in \u001b[0;36mreshape\u001b[0;34m(a, shape, order, newshape, copy)\u001b[0m\n\u001b[1;32m    326\u001b[0m \u001b[38;5;28;01mif\u001b[39;00m copy \u001b[38;5;129;01mis\u001b[39;00m \u001b[38;5;129;01mnot\u001b[39;00m \u001b[38;5;28;01mNone\u001b[39;00m:\n\u001b[1;32m    327\u001b[0m     \u001b[38;5;28;01mreturn\u001b[39;00m _wrapfunc(a, \u001b[38;5;124m'\u001b[39m\u001b[38;5;124mreshape\u001b[39m\u001b[38;5;124m'\u001b[39m, shape, order\u001b[38;5;241m=\u001b[39morder, copy\u001b[38;5;241m=\u001b[39mcopy)\n\u001b[0;32m--> 328\u001b[0m \u001b[38;5;28;01mreturn\u001b[39;00m \u001b[43m_wrapfunc\u001b[49m\u001b[43m(\u001b[49m\u001b[43ma\u001b[49m\u001b[43m,\u001b[49m\u001b[43m \u001b[49m\u001b[38;5;124;43m'\u001b[39;49m\u001b[38;5;124;43mreshape\u001b[39;49m\u001b[38;5;124;43m'\u001b[39;49m\u001b[43m,\u001b[49m\u001b[43m \u001b[49m\u001b[43mshape\u001b[49m\u001b[43m,\u001b[49m\u001b[43m \u001b[49m\u001b[43morder\u001b[49m\u001b[38;5;241;43m=\u001b[39;49m\u001b[43morder\u001b[49m\u001b[43m)\u001b[49m\n",
      "File \u001b[0;32m~/ws/constrained_BO_v3/bo-env_v3/lib/python3.12/site-packages/numpy/_core/fromnumeric.py:51\u001b[0m, in \u001b[0;36m_wrapfunc\u001b[0;34m(obj, method, *args, **kwds)\u001b[0m\n\u001b[1;32m     46\u001b[0m     result \u001b[38;5;241m=\u001b[39m \u001b[38;5;28mgetattr\u001b[39m(arr, method)(\u001b[38;5;241m*\u001b[39margs, \u001b[38;5;241m*\u001b[39m\u001b[38;5;241m*\u001b[39mkwds)\n\u001b[1;32m     48\u001b[0m     \u001b[38;5;28;01mreturn\u001b[39;00m conv\u001b[38;5;241m.\u001b[39mwrap(result, to_scalar\u001b[38;5;241m=\u001b[39m\u001b[38;5;28;01mFalse\u001b[39;00m)\n\u001b[0;32m---> 51\u001b[0m \u001b[38;5;28;01mdef\u001b[39;00m \u001b[38;5;21m_wrapfunc\u001b[39m(obj, method, \u001b[38;5;241m*\u001b[39margs, \u001b[38;5;241m*\u001b[39m\u001b[38;5;241m*\u001b[39mkwds):\n\u001b[1;32m     52\u001b[0m     bound \u001b[38;5;241m=\u001b[39m \u001b[38;5;28mgetattr\u001b[39m(obj, method, \u001b[38;5;28;01mNone\u001b[39;00m)\n\u001b[1;32m     53\u001b[0m     \u001b[38;5;28;01mif\u001b[39;00m bound \u001b[38;5;129;01mis\u001b[39;00m \u001b[38;5;28;01mNone\u001b[39;00m:\n",
      "\u001b[0;31mKeyboardInterrupt\u001b[0m: "
     ]
    }
   ],
   "source": [
    "import random\n",
    "import numpy as np\n",
    "import optuna\n",
    "from functools import partial\n",
    "from _src import WarcraftObjective\n",
    "\n",
    "\n",
    "def build_constraint_warcraft(map_shape: tuple[int, int]) -> np.ndarray:\n",
    "    # Directions dictionary\n",
    "    directions_dict = {\n",
    "        \"oo\": np.array([0, 0]),\n",
    "        \"ab\": np.array([1, 1]),\n",
    "        \"ac\": np.array([0, 2]),\n",
    "        \"ad\": np.array([1, 1]),\n",
    "        \"bc\": np.array([1, 1]),\n",
    "        \"bd\": np.array([2, 0]),\n",
    "        \"cd\": np.array([1, 1]),\n",
    "    }\n",
    "\n",
    "    directions_list = list(directions_dict.keys())\n",
    "\n",
    "    # Map parameters\n",
    "    map_length = map_shape[0] * map_shape[1]\n",
    "    ideal_gain = (map_shape[0] + map_shape[1] - 1) * 2\n",
    "\n",
    "    # Initialize constraints as NumPy arrays\n",
    "    tensor_constraint_1 = np.zeros((len(directions_list),) * map_length)\n",
    "    tensor_constraint_2 = np.zeros((len(directions_list),) * map_length)\n",
    "    tensor_constraint_3 = np.zeros((len(directions_list),) * map_length)\n",
    "\n",
    "    # Constraint 1: (0, 0) != \"oo\", \"ab\"\n",
    "    for direction in directions_list:\n",
    "        if direction not in [\"oo\", \"ab\"]:\n",
    "            # tensor_constraint_1[..., directions_list.index(direction)] = 1\n",
    "            tensor_constraint_1[directions_list.index(direction), ...] = 1\n",
    "\n",
    "    # Constraint 2: (map_shape[0] - 1, map_shape[1] - 1) != \"oo\", \"cd\"\n",
    "    for direction in directions_list:\n",
    "        if direction not in [\"oo\", \"cd\"]:\n",
    "            # tensor_constraint_2[directions_list.index(direction), ...] = 1\n",
    "            tensor_constraint_2[..., directions_list.index(direction)] = 1\n",
    "\n",
    "    # Constraint 3: len[path] == map_shape[0] * map_shape[1]\n",
    "    for index, _ in np.ndenumerate(tensor_constraint_3):\n",
    "        gain = np.sum([directions_dict[directions_list[idx]].sum() for idx in index])\n",
    "        if gain == ideal_gain:\n",
    "            tensor_constraint_3[index] = 1\n",
    "\n",
    "    # Combine constraints with logical AND\n",
    "    tensor_constraint = np.logical_and(\n",
    "        tensor_constraint_1,\n",
    "        np.logical_and(tensor_constraint_2, tensor_constraint_3)\n",
    "    )\n",
    "\n",
    "    return tensor_constraint\n",
    "\n",
    "\n",
    "def objective(trial, map_shape=None, objective_function=None):\n",
    "    directions = [\"oo\", \"ab\", \"ac\", \"ad\", \"bc\", \"bd\", \"cd\"]\n",
    "    x = np.empty(map_shape, dtype=object)\n",
    "    for i in range(map_shape[0]):\n",
    "        for j in range(map_shape[1]):\n",
    "            x[i, j] = trial.suggest_categorical(f\"x_{i}_{j}\", directions)\n",
    "    return objective_function(x)\n",
    "\n",
    "\n",
    "def get_map(map_option: int):\n",
    "    if map_option == 1:\n",
    "        map_targeted = np.array([[1, 4], [2, 1]])\n",
    "    elif map_option == 2:\n",
    "        map_targeted = np.array([[1, 4, 1], [2, 1, 1]])\n",
    "    elif map_option == 3:\n",
    "        map_targeted = np.array([[1, 4, 1], [2, 1, 3], [5, 2, 1]])\n",
    "    else:\n",
    "        raise ValueError(f\"Invalid map option: {map_option}\")\n",
    "    return map_targeted / map_targeted.sum()\n",
    "\n",
    "\n",
    "def run_bo():\n",
    "    settings = {\n",
    "        \"name\": \"test_study\",\n",
    "        \"seed\": 1,\n",
    "        \"map_option\": 2,\n",
    "        \"iter_bo\": 100,\n",
    "        \"unique_sampling\": False,\n",
    "        \"decomp_num\": 10,\n",
    "        \"cp_settings\": {\n",
    "            \"rank\": 3,\n",
    "            \"als_iterations\": 100,\n",
    "            \"mask_ratio\": 0.9,\n",
    "            \"include_observed_points\": False,\n",
    "        },\n",
    "        \"acqf_settings\": {\n",
    "            \"acquisition_function\": \"ei\",\n",
    "            \"trade_off_param\": 3.0,\n",
    "            \"batch_size\": 1,\n",
    "            \"maximize\": False,\n",
    "        },\n",
    "        \"n_startup_trials\": 20,\n",
    "    }\n",
    "\n",
    "    random.seed(settings['seed'])\n",
    "\n",
    "    map_targeted = get_map(settings[\"map_option\"])\n",
    "    map_shape = map_targeted.shape\n",
    "\n",
    "    tensor_constraint = build_constraint_warcraft(map_shape)\n",
    "\n",
    "    objective_function = WarcraftObjective(map_targeted, tensor_constraint=tensor_constraint)\n",
    "    objective_with_args = partial(objective, map_shape=map_shape, objective_function=objective_function)\n",
    "\n",
    "    sampler = ParafacSampler(\n",
    "        cp_rank=settings[\"cp_settings\"][\"rank\"],\n",
    "        als_iter_num=settings[\"cp_settings\"][\"als_iterations\"],\n",
    "        mask_ratio=settings[\"cp_settings\"][\"mask_ratio\"],\n",
    "        acquisition_function=settings[\"acqf_settings\"][\"acquisition_function\"],\n",
    "        trade_off_param=settings[\"acqf_settings\"][\"trade_off_param\"],\n",
    "        seed=settings[\"seed\"],\n",
    "        unique_sampling=settings[\"unique_sampling\"],\n",
    "        decomp_iter_num=settings[\"decomp_num\"],\n",
    "        n_startup_trials=settings[\"n_startup_trials\"],\n",
    "        include_observed_points=settings[\"cp_settings\"].get(\"include_observed_points\", False),\n",
    "        tensor_constraint=tensor_constraint,\n",
    "    )\n",
    "\n",
    "    direction = \"maximize\" if settings[\"acqf_settings\"][\"maximize\"] else \"minimize\"\n",
    "\n",
    "    study = optuna.create_study(\n",
    "        study_name=settings[\"name\"],\n",
    "        sampler=sampler,\n",
    "        direction=direction,\n",
    "    )\n",
    "\n",
    "    study.optimize(objective_with_args, n_trials=settings[\"iter_bo\"])\n",
    "\n",
    "    best_x = np.empty(map_shape, dtype=object)\n",
    "    for i in range(map_shape[0]):\n",
    "        for j in range(map_shape[1]):\n",
    "            best_x[i, j] = study.best_params[f\"x_{i}_{j}\"]\n",
    "\n",
    "    optuna.visualization.plot_optimization_history(study)\n",
    "\n",
    "\n",
    "\n",
    "if __name__ == \"__main__\":\n",
    "    run_bo()"
   ]
  },
  {
   "cell_type": "code",
   "execution_count": 31,
   "metadata": {},
   "outputs": [
    {
     "data": {
      "text/plain": [
       "(7, 7, 7, 7)"
      ]
     },
     "execution_count": 31,
     "metadata": {},
     "output_type": "execute_result"
    }
   ],
   "source": [
    "tensor.shape"
   ]
  },
  {
   "cell_type": "code",
   "execution_count": 32,
   "metadata": {},
   "outputs": [
    {
     "data": {
      "text/plain": [
       "2401"
      ]
     },
     "execution_count": 32,
     "metadata": {},
     "output_type": "execute_result"
    }
   ],
   "source": [
    "7**4"
   ]
  },
  {
   "cell_type": "code",
   "execution_count": 33,
   "metadata": {},
   "outputs": [
    {
     "data": {
      "text/plain": [
       "np.int64(300)"
      ]
     },
     "execution_count": 33,
     "metadata": {},
     "output_type": "execute_result"
    }
   ],
   "source": [
    "tensor.sum()"
   ]
  },
  {
   "cell_type": "code",
   "execution_count": 42,
   "metadata": {},
   "outputs": [
    {
     "data": {
      "text/plain": [
       "array([[[0, 1],\n",
       "        [0, 1],\n",
       "        [1, 1]],\n",
       "\n",
       "       [[0, 0],\n",
       "        [1, 0],\n",
       "        [1, 0]],\n",
       "\n",
       "       [[0, 0],\n",
       "        [1, 1],\n",
       "        [0, 1]],\n",
       "\n",
       "       [[0, 0],\n",
       "        [1, 1],\n",
       "        [1, 1]]])"
      ]
     },
     "execution_count": 42,
     "metadata": {},
     "output_type": "execute_result"
    }
   ],
   "source": [
    "arr = np.random.randint(0, 2, (4, 3, 2))\n",
    "arr"
   ]
  },
  {
   "cell_type": "code",
   "execution_count": 46,
   "metadata": {},
   "outputs": [
    {
     "data": {
      "text/plain": [
       "(np.int64(0), np.int64(1), np.int64(1))"
      ]
     },
     "execution_count": 46,
     "metadata": {},
     "output_type": "execute_result"
    }
   ],
   "source": [
    "arr[(0, 0, 0)], arr[(-1, -1, -1)], arr[(0, -1, -1)]"
   ]
  },
  {
   "cell_type": "code",
   "execution_count": 47,
   "metadata": {},
   "outputs": [
    {
     "data": {
      "text/plain": [
       "array([[[0, 1],\n",
       "        [0, 1],\n",
       "        [1, 2]],\n",
       "\n",
       "       [[0, 0],\n",
       "        [1, 0],\n",
       "        [1, 0]],\n",
       "\n",
       "       [[0, 0],\n",
       "        [1, 1],\n",
       "        [0, 1]],\n",
       "\n",
       "       [[0, 0],\n",
       "        [1, 1],\n",
       "        [1, 1]]])"
      ]
     },
     "execution_count": 47,
     "metadata": {},
     "output_type": "execute_result"
    }
   ],
   "source": [
    "arr[(0, -1, -1)] = 2\n",
    "arr"
   ]
  },
  {
   "cell_type": "code",
   "execution_count": null,
   "metadata": {},
   "outputs": [],
   "source": [
    "arr = np.array([\n",
    "    [\"aa\", \"ab\", \"ac\"],\n",
    "    [\"ba\", \"bb\", \"bc\"],\n",
    "    \n",
    "])"
   ]
  },
  {
   "cell_type": "code",
   "execution_count": null,
   "metadata": {},
   "outputs": [
    {
     "name": "stdout",
     "output_type": "stream",
     "text": [
      "[['aa' 'ab' 'ac' 'ad']\n",
      " ['ba' 'bb' 'bc' 'bd']\n",
      " ['ca' 'cb' 'cc' 'cd']\n",
      " ['da' 'db' 'dc' 'dd']]\n"
     ]
    }
   ],
   "source": [
    "import numpy as np\n",
    "\n",
    "# 元のリスト\n",
    "elements = [\"a\", \"b\", \"c\", \"d\"]\n",
    "\n",
    "# 2文字の組み合わせを作成し、2次元配列に整形\n",
    "arr = np.array([[f\"{x}{y}\" for y in elements] for x in elements])\n",
    "\n",
    "print(arr)"
   ]
  },
  {
   "cell_type": "code",
   "execution_count": 53,
   "metadata": {},
   "outputs": [
    {
     "data": {
      "text/plain": [
       "array(['aa', 'ab', 'ac', 'ad'], dtype='<U2')"
      ]
     },
     "execution_count": 53,
     "metadata": {},
     "output_type": "execute_result"
    }
   ],
   "source": [
    "arr[0, ...]"
   ]
  },
  {
   "cell_type": "code",
   "execution_count": 48,
   "metadata": {},
   "outputs": [
    {
     "name": "stdout",
     "output_type": "stream",
     "text": [
      "[[['aaa' 'aab' 'aac' 'aad']\n",
      "  ['aba' 'abb' 'abc' 'abd']\n",
      "  ['aca' 'acb' 'acc' 'acd']\n",
      "  ['ada' 'adb' 'adc' 'add']]\n",
      "\n",
      " [['baa' 'bab' 'bac' 'bad']\n",
      "  ['bba' 'bbb' 'bbc' 'bbd']\n",
      "  ['bca' 'bcb' 'bcc' 'bcd']\n",
      "  ['bda' 'bdb' 'bdc' 'bdd']]\n",
      "\n",
      " [['caa' 'cab' 'cac' 'cad']\n",
      "  ['cba' 'cbb' 'cbc' 'cbd']\n",
      "  ['cca' 'ccb' 'ccc' 'ccd']\n",
      "  ['cda' 'cdb' 'cdc' 'cdd']]\n",
      "\n",
      " [['daa' 'dab' 'dac' 'dad']\n",
      "  ['dba' 'dbb' 'dbc' 'dbd']\n",
      "  ['dca' 'dcb' 'dcc' 'dcd']\n",
      "  ['dda' 'ddb' 'ddc' 'ddd']]]\n"
     ]
    }
   ],
   "source": [
    "import numpy as np\n",
    "\n",
    "# 元のリスト\n",
    "elements = [\"a\", \"b\", \"c\", \"d\"]\n",
    "\n",
    "# 3つの要素の組み合わせを3階テンソルとして生成\n",
    "tensor = np.array([[[f\"{x}{y}{z}\" for z in elements] \n",
    "                     for y in elements] \n",
    "                     for x in elements])\n",
    "\n",
    "print(tensor)\n"
   ]
  },
  {
   "cell_type": "code",
   "execution_count": 50,
   "metadata": {},
   "outputs": [
    {
     "data": {
      "text/plain": [
       "array([['aaa', 'aba', 'aca', 'ada'],\n",
       "       ['baa', 'bba', 'bca', 'bda'],\n",
       "       ['caa', 'cba', 'cca', 'cda'],\n",
       "       ['daa', 'dba', 'dca', 'dda']], dtype='<U3')"
      ]
     },
     "execution_count": 50,
     "metadata": {},
     "output_type": "execute_result"
    }
   ],
   "source": [
    "tensor[(..., 0)]"
   ]
  },
  {
   "cell_type": "code",
   "execution_count": 54,
   "metadata": {},
   "outputs": [
    {
     "data": {
      "text/plain": [
       "array([['aaa', 'aab', 'aac', 'aad'],\n",
       "       ['aba', 'abb', 'abc', 'abd'],\n",
       "       ['aca', 'acb', 'acc', 'acd'],\n",
       "       ['ada', 'adb', 'adc', 'add']], dtype='<U3')"
      ]
     },
     "execution_count": 54,
     "metadata": {},
     "output_type": "execute_result"
    }
   ],
   "source": [
    "tensor[0, ...]"
   ]
  },
  {
   "cell_type": "code",
   "execution_count": 4,
   "metadata": {},
   "outputs": [],
   "source": [
    "import numpy as np"
   ]
  },
  {
   "cell_type": "code",
   "execution_count": 5,
   "metadata": {},
   "outputs": [],
   "source": [
    "def build_constraint_warcraft(map_shape: tuple[int, int]) -> np.ndarray:\n",
    "    # Directions dictionary\n",
    "    directions_dict = {\n",
    "        \"oo\": np.array([0, 0]),\n",
    "        \"ab\": np.array([1, 1]),\n",
    "        \"ac\": np.array([0, 2]),\n",
    "        \"ad\": np.array([1, 1]),\n",
    "        \"bc\": np.array([1, 1]),\n",
    "        \"bd\": np.array([2, 0]),\n",
    "        \"cd\": np.array([1, 1]),\n",
    "    }\n",
    "\n",
    "    directions_list = list(directions_dict.keys())\n",
    "\n",
    "    # Map parameters\n",
    "    map_length = map_shape[0] * map_shape[1]\n",
    "    ideal_gain = (map_shape[0] + map_shape[1] - 1) * 2\n",
    "\n",
    "    # Initialize constraints as NumPy arrays\n",
    "    tensor_constraint_1 = np.zeros((len(directions_list),) * map_length)\n",
    "    tensor_constraint_2 = np.zeros((len(directions_list),) * map_length)\n",
    "    tensor_constraint_3 = np.zeros((len(directions_list),) * map_length)\n",
    "\n",
    "    # Constraint 1: (0, 0) != \"oo\", \"ab\"\n",
    "    for direction in directions_list:\n",
    "        if direction not in [\"oo\", \"ab\"]:\n",
    "            tensor_constraint_1[directions_list.index(direction), ...] = 1\n",
    "\n",
    "    # Constraint 2: (map_shape[0] - 1, map_shape[1] - 1) != \"oo\", \"cd\"\n",
    "    for direction in directions_list:\n",
    "        if direction not in [\"oo\", \"cd\"]:\n",
    "            tensor_constraint_2[..., directions_list.index(direction)] = 1\n",
    "\n",
    "    # Constraint 3: len[path] == map_shape[0] * map_shape[1]\n",
    "    for index, _ in np.ndenumerate(tensor_constraint_3):\n",
    "        gain = np.sum([directions_dict[directions_list[idx]].sum() for idx in index])\n",
    "        if gain == ideal_gain:\n",
    "            tensor_constraint_3[index] = 1\n",
    "\n",
    "    # Combine constraints with logical AND\n",
    "    tensor_constraint = np.logical_and(\n",
    "        tensor_constraint_1,\n",
    "        np.logical_and(tensor_constraint_2, tensor_constraint_3)\n",
    "    )\n",
    "\n",
    "    return tensor_constraint"
   ]
  },
  {
   "cell_type": "code",
   "execution_count": 6,
   "metadata": {},
   "outputs": [],
   "source": [
    "tensor = build_constraint_warcraft((1, 2))"
   ]
  },
  {
   "cell_type": "code",
   "execution_count": 8,
   "metadata": {},
   "outputs": [
    {
     "data": {
      "text/plain": [
       "array([[ True,  True,  True,  True,  True,  True,  True],\n",
       "       [ True,  True,  True,  True,  True,  True,  True],\n",
       "       [ True, False, False, False, False, False,  True],\n",
       "       [ True, False, False, False, False, False,  True],\n",
       "       [ True, False, False, False, False, False,  True],\n",
       "       [ True, False, False, False, False, False,  True],\n",
       "       [ True, False, False, False, False, False,  True]])"
      ]
     },
     "execution_count": 8,
     "metadata": {},
     "output_type": "execute_result"
    }
   ],
   "source": [
    "~tensor"
   ]
  },
  {
   "cell_type": "code",
   "execution_count": null,
   "metadata": {},
   "outputs": [],
   "source": []
  }
 ],
 "metadata": {
  "kernelspec": {
   "display_name": "bo-env_v3",
   "language": "python",
   "name": "python3"
  },
  "language_info": {
   "codemirror_mode": {
    "name": "ipython",
    "version": 3
   },
   "file_extension": ".py",
   "mimetype": "text/x-python",
   "name": "python",
   "nbconvert_exporter": "python",
   "pygments_lexer": "ipython3",
   "version": "3.12.6"
  }
 },
 "nbformat": 4,
 "nbformat_minor": 2
}
