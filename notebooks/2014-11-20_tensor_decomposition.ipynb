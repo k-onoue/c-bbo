{
 "cells": [
  {
   "cell_type": "code",
   "execution_count": null,
   "metadata": {},
   "outputs": [],
   "source": [
    "import numpy as np\n",
    "import tensorly as tl\n",
    "from tensorly.decomposition import parafac\n",
    "\n",
    "# TensorlyのデフォルトバックエンドをNumPyに設定\n",
    "tl.set_backend('numpy')\n",
    "\n",
    "# ランダムなテンソルを生成\n",
    "shape = (4, 5, 6)  # テンソルのサイズ\n",
    "rank = 3  # 分解するランク\n",
    "\n",
    "np.random.seed(42)  # 再現性のためのシード設定\n",
    "tensor = np.random.random(shape)\n",
    "\n",
    "# マスクを生成 (0または1の値で、一部の要素をマスク)\n",
    "mask = np.random.choice([0, 1], size=shape, p=[0.2, 0.8])  # 20%の要素をマスク\n",
    "\n",
    "# マスクを適用したテンソル\n",
    "masked_tensor = tensor * mask\n",
    "\n",
    "# CP分解 (マスクを利用)\n",
    "weights, factors = parafac(masked_tensor, rank=rank, mask=mask, init='random', n_iter_max=100, tol=1e-6)\n",
    "\n",
    "# 分解結果を表示\n",
    "print(\"Weights:\")\n",
    "print(weights)\n",
    "\n",
    "print(\"\\nFactors:\")\n",
    "for i, factor in enumerate(factors):\n",
    "    print(f\"Factor {i+1}:\")\n",
    "    print(factor)\n",
    "\n",
    "# 分解の再構成 (元のテンソルに近似)\n",
    "reconstructed_tensor = tl.cp_to_tensor((weights, factors))\n",
    "\n",
    "# 再構成エラーの計算 (元のテンソルと比較)\n",
    "error = tl.norm(tensor - reconstructed_tensor) / tl.norm(tensor)\n",
    "print(f\"\\nReconstruction Error: {error}\")\n",
    "\n",
    "# マスクされた部分のエラーを確認\n",
    "masked_error = tl.norm((tensor - reconstructed_tensor) * mask) / tl.norm(masked_tensor)\n",
    "print(f\"Reconstruction Error on Masked Elements: {masked_error}\")\n"
   ]
  },
  {
   "cell_type": "code",
   "execution_count": null,
   "metadata": {},
   "outputs": [],
   "source": []
  },
  {
   "cell_type": "code",
   "execution_count": null,
   "metadata": {},
   "outputs": [],
   "source": []
  },
  {
   "cell_type": "code",
   "execution_count": null,
   "metadata": {},
   "outputs": [],
   "source": []
  },
  {
   "cell_type": "code",
   "execution_count": null,
   "metadata": {},
   "outputs": [],
   "source": []
  },
  {
   "cell_type": "code",
   "execution_count": null,
   "metadata": {},
   "outputs": [],
   "source": []
  },
  {
   "cell_type": "code",
   "execution_count": null,
   "metadata": {},
   "outputs": [],
   "source": []
  },
  {
   "cell_type": "code",
   "execution_count": null,
   "metadata": {},
   "outputs": [],
   "source": []
  },
  {
   "cell_type": "code",
   "execution_count": null,
   "metadata": {},
   "outputs": [],
   "source": []
  },
  {
   "cell_type": "code",
   "execution_count": null,
   "metadata": {},
   "outputs": [],
   "source": []
  }
 ],
 "metadata": {
  "kernelspec": {
   "display_name": "bo-env_v3",
   "language": "python",
   "name": "python3"
  },
  "language_info": {
   "name": "python",
   "version": "3.12.6"
  }
 },
 "nbformat": 4,
 "nbformat_minor": 2
}
