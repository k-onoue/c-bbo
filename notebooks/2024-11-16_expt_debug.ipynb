{
 "cells": [
  {
   "cell_type": "code",
   "execution_count": 3,
   "metadata": {},
   "outputs": [
    {
     "data": {
      "text/plain": [
       "[]"
      ]
     },
     "execution_count": 3,
     "metadata": {},
     "output_type": "execute_result"
    }
   ],
   "source": [
    "import os\n",
    "\n",
    "# Directory containing the log files\n",
    "log_dir = \"/Users/keisukeonoue/ws/constrained_BO_v3/results/2024-11-16_20-00-51\"\n",
    "\n",
    "# Files that do not contain 'Best params'\n",
    "files_without_best_params = []\n",
    "\n",
    "# Check each file for the string 'Best params'\n",
    "for file_name in os.listdir(log_dir):\n",
    "    if file_name.endswith(\".log\"):\n",
    "        file_path = os.path.join(log_dir, file_name)\n",
    "        with open(file_path, 'r', encoding='utf-8') as file:\n",
    "            content = file.read()\n",
    "            if 'Best params' not in content:\n",
    "                files_without_best_params.append(file_name)\n",
    "\n",
    "# Output files without 'Best params'\n",
    "files_without_best_params\n"
   ]
  },
  {
   "cell_type": "code",
   "execution_count": 4,
   "metadata": {},
   "outputs": [
    {
     "data": {
      "text/plain": [
       "[]"
      ]
     },
     "execution_count": 4,
     "metadata": {},
     "output_type": "execute_result"
    }
   ],
   "source": [
    "import os\n",
    "\n",
    "# Directory containing the log files\n",
    "log_dir = \"/Users/keisukeonoue/ws/constrained_BO_v3/results/2024-11-16_20-46-18\"\n",
    "\n",
    "# Files that do not contain 'Best params'\n",
    "files_without_best_params = []\n",
    "\n",
    "# Check each file for the string 'Best params'\n",
    "for file_name in os.listdir(log_dir):\n",
    "    if file_name.endswith(\".log\"):\n",
    "        file_path = os.path.join(log_dir, file_name)\n",
    "        with open(file_path, 'r', encoding='utf-8') as file:\n",
    "            content = file.read()\n",
    "            if 'Best params' not in content:\n",
    "                files_without_best_params.append(file_name)\n",
    "\n",
    "# Output files without 'Best params'\n",
    "files_without_best_params\n"
   ]
  },
  {
   "cell_type": "code",
   "execution_count": null,
   "metadata": {},
   "outputs": [],
   "source": []
  },
  {
   "cell_type": "code",
   "execution_count": null,
   "metadata": {},
   "outputs": [],
   "source": []
  },
  {
   "cell_type": "code",
   "execution_count": null,
   "metadata": {},
   "outputs": [],
   "source": []
  },
  {
   "cell_type": "code",
   "execution_count": null,
   "metadata": {},
   "outputs": [],
   "source": []
  },
  {
   "cell_type": "code",
   "execution_count": null,
   "metadata": {},
   "outputs": [],
   "source": []
  },
  {
   "cell_type": "code",
   "execution_count": null,
   "metadata": {},
   "outputs": [],
   "source": []
  },
  {
   "cell_type": "code",
   "execution_count": null,
   "metadata": {},
   "outputs": [],
   "source": []
  }
 ],
 "metadata": {
  "kernelspec": {
   "display_name": "bo-env_v3",
   "language": "python",
   "name": "python3"
  },
  "language_info": {
   "codemirror_mode": {
    "name": "ipython",
    "version": 3
   },
   "file_extension": ".py",
   "mimetype": "text/x-python",
   "name": "python",
   "nbconvert_exporter": "python",
   "pygments_lexer": "ipython3",
   "version": "3.12.6"
  }
 },
 "nbformat": 4,
 "nbformat_minor": 2
}
