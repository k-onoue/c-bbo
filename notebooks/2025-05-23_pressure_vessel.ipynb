{
 "cells": [
  {
   "cell_type": "code",
   "execution_count": 5,
   "id": "b84ed115",
   "metadata": {},
   "outputs": [
    {
     "name": "stdout",
     "output_type": "stream",
     "text": [
      "f(x_sample) = 15.901800781250001\n",
      "g(x_sample) = [[ 1.30500000e-01  3.29000000e-02  1.28866962e+06 -2.30000000e+02]]\n"
     ]
    }
   ],
   "source": [
    "import numpy as np\n",
    "\n",
    "# Objective function\n",
    "# x: array-like of shape (..., 4) representing [x1, x2, x3, x4]\n",
    "def objective(x):\n",
    "    x = np.asarray(x)\n",
    "    # ensure last dimension is 4\n",
    "    if x.ndim == 1:\n",
    "        x1, x2, x3, x4 = x\n",
    "    else:\n",
    "        x1, x2, x3, x4 = x[..., 0], x[..., 1], x[..., 2], x[..., 3]\n",
    "    return (\n",
    "        0.6224 * x1 * x3 * x4\n",
    "        + 1.7781 * x2 * x3**2\n",
    "        + 3.1661 * x1**2 * x4\n",
    "        + 19.84  * x1**2 * x3\n",
    "    )\n",
    "\n",
    "# Constraint functions g_i(x) <= 0\n",
    "# Returns array of shape (..., 4)\n",
    "def constraints(x):\n",
    "    x = np.asarray(x)\n",
    "    if x.ndim == 1:\n",
    "        x = x[np.newaxis, :]\n",
    "    x1, x2, x3, x4 = x[..., 0], x[..., 1], x[..., 2], x[..., 3]\n",
    "    g1 = -x1 + 0.0193 * x3\n",
    "    g2 = -x2 + 0.00954 * x3\n",
    "    g3 = -np.pi * x3**2 * x4 - (4.0/3.0) * np.pi * x3**3 + 1_296_000\n",
    "    g4 = x4 - 240\n",
    "    return np.stack([g1, g2, g3, g4], axis=-1)\n",
    "\n",
    "# Variable bounds and steps:\n",
    "x1_vals = np.arange(0.0625, 6.1875 + 1e-8, 0.0625)\n",
    "x2_vals = np.arange(0.0625, 0.625  + 1e-8, 0.0625)\n",
    "x3_bounds = (10.0, 200.0)\n",
    "x4_bounds = (10.0, 200.0)\n",
    "\n",
    "# Example: evaluate objective and constraints at a sample point\n",
    "x_sample = np.array([0.0625, 0.0625, 10.0, 10.0])\n",
    "print(\"f(x_sample) =\", objective(x_sample))\n",
    "print(\"g(x_sample) =\", constraints(x_sample))\n"
   ]
  },
  {
   "cell_type": "code",
   "execution_count": 6,
   "id": "b57cae6a",
   "metadata": {},
   "outputs": [
    {
     "name": "stdout",
     "output_type": "stream",
     "text": [
      "f(x_sample) = 755.2680078125\n",
      "g(x_sample) = [[ 9.0250000e-01  3.5200000e-01 -1.2996939e+04 -1.4000000e+02]]\n",
      "category_x1 = [(np.float64(0.0625), np.float64(1.2875)), (np.float64(1.2875), np.float64(2.5125)), (np.float64(2.5125), np.float64(3.7375000000000003)), (np.float64(3.7375000000000003), np.float64(4.9625)), (np.float64(4.9625), np.float64(6.1875))]\n",
      "category_x2 = [np.float64(0.0625), np.float64(0.125), np.float64(0.1875), np.float64(0.25), np.float64(0.3125), np.float64(0.375), np.float64(0.4375), np.float64(0.5), np.float64(0.5625), np.float64(0.625)]\n",
      "category_x3 = [(np.float64(10.0), np.float64(48.0)), (np.float64(48.0), np.float64(86.0)), (np.float64(86.0), np.float64(124.0)), (np.float64(124.0), np.float64(162.0)), (np.float64(162.0), np.float64(200.0))]\n",
      "category_x4 = [(np.float64(10.0), np.float64(48.0)), (np.float64(48.0), np.float64(86.0)), (np.float64(86.0), np.float64(124.0)), (np.float64(124.0), np.float64(162.0)), (np.float64(162.0), np.float64(200.0))]\n"
     ]
    }
   ],
   "source": [
    "import numpy as np\n",
    "\n",
    "# 変数の全取りうる値の定義\n",
    "x1_min, x1_max = 0.0625, 6.1875\n",
    "x2_vals = np.arange(0.0625, 0.625 + 1e-8, 0.0625)\n",
    "x3_min, x3_max = 10.0, 200.0\n",
    "x4_min, x4_max = 10.0, 200.0\n",
    "\n",
    "# 目的関数\n",
    "# x: array-like of shape (..., 4) representing [x1, x2, x3, x4]\n",
    "def objective(x):\n",
    "    x = np.asarray(x)\n",
    "    if x.ndim == 1:\n",
    "        x1, x2, x3, x4 = x\n",
    "    else:\n",
    "        x1, x2, x3, x4 = x[..., 0], x[..., 1], x[..., 2], x[..., 3]\n",
    "    return (\n",
    "        0.6224 * x1 * x3 * x4\n",
    "        + 1.7781 * x2 * x3**2\n",
    "        + 3.1661 * x1**2 * x4\n",
    "        + 19.84  * x1**2 * x3\n",
    "    )\n",
    "\n",
    "# 制約関数 g_i(x) <= 0 をまとめて評価\n",
    "# 戻り値は (...,4) の array\n",
    "def constraints(x):\n",
    "    x = np.asarray(x)\n",
    "    if x.ndim == 1:\n",
    "        x = x[np.newaxis, :]\n",
    "    x1, x2, x3, x4 = x[..., 0], x[..., 1], x[..., 2], x[..., 3]\n",
    "    g1 = -x1 + 0.0193 * x3\n",
    "    g2 = -x2 + 0.00954 * x3\n",
    "    g3 = -np.pi * x3**2 * x4 - (4.0/3.0) * np.pi * x3**3 + 1_296_000\n",
    "    g4 = x4 - 240\n",
    "    return np.stack([g1, g2, g3, g4], axis=-1)\n",
    "\n",
    "# カテゴリ分け\n",
    "# x1, x3, x4 はそれぞれ区間 [min, max] を 5 つの等長区間に分割\n",
    "edges_x1 = np.linspace(x1_min, x1_max, 6)\n",
    "edges_x3 = np.linspace(x3_min, x3_max, 6)\n",
    "edges_x4 = np.linspace(x4_min, x4_max, 6)\n",
    "category_x1 = [(edges_x1[i], edges_x1[i+1]) for i in range(5)]\n",
    "category_x3 = [(edges_x3[i], edges_x3[i+1]) for i in range(5)]\n",
    "category_x4 = [(edges_x4[i], edges_x4[i+1]) for i in range(5)]\n",
    "# x2 は与えられたカテゴリをそのまま使用\n",
    "category_x2 = list(x2_vals)\n",
    "\n",
    "# サンプル評価例\n",
    "x_sample = np.array([0.0625, 0.125, 50.0, 100.0])\n",
    "print(\"f(x_sample) =\", objective(x_sample))\n",
    "print(\"g(x_sample) =\", constraints(x_sample))\n",
    "print(\"category_x1 =\", category_x1)\n",
    "print(\"category_x2 =\", category_x2)\n",
    "print(\"category_x3 =\", category_x3)\n",
    "print(\"category_x4 =\", category_x4)\n"
   ]
  },
  {
   "cell_type": "code",
   "execution_count": 7,
   "id": "fa39a160",
   "metadata": {},
   "outputs": [
    {
     "data": {
      "text/plain": [
       "(5, 10, 5, 5)"
      ]
     },
     "execution_count": 7,
     "metadata": {},
     "output_type": "execute_result"
    }
   ],
   "source": [
    "len(category_x1), len(category_x2), len(category_x3), len(category_x4)"
   ]
  },
  {
   "cell_type": "code",
   "execution_count": 43,
   "id": "01a3ee9a",
   "metadata": {},
   "outputs": [
    {
     "name": "stdout",
     "output_type": "stream",
     "text": [
      "tensor_objective.shape = (5, 10, 5, 5)\n",
      "tensor_constraint.shape = (5, 10, 5, 5)\n"
     ]
    }
   ],
   "source": [
    "import numpy as np\n",
    "\n",
    "# 変数の全取りうる値の定義\n",
    "x1_min, x1_max = 0.0625, 6.1875\n",
    "x2_vals = np.arange(0.0625, 0.625 + 1e-8, 0.0625)\n",
    "x3_min, x3_max = 10.0, 200.0\n",
    "x4_min, x4_max = 10.0, 200.0\n",
    "\n",
    "# 目的関数\n",
    "def objective(x):\n",
    "    x = np.asarray(x)\n",
    "    x1, x2, x3, x4 = x[..., 0], x[..., 1], x[..., 2], x[..., 3]\n",
    "    return (\n",
    "        0.6224 * x1 * x3 * x4\n",
    "        + 1.7781 * x2 * x3**2\n",
    "        + 3.1661 * x1**2 * x4\n",
    "        + 19.84  * x1**2 * x3\n",
    "    )\n",
    "\n",
    "# 制約関数 g_i(x) <= 0 をまとめて評価\n",
    "# 戻り値は (...,4) の array\n",
    "def constraints(x):\n",
    "    x = np.asarray(x)\n",
    "    if x.ndim == 1:\n",
    "        x = x[np.newaxis, :]\n",
    "    x1, x2, x3, x4 = x[..., 0], x[..., 1], x[..., 2], x[..., 3]\n",
    "    g1 = -x1 + 0.0193 * x3\n",
    "    g2 = -x2 + 0.00954 * x3\n",
    "    g3 = -np.pi * x3**2 * x4 - (4.0/3.0) * np.pi * x3**3 + 1_296_000\n",
    "    g4 = x4 - 240\n",
    "    return np.stack([g1, g2, g3, g4], axis=-1)\n",
    "\n",
    "def constraints(x):\n",
    "    x = np.asarray(x)\n",
    "    if x.ndim == 1:\n",
    "        x = x[np.newaxis, :]\n",
    "    x1, x2, x3, x4 = x[..., 0], x[..., 1], x[..., 2], x[..., 3]\n",
    "    g1 = -x1 + 0.0193 * x3\n",
    "    g2 = -x2 + 0.00954 * x3\n",
    "    # g3 = -np.pi * x3**2 * x4 - (4.0/3.0) * np.pi * x3**3 + 1_296_000\n",
    "    # g4 = x4 - 240\n",
    "    return np.stack([g1, g2], axis=-1)\n",
    "\n",
    "# カテゴリ分け\n",
    "edges_x3 = np.linspace(x3_min, x3_max, 6)\n",
    "edges_x4 = np.linspace(x4_min, x4_max, 6)\n",
    "edges_x1 = np.linspace(x1_min, x1_max, 6)\n",
    "category_x1 = [(edges_x1[i], edges_x1[i+1]) for i in range(5)]\n",
    "category_x2 = list(x2_vals)\n",
    "category_x3 = [(edges_x3[i], edges_x3[i+1]) for i in range(5)]\n",
    "category_x4 = [(edges_x4[i], edges_x4[i+1]) for i in range(5)]\n",
    "\n",
    "# 各カテゴリの代表値（中央値）を算出\n",
    "mid_x1 = np.array([(low+high)/2 for low,high in category_x1])\n",
    "mid_x2 = np.array(category_x2)\n",
    "mid_x3 = np.array([(low+high)/2 for low,high in category_x3])\n",
    "mid_x4 = np.array([(low+high)/2 for low,high in category_x4])\n",
    "\n",
    "# テンソルの初期化\n",
    "shape = (len(mid_x1), len(mid_x2), len(mid_x3), len(mid_x4))\n",
    "# 目的関数値\n",
    "tensor_objective = np.empty(shape)\n",
    "# 全制約を満たすかどうかをブール値で格納 (and 条件)\n",
    "tensor_constraint = np.empty(shape, dtype=bool)\n",
    "\n",
    "# ネストループで全組み合わせを評価\n",
    "for i, a in enumerate(mid_x1):\n",
    "    for j, b in enumerate(mid_x2):\n",
    "        for k, c in enumerate(mid_x3):\n",
    "            for l, d in enumerate(mid_x4):\n",
    "                x = np.array([a, b, c, d])\n",
    "                tensor_objective[i, j, k, l] = objective(x)\n",
    "                # 全制約 g1...g4 <= 0 を and で結合\n",
    "                g_vals = constraints(x).flatten()\n",
    "                tensor_constraint[i, j, k, l] = np.all(g_vals <= 0)\n",
    "\n",
    "# 結果の形状確認\n",
    "print(\"tensor_objective.shape =\", tensor_objective.shape)\n",
    "print(\"tensor_constraint.shape =\", tensor_constraint.shape)\n"
   ]
  },
  {
   "cell_type": "code",
   "execution_count": 44,
   "metadata": {},
   "outputs": [
    {
     "data": {
      "text/plain": [
       "(np.float64(279507.4054855625), np.float64(750.7647763125001))"
      ]
     },
     "execution_count": 44,
     "metadata": {},
     "output_type": "execute_result"
    }
   ],
   "source": [
    "tensor_objective.max(), tensor_objective.min()"
   ]
  },
  {
   "cell_type": "code",
   "execution_count": 45,
   "id": "9991a964",
   "metadata": {},
   "outputs": [
    {
     "data": {
      "text/plain": [
       "np.int64(150)"
      ]
     },
     "execution_count": 45,
     "metadata": {},
     "output_type": "execute_result"
    }
   ],
   "source": [
    "tensor_constraint.sum()"
   ]
  },
  {
   "cell_type": "code",
   "execution_count": 38,
   "id": "4ea7081a",
   "metadata": {},
   "outputs": [
    {
     "data": {
      "text/plain": [
       "[(np.float64(0.0625), np.float64(1.2875)),\n",
       " (np.float64(1.2875), np.float64(2.5125)),\n",
       " (np.float64(2.5125), np.float64(3.7375000000000003)),\n",
       " (np.float64(3.7375000000000003), np.float64(4.9625)),\n",
       " (np.float64(4.9625), np.float64(6.1875))]"
      ]
     },
     "execution_count": 38,
     "metadata": {},
     "output_type": "execute_result"
    }
   ],
   "source": [
    "category_x1"
   ]
  },
  {
   "cell_type": "code",
   "execution_count": 39,
   "id": "65517a3a",
   "metadata": {},
   "outputs": [
    {
     "data": {
      "text/plain": [
       "array([0.675, 1.9  , 3.125, 4.35 , 5.575])"
      ]
     },
     "execution_count": 39,
     "metadata": {},
     "output_type": "execute_result"
    }
   ],
   "source": [
    "mid_x1"
   ]
  },
  {
   "cell_type": "code",
   "execution_count": null,
   "id": "b0f6d8e7",
   "metadata": {},
   "outputs": [],
   "source": []
  },
  {
   "cell_type": "code",
   "execution_count": null,
   "id": "2cbcc74d",
   "metadata": {},
   "outputs": [],
   "source": []
  },
  {
   "cell_type": "code",
   "execution_count": null,
   "metadata": {},
   "outputs": [],
   "source": []
  }
 ],
 "metadata": {
  "kernelspec": {
   "display_name": ".venv-cbbo",
   "language": "python",
   "name": "python3"
  },
  "language_info": {
   "codemirror_mode": {
    "name": "ipython",
    "version": 3
   },
   "file_extension": ".py",
   "mimetype": "text/x-python",
   "name": "python",
   "nbconvert_exporter": "python",
   "pygments_lexer": "ipython3",
   "version": "3.11.12"
  }
 },
 "nbformat": 4,
 "nbformat_minor": 5
}
